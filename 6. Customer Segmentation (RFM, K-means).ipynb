{
 "cells": [
  {
   "cell_type": "markdown",
   "metadata": {},
   "source": [
    "# 基于RFM和K-Means的用户分群\n",
    "在本项目中，我们基于用户购买数据（Transaction Data)做用户的分群，使用的方法一次是RFM模型和K-means算法。 通过本项目的练习，你即将会学到如何使用RFM和K-means的使用，以及它们之间的区别。 在很多的精准化营销场景，我们经常通过使用RFM模型做用户分群，然后针对于每一类用户做个性化的营销方案。最经典的例子是，把用户分为金牌用户、银牌用户，普通用户等。\n",
    "\n",
    "- ```使用的数据```：```OnlineClean.xlsx```:  原始是数据：http://archive.ics.uci.edu/ml/datasets/online+retail\n",
    "本项目中使用的数据是已经经过清洗之后的，原始数据的话需要大量的清洗工作。 所以大家不用担心如何清洗，因为已经都做过了。 "
   ]
  },
  {
   "cell_type": "code",
   "execution_count": 143,
   "metadata": {},
   "outputs": [],
   "source": [
    "import pandas as pd\n",
    "import numpy as np\n",
    "import datetime as dt"
   ]
  },
  {
   "cell_type": "code",
   "execution_count": 144,
   "metadata": {},
   "outputs": [
    {
     "data": {
      "text/html": [
       "<div>\n",
       "<table border=\"1\" class=\"dataframe\">\n",
       "  <thead>\n",
       "    <tr style=\"text-align: right;\">\n",
       "      <th></th>\n",
       "      <th>InvoiceNo</th>\n",
       "      <th>StockCode</th>\n",
       "      <th>Description</th>\n",
       "      <th>Quantity</th>\n",
       "      <th>InvoiceDate</th>\n",
       "      <th>UnitPrice</th>\n",
       "      <th>CustomerID</th>\n",
       "      <th>Country</th>\n",
       "    </tr>\n",
       "  </thead>\n",
       "  <tbody>\n",
       "    <tr>\n",
       "      <th>0</th>\n",
       "      <td>536365</td>\n",
       "      <td>85123A</td>\n",
       "      <td>WHITE HANGING HEART T-LIGHT HOLDER</td>\n",
       "      <td>6</td>\n",
       "      <td>2010-12-01 08:26:00</td>\n",
       "      <td>2.55</td>\n",
       "      <td>17850</td>\n",
       "      <td>United Kingdom</td>\n",
       "    </tr>\n",
       "    <tr>\n",
       "      <th>1</th>\n",
       "      <td>536365</td>\n",
       "      <td>71053</td>\n",
       "      <td>WHITE METAL LANTERN</td>\n",
       "      <td>6</td>\n",
       "      <td>2010-12-01 08:26:00</td>\n",
       "      <td>3.39</td>\n",
       "      <td>17850</td>\n",
       "      <td>United Kingdom</td>\n",
       "    </tr>\n",
       "    <tr>\n",
       "      <th>2</th>\n",
       "      <td>536365</td>\n",
       "      <td>84406B</td>\n",
       "      <td>CREAM CUPID HEARTS COAT HANGER</td>\n",
       "      <td>8</td>\n",
       "      <td>2010-12-01 08:26:00</td>\n",
       "      <td>2.75</td>\n",
       "      <td>17850</td>\n",
       "      <td>United Kingdom</td>\n",
       "    </tr>\n",
       "    <tr>\n",
       "      <th>3</th>\n",
       "      <td>536365</td>\n",
       "      <td>84029G</td>\n",
       "      <td>KNITTED UNION FLAG HOT WATER BOTTLE</td>\n",
       "      <td>6</td>\n",
       "      <td>2010-12-01 08:26:00</td>\n",
       "      <td>3.39</td>\n",
       "      <td>17850</td>\n",
       "      <td>United Kingdom</td>\n",
       "    </tr>\n",
       "    <tr>\n",
       "      <th>4</th>\n",
       "      <td>536365</td>\n",
       "      <td>84029E</td>\n",
       "      <td>RED WOOLLY HOTTIE WHITE HEART.</td>\n",
       "      <td>6</td>\n",
       "      <td>2010-12-01 08:26:00</td>\n",
       "      <td>3.39</td>\n",
       "      <td>17850</td>\n",
       "      <td>United Kingdom</td>\n",
       "    </tr>\n",
       "  </tbody>\n",
       "</table>\n",
       "</div>"
      ],
      "text/plain": [
       "   InvoiceNo StockCode                          Description  Quantity  \\\n",
       "0     536365    85123A   WHITE HANGING HEART T-LIGHT HOLDER         6   \n",
       "1     536365     71053                  WHITE METAL LANTERN         6   \n",
       "2     536365    84406B       CREAM CUPID HEARTS COAT HANGER         8   \n",
       "3     536365    84029G  KNITTED UNION FLAG HOT WATER BOTTLE         6   \n",
       "4     536365    84029E       RED WOOLLY HOTTIE WHITE HEART.         6   \n",
       "\n",
       "          InvoiceDate  UnitPrice  CustomerID         Country  \n",
       "0 2010-12-01 08:26:00       2.55       17850  United Kingdom  \n",
       "1 2010-12-01 08:26:00       3.39       17850  United Kingdom  \n",
       "2 2010-12-01 08:26:00       2.75       17850  United Kingdom  \n",
       "3 2010-12-01 08:26:00       3.39       17850  United Kingdom  \n",
       "4 2010-12-01 08:26:00       3.39       17850  United Kingdom  "
      ]
     },
     "execution_count": 144,
     "metadata": {},
     "output_type": "execute_result"
    }
   ],
   "source": [
    "# 读取transaction数据, 数据有些大，读取会需要点时间，耐心等几秒...\n",
    "df = pd.read_excel('OnlineClean.xlsx')\n",
    "df.head()"
   ]
  },
  {
   "cell_type": "code",
   "execution_count": 145,
   "metadata": {},
   "outputs": [
    {
     "data": {
      "text/plain": [
       "397884"
      ]
     },
     "execution_count": 145,
     "metadata": {},
     "output_type": "execute_result"
    }
   ],
   "source": [
    "len(df)"
   ]
  },
  {
   "cell_type": "markdown",
   "metadata": {},
   "source": [
    "对于上面的数据稍作解释一下。\n",
    "- InvoiceNo: 每一次的Transaction的unique number. 比如你去了超市，买了5件东西，那这些东西就构成一个InvoiceNo\n",
    "- StockCode: 表示的是每一件商品的unique number. \n",
    "- Description: 商品的描述\n",
    "- Quantity: 购买的数量\n",
    "- InvoiceDate: Transaction的时间\n",
    "- UnitPrice: 每一件商品的价格\n",
    "- CustomerID: 用户ID\n",
    "- Country: 国家"
   ]
  },
  {
   "cell_type": "code",
   "execution_count": 146,
   "metadata": {},
   "outputs": [],
   "source": [
    "# 对于时间属性做个转换，只保留年月日\n",
    "df['InvoiceDate'] = df['InvoiceDate'].dt.date"
   ]
  },
  {
   "cell_type": "code",
   "execution_count": 147,
   "metadata": {},
   "outputs": [
    {
     "name": "stdout",
     "output_type": "stream",
     "text": [
      "Min date = 2010-12-01, Max date = 2011-12-09\n"
     ]
    }
   ],
   "source": [
    "# 一般情况下，在使用RFM模型的时候，一般需要过去一年的Transaction数据。为了提取过去一年的数据，我们首先对时间做一下处理。 \n",
    "print('Min date = {}, Max date = {}'.format(min(df.InvoiceDate), max(df.InvoiceDate)))"
   ]
  },
  {
   "cell_type": "markdown",
   "metadata": {},
   "source": [
    "从以上的输出可以看到，时间比一年稍微多点。所以我们就把2010-12-01到 2010-12-09忽略不计，从 2010-12-10开始算到2011-12-09， 这样就刚好一年的时间。 "
   ]
  },
  {
   "cell_type": "code",
   "execution_count": 148,
   "metadata": {},
   "outputs": [
    {
     "data": {
      "text/html": [
       "<div>\n",
       "<table border=\"1\" class=\"dataframe\">\n",
       "  <thead>\n",
       "    <tr style=\"text-align: right;\">\n",
       "      <th></th>\n",
       "      <th>InvoiceNo</th>\n",
       "      <th>StockCode</th>\n",
       "      <th>Description</th>\n",
       "      <th>Quantity</th>\n",
       "      <th>InvoiceDate</th>\n",
       "      <th>UnitPrice</th>\n",
       "      <th>CustomerID</th>\n",
       "      <th>Country</th>\n",
       "    </tr>\n",
       "  </thead>\n",
       "  <tbody>\n",
       "    <tr>\n",
       "      <th>22523</th>\n",
       "      <td>538172</td>\n",
       "      <td>21562</td>\n",
       "      <td>HAWAIIAN GRASS SKIRT</td>\n",
       "      <td>12</td>\n",
       "      <td>2010-12-10</td>\n",
       "      <td>1.25</td>\n",
       "      <td>15805</td>\n",
       "      <td>United Kingdom</td>\n",
       "    </tr>\n",
       "    <tr>\n",
       "      <th>22524</th>\n",
       "      <td>538172</td>\n",
       "      <td>79321</td>\n",
       "      <td>CHILLI LIGHTS</td>\n",
       "      <td>8</td>\n",
       "      <td>2010-12-10</td>\n",
       "      <td>4.95</td>\n",
       "      <td>15805</td>\n",
       "      <td>United Kingdom</td>\n",
       "    </tr>\n",
       "    <tr>\n",
       "      <th>22525</th>\n",
       "      <td>538172</td>\n",
       "      <td>22041</td>\n",
       "      <td>RECORD FRAME 7\" SINGLE SIZE</td>\n",
       "      <td>12</td>\n",
       "      <td>2010-12-10</td>\n",
       "      <td>2.55</td>\n",
       "      <td>15805</td>\n",
       "      <td>United Kingdom</td>\n",
       "    </tr>\n",
       "    <tr>\n",
       "      <th>22526</th>\n",
       "      <td>538172</td>\n",
       "      <td>84558A</td>\n",
       "      <td>3D DOG PICTURE PLAYING CARDS</td>\n",
       "      <td>12</td>\n",
       "      <td>2010-12-10</td>\n",
       "      <td>2.95</td>\n",
       "      <td>15805</td>\n",
       "      <td>United Kingdom</td>\n",
       "    </tr>\n",
       "    <tr>\n",
       "      <th>22527</th>\n",
       "      <td>538172</td>\n",
       "      <td>22952</td>\n",
       "      <td>60 CAKE CASES VINTAGE CHRISTMAS</td>\n",
       "      <td>24</td>\n",
       "      <td>2010-12-10</td>\n",
       "      <td>0.55</td>\n",
       "      <td>15805</td>\n",
       "      <td>United Kingdom</td>\n",
       "    </tr>\n",
       "  </tbody>\n",
       "</table>\n",
       "</div>"
      ],
      "text/plain": [
       "       InvoiceNo StockCode                      Description  Quantity  \\\n",
       "22523     538172     21562            HAWAIIAN GRASS SKIRT         12   \n",
       "22524     538172     79321                    CHILLI LIGHTS         8   \n",
       "22525     538172     22041     RECORD FRAME 7\" SINGLE SIZE         12   \n",
       "22526     538172    84558A     3D DOG PICTURE PLAYING CARDS        12   \n",
       "22527     538172     22952  60 CAKE CASES VINTAGE CHRISTMAS        24   \n",
       "\n",
       "      InvoiceDate  UnitPrice  CustomerID         Country  \n",
       "22523  2010-12-10       1.25       15805  United Kingdom  \n",
       "22524  2010-12-10       4.95       15805  United Kingdom  \n",
       "22525  2010-12-10       2.55       15805  United Kingdom  \n",
       "22526  2010-12-10       2.95       15805  United Kingdom  \n",
       "22527  2010-12-10       0.55       15805  United Kingdom  "
      ]
     },
     "execution_count": 148,
     "metadata": {},
     "output_type": "execute_result"
    }
   ],
   "source": [
    "# 只考虑大于2010-12-09\n",
    "df = df[df['InvoiceDate']>dt.date(2010,12,9)]\n",
    "df.head()"
   ]
  },
  {
   "cell_type": "code",
   "execution_count": 149,
   "metadata": {},
   "outputs": [
    {
     "data": {
      "text/plain": [
       "datetime.date(2011, 12, 10)"
      ]
     },
     "execution_count": 149,
     "metadata": {},
     "output_type": "execute_result"
    }
   ],
   "source": [
    "# 创建一个新的变量，叫做snapshot_date。 举个例子，我们已经有了过去一年的历史数据，然后基于历史数据要计算出R, F, M。 \n",
    "# 如果历史数据是昨天为止的，那当我们计算R（recency)的时候， 就需要今天 - 历史。 这样一来，今天其实就是昨天日期+1就可以了，这个\n",
    "# 我们把它叫作snapshot_date\n",
    "snapshot_date = max(df.InvoiceDate) + dt.timedelta(days=1)\n",
    "snapshot_date"
   ]
  },
  {
   "cell_type": "code",
   "execution_count": 150,
   "metadata": {},
   "outputs": [
    {
     "data": {
      "text/html": [
       "<div>\n",
       "<table border=\"1\" class=\"dataframe\">\n",
       "  <thead>\n",
       "    <tr style=\"text-align: right;\">\n",
       "      <th></th>\n",
       "      <th>InvoiceNo</th>\n",
       "      <th>StockCode</th>\n",
       "      <th>Description</th>\n",
       "      <th>Quantity</th>\n",
       "      <th>InvoiceDate</th>\n",
       "      <th>UnitPrice</th>\n",
       "      <th>CustomerID</th>\n",
       "      <th>Country</th>\n",
       "      <th>TotalSum</th>\n",
       "    </tr>\n",
       "  </thead>\n",
       "  <tbody>\n",
       "    <tr>\n",
       "      <th>22523</th>\n",
       "      <td>538172</td>\n",
       "      <td>21562</td>\n",
       "      <td>HAWAIIAN GRASS SKIRT</td>\n",
       "      <td>12</td>\n",
       "      <td>2010-12-10</td>\n",
       "      <td>1.25</td>\n",
       "      <td>15805</td>\n",
       "      <td>United Kingdom</td>\n",
       "      <td>15.0</td>\n",
       "    </tr>\n",
       "    <tr>\n",
       "      <th>22524</th>\n",
       "      <td>538172</td>\n",
       "      <td>79321</td>\n",
       "      <td>CHILLI LIGHTS</td>\n",
       "      <td>8</td>\n",
       "      <td>2010-12-10</td>\n",
       "      <td>4.95</td>\n",
       "      <td>15805</td>\n",
       "      <td>United Kingdom</td>\n",
       "      <td>39.6</td>\n",
       "    </tr>\n",
       "    <tr>\n",
       "      <th>22525</th>\n",
       "      <td>538172</td>\n",
       "      <td>22041</td>\n",
       "      <td>RECORD FRAME 7\" SINGLE SIZE</td>\n",
       "      <td>12</td>\n",
       "      <td>2010-12-10</td>\n",
       "      <td>2.55</td>\n",
       "      <td>15805</td>\n",
       "      <td>United Kingdom</td>\n",
       "      <td>30.6</td>\n",
       "    </tr>\n",
       "    <tr>\n",
       "      <th>22526</th>\n",
       "      <td>538172</td>\n",
       "      <td>84558A</td>\n",
       "      <td>3D DOG PICTURE PLAYING CARDS</td>\n",
       "      <td>12</td>\n",
       "      <td>2010-12-10</td>\n",
       "      <td>2.95</td>\n",
       "      <td>15805</td>\n",
       "      <td>United Kingdom</td>\n",
       "      <td>35.4</td>\n",
       "    </tr>\n",
       "    <tr>\n",
       "      <th>22527</th>\n",
       "      <td>538172</td>\n",
       "      <td>22952</td>\n",
       "      <td>60 CAKE CASES VINTAGE CHRISTMAS</td>\n",
       "      <td>24</td>\n",
       "      <td>2010-12-10</td>\n",
       "      <td>0.55</td>\n",
       "      <td>15805</td>\n",
       "      <td>United Kingdom</td>\n",
       "      <td>13.2</td>\n",
       "    </tr>\n",
       "  </tbody>\n",
       "</table>\n",
       "</div>"
      ],
      "text/plain": [
       "       InvoiceNo StockCode                      Description  Quantity  \\\n",
       "22523     538172     21562            HAWAIIAN GRASS SKIRT         12   \n",
       "22524     538172     79321                    CHILLI LIGHTS         8   \n",
       "22525     538172     22041     RECORD FRAME 7\" SINGLE SIZE         12   \n",
       "22526     538172    84558A     3D DOG PICTURE PLAYING CARDS        12   \n",
       "22527     538172     22952  60 CAKE CASES VINTAGE CHRISTMAS        24   \n",
       "\n",
       "      InvoiceDate  UnitPrice  CustomerID         Country  TotalSum  \n",
       "22523  2010-12-10       1.25       15805  United Kingdom      15.0  \n",
       "22524  2010-12-10       4.95       15805  United Kingdom      39.6  \n",
       "22525  2010-12-10       2.55       15805  United Kingdom      30.6  \n",
       "22526  2010-12-10       2.95       15805  United Kingdom      35.4  \n",
       "22527  2010-12-10       0.55       15805  United Kingdom      13.2  "
      ]
     },
     "execution_count": 150,
     "metadata": {},
     "output_type": "execute_result"
    }
   ],
   "source": [
    "# 我们再创建一个column叫作TotalSum, 来表示购买某一种商品的总额\n",
    "df['TotalSum'] = df['Quantity'] * df['UnitPrice']\n",
    "df.head()"
   ]
  },
  {
   "cell_type": "markdown",
   "metadata": {},
   "source": [
    "> 到目前为止数据方面的整理工作已经就绪。接下来呢，需要来计算R,F,M的值了。 为了计算R,F,M需要对每一位Customer做Aggregation操作，这部分可以通过```df.groupby```函数来实现。 Recency计算：recency = snapshot_date - 最近一次用户购买日期;  Frequency计算：统计一下过去一年用户购买了多少次，这部分可以统计```InvoiceNo```的总数就可以了。通过```count```函数实现; Monetary计算：过去一年总花费的金额可以累加```TotalSum```字段就可以，使用```sum```函数实现。\n",
    "\n",
    "- ```问题1```: 创建一个新的dataframe叫作data_rfm, 并包含Recency, Frequency, Monetary字段"
   ]
  },
  {
   "cell_type": "code",
   "execution_count": 151,
   "metadata": {},
   "outputs": [],
   "source": [
    "# TODO: 写一段Aggregation函数来创建一个新的dataframe，部分代码已经给出\n",
    "##https://pandas.pydata.org/pandas-docs/stable/reference/api/pandas.DataFrame.aggregate.html\n",
    "import datetime    \n",
    "data_rfm = df.groupby(['CustomerID']).agg({\n",
    "    'InvoiceDate': ['max'],\n",
    "    'InvoiceNo': ['count'],\n",
    "    'TotalSum': ['sum']\n",
    "}).sort_index(ascending=True)\n",
    "\n",
    "data_rfm['InvoiceDate']=data_rfm.apply(lambda x: (snapshot_date-x['InvoiceDate']), axis=1)\n",
    "data_rfm['InvoiceDate']= (data_rfm['InvoiceDate'] / np.timedelta64(1, 'D')).astype(int)\n",
    "# 重新命名一下Columns\n",
    "data_rfm.rename(columns = {'InvoiceDate': 'Recency',\n",
    "                           'InvoiceNo': 'Frequency',\n",
    "                           'TotalSum': 'MonetaryValue'}, inplace=True)\n"
   ]
  },
  {
   "cell_type": "code",
   "execution_count": 152,
   "metadata": {},
   "outputs": [
    {
     "data": {
      "text/html": [
       "<div>\n",
       "<table border=\"1\" class=\"dataframe\">\n",
       "  <thead>\n",
       "    <tr>\n",
       "      <th></th>\n",
       "      <th>CustomerID</th>\n",
       "      <th>Recency</th>\n",
       "      <th>Frequency</th>\n",
       "      <th>MonetaryValue</th>\n",
       "    </tr>\n",
       "    <tr>\n",
       "      <th></th>\n",
       "      <th></th>\n",
       "      <th>max</th>\n",
       "      <th>count</th>\n",
       "      <th>sum</th>\n",
       "    </tr>\n",
       "  </thead>\n",
       "  <tbody>\n",
       "    <tr>\n",
       "      <th>0</th>\n",
       "      <td>12346</td>\n",
       "      <td>326</td>\n",
       "      <td>1</td>\n",
       "      <td>77183.60</td>\n",
       "    </tr>\n",
       "    <tr>\n",
       "      <th>1</th>\n",
       "      <td>12347</td>\n",
       "      <td>3</td>\n",
       "      <td>151</td>\n",
       "      <td>3598.21</td>\n",
       "    </tr>\n",
       "    <tr>\n",
       "      <th>2</th>\n",
       "      <td>12348</td>\n",
       "      <td>76</td>\n",
       "      <td>31</td>\n",
       "      <td>1797.24</td>\n",
       "    </tr>\n",
       "    <tr>\n",
       "      <th>3</th>\n",
       "      <td>12349</td>\n",
       "      <td>19</td>\n",
       "      <td>73</td>\n",
       "      <td>1757.55</td>\n",
       "    </tr>\n",
       "    <tr>\n",
       "      <th>4</th>\n",
       "      <td>12350</td>\n",
       "      <td>311</td>\n",
       "      <td>17</td>\n",
       "      <td>334.40</td>\n",
       "    </tr>\n",
       "  </tbody>\n",
       "</table>\n",
       "</div>"
      ],
      "text/plain": [
       "  CustomerID Recency Frequency MonetaryValue\n",
       "                 max     count           sum\n",
       "0      12346     326         1      77183.60\n",
       "1      12347       3       151       3598.21\n",
       "2      12348      76        31       1797.24\n",
       "3      12349      19        73       1757.55\n",
       "4      12350     311        17        334.40"
      ]
     },
     "execution_count": 152,
     "metadata": {},
     "output_type": "execute_result"
    }
   ],
   "source": [
    "data_rfm.head().reset_index()"
   ]
  },
  {
   "cell_type": "code",
   "execution_count": 153,
   "metadata": {},
   "outputs": [
    {
     "data": {
      "text/plain": [
       "MultiIndex(levels=[['Frequency', 'MonetaryValue', 'Recency'], ['count', 'max', 'sum']],\n",
       "           labels=[[2, 0, 1], [1, 0, 2]])"
      ]
     },
     "execution_count": 153,
     "metadata": {},
     "output_type": "execute_result"
    }
   ],
   "source": [
    "data_rfm.columns"
   ]
  },
  {
   "cell_type": "code",
   "execution_count": 154,
   "metadata": {},
   "outputs": [],
   "source": [
    "data_rfm.columns=data_rfm.columns.droplevel(1)"
   ]
  },
  {
   "cell_type": "code",
   "execution_count": 155,
   "metadata": {},
   "outputs": [
    {
     "data": {
      "text/html": [
       "<div>\n",
       "<table border=\"1\" class=\"dataframe\">\n",
       "  <thead>\n",
       "    <tr style=\"text-align: right;\">\n",
       "      <th></th>\n",
       "      <th>Recency</th>\n",
       "      <th>Frequency</th>\n",
       "      <th>MonetaryValue</th>\n",
       "    </tr>\n",
       "    <tr>\n",
       "      <th>CustomerID</th>\n",
       "      <th></th>\n",
       "      <th></th>\n",
       "      <th></th>\n",
       "    </tr>\n",
       "  </thead>\n",
       "  <tbody>\n",
       "    <tr>\n",
       "      <th>12346</th>\n",
       "      <td>326</td>\n",
       "      <td>1</td>\n",
       "      <td>77183.60</td>\n",
       "    </tr>\n",
       "    <tr>\n",
       "      <th>12347</th>\n",
       "      <td>3</td>\n",
       "      <td>151</td>\n",
       "      <td>3598.21</td>\n",
       "    </tr>\n",
       "    <tr>\n",
       "      <th>12348</th>\n",
       "      <td>76</td>\n",
       "      <td>31</td>\n",
       "      <td>1797.24</td>\n",
       "    </tr>\n",
       "    <tr>\n",
       "      <th>12349</th>\n",
       "      <td>19</td>\n",
       "      <td>73</td>\n",
       "      <td>1757.55</td>\n",
       "    </tr>\n",
       "    <tr>\n",
       "      <th>12350</th>\n",
       "      <td>311</td>\n",
       "      <td>17</td>\n",
       "      <td>334.40</td>\n",
       "    </tr>\n",
       "  </tbody>\n",
       "</table>\n",
       "</div>"
      ],
      "text/plain": [
       "            Recency  Frequency  MonetaryValue\n",
       "CustomerID                                   \n",
       "12346           326          1       77183.60\n",
       "12347             3        151        3598.21\n",
       "12348            76         31        1797.24\n",
       "12349            19         73        1757.55\n",
       "12350           311         17         334.40"
      ]
     },
     "execution_count": 155,
     "metadata": {},
     "output_type": "execute_result"
    }
   ],
   "source": [
    "data_rfm.head()"
   ]
  },
  {
   "cell_type": "markdown",
   "metadata": {},
   "source": [
    "到目前为止，Recency, Frequency, MonetaryValue都是数值型的。 为了用户分群，我们需要把R,F,M的值分别需要映射到bucket中，比如Recency的值映射到1，2，3，4中的某一个数值上； Frequency映射到1，2，3，4中的某一个数值上，MonetaryValue也做同样的处理。 这里需要注意的一点是：值越大就说明用户越有价值，比如R=4的用户要比R=1的用户的价值更大。 所以当我们尝试映射的时候，也需要注意这一点。 因为Recency越大说明好久没有买了，所以这时候映射之后的数要越小； 相反，对于Frequency字段，这个值越大就说明用户购买次数越多，映射之后的值也需要越大； 所以我们需要考虑这一点。 \n",
    "\n",
    "具体映射时候需要用到的技术在课程里面也讲过，使用quantitle就可以了。 把一组数据通过quantitle分成25%， 50%， 75%点， 这样就可以分成4块了，然后每一块分别赋值，1，2，3，4就可以了。 取quantitle的时候可以直接使用 ```pd.qcut```函数。\n",
    "\n",
    "> ```问题2：``` 针对于Recency, Frequency, MonetaryValue，把每一个值通过quantitle映射到1，2，3，4不同的bucket里面, 把新的column命名为Recency_Q, Frequency_Q, MonetaryValue_Q"
   ]
  },
  {
   "cell_type": "code",
   "execution_count": 156,
   "metadata": {},
   "outputs": [],
   "source": [
    "# TODO: 创建三个新的Column, 分别表示R,F,M的quntitle值\n",
    "Rquartiles =pd.qcut(data_rfm.Recency,4,labels=[4, 3, 2,1])\n",
    "data_rfm = data_rfm.assign(Recency_Q = Rquartiles.values)\n",
    "##assign: add one additional columns to the dataframe\n",
    "\n",
    "Fquartiles =pd.qcut(data_rfm.Frequency,4, labels=[1, 2, 3,4])\n",
    "data_rfm = data_rfm.assign(Frequency_Q = Fquartiles.values)\n",
    "\n",
    "Mquartiles =pd.qcut(data_rfm.MonetaryValue,4, labels=[1, 2, 3,4])\n",
    "data_rfm = data_rfm.assign(Moneytary_Q = Mquartiles.values)"
   ]
  },
  {
   "cell_type": "code",
   "execution_count": 157,
   "metadata": {},
   "outputs": [
    {
     "data": {
      "text/html": [
       "<div>\n",
       "<table border=\"1\" class=\"dataframe\">\n",
       "  <thead>\n",
       "    <tr style=\"text-align: right;\">\n",
       "      <th></th>\n",
       "      <th>Recency</th>\n",
       "      <th>Frequency</th>\n",
       "      <th>MonetaryValue</th>\n",
       "    </tr>\n",
       "  </thead>\n",
       "  <tbody>\n",
       "    <tr>\n",
       "      <th>count</th>\n",
       "      <td>4264.000000</td>\n",
       "      <td>4264.000000</td>\n",
       "      <td>4264.000000</td>\n",
       "    </tr>\n",
       "    <tr>\n",
       "      <th>mean</th>\n",
       "      <td>88.241792</td>\n",
       "      <td>89.910882</td>\n",
       "      <td>2016.775306</td>\n",
       "    </tr>\n",
       "    <tr>\n",
       "      <th>std</th>\n",
       "      <td>93.888162</td>\n",
       "      <td>223.984026</td>\n",
       "      <td>8784.825211</td>\n",
       "    </tr>\n",
       "    <tr>\n",
       "      <th>min</th>\n",
       "      <td>1.000000</td>\n",
       "      <td>1.000000</td>\n",
       "      <td>3.750000</td>\n",
       "    </tr>\n",
       "    <tr>\n",
       "      <th>25%</th>\n",
       "      <td>18.000000</td>\n",
       "      <td>17.000000</td>\n",
       "      <td>304.905000</td>\n",
       "    </tr>\n",
       "    <tr>\n",
       "      <th>50%</th>\n",
       "      <td>50.000000</td>\n",
       "      <td>41.000000</td>\n",
       "      <td>668.125000</td>\n",
       "    </tr>\n",
       "    <tr>\n",
       "      <th>75%</th>\n",
       "      <td>134.000000</td>\n",
       "      <td>98.000000</td>\n",
       "      <td>1636.362500</td>\n",
       "    </tr>\n",
       "    <tr>\n",
       "      <th>max</th>\n",
       "      <td>365.000000</td>\n",
       "      <td>7661.000000</td>\n",
       "      <td>280206.020000</td>\n",
       "    </tr>\n",
       "  </tbody>\n",
       "</table>\n",
       "</div>"
      ],
      "text/plain": [
       "           Recency    Frequency  MonetaryValue\n",
       "count  4264.000000  4264.000000    4264.000000\n",
       "mean     88.241792    89.910882    2016.775306\n",
       "std      93.888162   223.984026    8784.825211\n",
       "min       1.000000     1.000000       3.750000\n",
       "25%      18.000000    17.000000     304.905000\n",
       "50%      50.000000    41.000000     668.125000\n",
       "75%     134.000000    98.000000    1636.362500\n",
       "max     365.000000  7661.000000  280206.020000"
      ]
     },
     "execution_count": 157,
     "metadata": {},
     "output_type": "execute_result"
    }
   ],
   "source": [
    "data_rfm.describe()"
   ]
  },
  {
   "cell_type": "code",
   "execution_count": 158,
   "metadata": {},
   "outputs": [
    {
     "data": {
      "text/html": [
       "<div>\n",
       "<table border=\"1\" class=\"dataframe\">\n",
       "  <thead>\n",
       "    <tr style=\"text-align: right;\">\n",
       "      <th></th>\n",
       "      <th>Recency</th>\n",
       "      <th>Frequency</th>\n",
       "      <th>MonetaryValue</th>\n",
       "      <th>Recency_Q</th>\n",
       "      <th>Frequency_Q</th>\n",
       "      <th>Moneytary_Q</th>\n",
       "    </tr>\n",
       "    <tr>\n",
       "      <th>CustomerID</th>\n",
       "      <th></th>\n",
       "      <th></th>\n",
       "      <th></th>\n",
       "      <th></th>\n",
       "      <th></th>\n",
       "      <th></th>\n",
       "    </tr>\n",
       "  </thead>\n",
       "  <tbody>\n",
       "    <tr>\n",
       "      <th>12346</th>\n",
       "      <td>326</td>\n",
       "      <td>1</td>\n",
       "      <td>77183.60</td>\n",
       "      <td>1</td>\n",
       "      <td>1</td>\n",
       "      <td>4</td>\n",
       "    </tr>\n",
       "    <tr>\n",
       "      <th>12347</th>\n",
       "      <td>3</td>\n",
       "      <td>151</td>\n",
       "      <td>3598.21</td>\n",
       "      <td>4</td>\n",
       "      <td>4</td>\n",
       "      <td>4</td>\n",
       "    </tr>\n",
       "    <tr>\n",
       "      <th>12348</th>\n",
       "      <td>76</td>\n",
       "      <td>31</td>\n",
       "      <td>1797.24</td>\n",
       "      <td>2</td>\n",
       "      <td>2</td>\n",
       "      <td>4</td>\n",
       "    </tr>\n",
       "    <tr>\n",
       "      <th>12349</th>\n",
       "      <td>19</td>\n",
       "      <td>73</td>\n",
       "      <td>1757.55</td>\n",
       "      <td>3</td>\n",
       "      <td>3</td>\n",
       "      <td>4</td>\n",
       "    </tr>\n",
       "    <tr>\n",
       "      <th>12350</th>\n",
       "      <td>311</td>\n",
       "      <td>17</td>\n",
       "      <td>334.40</td>\n",
       "      <td>1</td>\n",
       "      <td>1</td>\n",
       "      <td>2</td>\n",
       "    </tr>\n",
       "  </tbody>\n",
       "</table>\n",
       "</div>"
      ],
      "text/plain": [
       "            Recency  Frequency  MonetaryValue Recency_Q Frequency_Q  \\\n",
       "CustomerID                                                            \n",
       "12346           326          1       77183.60         1           1   \n",
       "12347             3        151        3598.21         4           4   \n",
       "12348            76         31        1797.24         2           2   \n",
       "12349            19         73        1757.55         3           3   \n",
       "12350           311         17         334.40         1           1   \n",
       "\n",
       "           Moneytary_Q  \n",
       "CustomerID              \n",
       "12346                4  \n",
       "12347                4  \n",
       "12348                4  \n",
       "12349                4  \n",
       "12350                2  "
      ]
     },
     "execution_count": 158,
     "metadata": {},
     "output_type": "execute_result"
    }
   ],
   "source": [
    "data_rfm.head()"
   ]
  },
  {
   "cell_type": "markdown",
   "metadata": {},
   "source": []
  },
  {
   "cell_type": "code",
   "execution_count": 159,
   "metadata": {},
   "outputs": [
    {
     "data": {
      "text/html": [
       "<div>\n",
       "<table border=\"1\" class=\"dataframe\">\n",
       "  <thead>\n",
       "    <tr style=\"text-align: right;\">\n",
       "      <th></th>\n",
       "      <th>Recency</th>\n",
       "      <th>Frequency</th>\n",
       "      <th>MonetaryValue</th>\n",
       "      <th>Recency_Q</th>\n",
       "      <th>Frequency_Q</th>\n",
       "      <th>Moneytary_Q</th>\n",
       "      <th>Segment</th>\n",
       "    </tr>\n",
       "    <tr>\n",
       "      <th>CustomerID</th>\n",
       "      <th></th>\n",
       "      <th></th>\n",
       "      <th></th>\n",
       "      <th></th>\n",
       "      <th></th>\n",
       "      <th></th>\n",
       "      <th></th>\n",
       "    </tr>\n",
       "  </thead>\n",
       "  <tbody>\n",
       "    <tr>\n",
       "      <th>12346</th>\n",
       "      <td>326</td>\n",
       "      <td>1</td>\n",
       "      <td>77183.60</td>\n",
       "      <td>1</td>\n",
       "      <td>1</td>\n",
       "      <td>4</td>\n",
       "      <td>114</td>\n",
       "    </tr>\n",
       "    <tr>\n",
       "      <th>12347</th>\n",
       "      <td>3</td>\n",
       "      <td>151</td>\n",
       "      <td>3598.21</td>\n",
       "      <td>4</td>\n",
       "      <td>4</td>\n",
       "      <td>4</td>\n",
       "      <td>444</td>\n",
       "    </tr>\n",
       "    <tr>\n",
       "      <th>12348</th>\n",
       "      <td>76</td>\n",
       "      <td>31</td>\n",
       "      <td>1797.24</td>\n",
       "      <td>2</td>\n",
       "      <td>2</td>\n",
       "      <td>4</td>\n",
       "      <td>224</td>\n",
       "    </tr>\n",
       "    <tr>\n",
       "      <th>12349</th>\n",
       "      <td>19</td>\n",
       "      <td>73</td>\n",
       "      <td>1757.55</td>\n",
       "      <td>3</td>\n",
       "      <td>3</td>\n",
       "      <td>4</td>\n",
       "      <td>334</td>\n",
       "    </tr>\n",
       "    <tr>\n",
       "      <th>12350</th>\n",
       "      <td>311</td>\n",
       "      <td>17</td>\n",
       "      <td>334.40</td>\n",
       "      <td>1</td>\n",
       "      <td>1</td>\n",
       "      <td>2</td>\n",
       "      <td>112</td>\n",
       "    </tr>\n",
       "  </tbody>\n",
       "</table>\n",
       "</div>"
      ],
      "text/plain": [
       "            Recency  Frequency  MonetaryValue Recency_Q Frequency_Q  \\\n",
       "CustomerID                                                            \n",
       "12346           326          1       77183.60         1           1   \n",
       "12347             3        151        3598.21         4           4   \n",
       "12348            76         31        1797.24         2           2   \n",
       "12349            19         73        1757.55         3           3   \n",
       "12350           311         17         334.40         1           1   \n",
       "\n",
       "           Moneytary_Q Segment  \n",
       "CustomerID                      \n",
       "12346                4     114  \n",
       "12347                4     444  \n",
       "12348                4     224  \n",
       "12349                4     334  \n",
       "12350                2     112  "
      ]
     },
     "execution_count": 159,
     "metadata": {},
     "output_type": "execute_result"
    }
   ],
   "source": [
    "# 创建一个新的column叫作segment， 比如Recency_Q = 1, Frequency_Q = 2, Monetary_Q=4, 则segment为124.\n",
    "# 实现过程就是直接把每一个值拼接在一起。\n",
    "data_rfm['Segment'] = data_rfm[['Recency_Q','Frequency_Q','Moneytary_Q']].apply(lambda x: ''.join(x.map(str)), axis=1)\n",
    "data_rfm.head()"
   ]
  },
  {
   "cell_type": "markdown",
   "metadata": {},
   "source": [
    "> 接下来计算一下RFM_Score。这个值越大说明，说明这个用户价值越大。对于Score可以有不同的计算方式。但在这里我们使用最简单而且最经典的计算方法，其实就是把所有的值加在一起。 比如一个客户的 R=1, F=2, M=3, 则这个客户的RFM_Score为6。\n",
    "\n",
    "- ```问题3```： 创建一个新的column叫作RFM_Score,  它的值为R,F,M之和。 "
   ]
  },
  {
   "cell_type": "code",
   "execution_count": 160,
   "metadata": {},
   "outputs": [
    {
     "data": {
      "text/plain": [
       "Recency             int64\n",
       "Frequency           int64\n",
       "MonetaryValue     float64\n",
       "Recency_Q        category\n",
       "Frequency_Q      category\n",
       "Moneytary_Q      category\n",
       "Segment            object\n",
       "dtype: object"
      ]
     },
     "execution_count": 160,
     "metadata": {},
     "output_type": "execute_result"
    }
   ],
   "source": [
    "data_rfm.dtypes"
   ]
  },
  {
   "cell_type": "code",
   "execution_count": 161,
   "metadata": {},
   "outputs": [
    {
     "data": {
      "text/html": [
       "<div>\n",
       "<table border=\"1\" class=\"dataframe\">\n",
       "  <thead>\n",
       "    <tr style=\"text-align: right;\">\n",
       "      <th></th>\n",
       "      <th>Recency</th>\n",
       "      <th>Frequency</th>\n",
       "      <th>MonetaryValue</th>\n",
       "      <th>Recency_Q</th>\n",
       "      <th>Frequency_Q</th>\n",
       "      <th>Moneytary_Q</th>\n",
       "      <th>Segment</th>\n",
       "      <th>RFM_Score</th>\n",
       "    </tr>\n",
       "    <tr>\n",
       "      <th>CustomerID</th>\n",
       "      <th></th>\n",
       "      <th></th>\n",
       "      <th></th>\n",
       "      <th></th>\n",
       "      <th></th>\n",
       "      <th></th>\n",
       "      <th></th>\n",
       "      <th></th>\n",
       "    </tr>\n",
       "  </thead>\n",
       "  <tbody>\n",
       "    <tr>\n",
       "      <th>12346</th>\n",
       "      <td>326</td>\n",
       "      <td>1</td>\n",
       "      <td>77183.60</td>\n",
       "      <td>1</td>\n",
       "      <td>1</td>\n",
       "      <td>4</td>\n",
       "      <td>114</td>\n",
       "      <td>6</td>\n",
       "    </tr>\n",
       "    <tr>\n",
       "      <th>12347</th>\n",
       "      <td>3</td>\n",
       "      <td>151</td>\n",
       "      <td>3598.21</td>\n",
       "      <td>4</td>\n",
       "      <td>4</td>\n",
       "      <td>4</td>\n",
       "      <td>444</td>\n",
       "      <td>12</td>\n",
       "    </tr>\n",
       "    <tr>\n",
       "      <th>12348</th>\n",
       "      <td>76</td>\n",
       "      <td>31</td>\n",
       "      <td>1797.24</td>\n",
       "      <td>2</td>\n",
       "      <td>2</td>\n",
       "      <td>4</td>\n",
       "      <td>224</td>\n",
       "      <td>8</td>\n",
       "    </tr>\n",
       "    <tr>\n",
       "      <th>12349</th>\n",
       "      <td>19</td>\n",
       "      <td>73</td>\n",
       "      <td>1757.55</td>\n",
       "      <td>3</td>\n",
       "      <td>3</td>\n",
       "      <td>4</td>\n",
       "      <td>334</td>\n",
       "      <td>10</td>\n",
       "    </tr>\n",
       "    <tr>\n",
       "      <th>12350</th>\n",
       "      <td>311</td>\n",
       "      <td>17</td>\n",
       "      <td>334.40</td>\n",
       "      <td>1</td>\n",
       "      <td>1</td>\n",
       "      <td>2</td>\n",
       "      <td>112</td>\n",
       "      <td>4</td>\n",
       "    </tr>\n",
       "  </tbody>\n",
       "</table>\n",
       "</div>"
      ],
      "text/plain": [
       "            Recency  Frequency  MonetaryValue Recency_Q Frequency_Q  \\\n",
       "CustomerID                                                            \n",
       "12346           326          1       77183.60         1           1   \n",
       "12347             3        151        3598.21         4           4   \n",
       "12348            76         31        1797.24         2           2   \n",
       "12349            19         73        1757.55         3           3   \n",
       "12350           311         17         334.40         1           1   \n",
       "\n",
       "           Moneytary_Q Segment  RFM_Score  \n",
       "CustomerID                                 \n",
       "12346                4     114          6  \n",
       "12347                4     444         12  \n",
       "12348                4     224          8  \n",
       "12349                4     334         10  \n",
       "12350                2     112          4  "
      ]
     },
     "execution_count": 161,
     "metadata": {},
     "output_type": "execute_result"
    }
   ],
   "source": [
    "# TODO  创建一个新的column叫作RFM_Score\n",
    "data_rfm['RFM_Score'] = data_rfm.Recency_Q.astype(int)+data_rfm.Frequency_Q.astype(int)+data_rfm.Moneytary_Q.astype(int)\n",
    "data_rfm.head()"
   ]
  },
  {
   "cell_type": "markdown",
   "metadata": {},
   "source": []
  },
  {
   "cell_type": "markdown",
   "metadata": {},
   "source": [
    "有了RFM_Score之后，就可以对用户分群了。 这个值越大，我们可以认为这个用户价值越高。 现在我们希望把用户分层三大类， 金牌客户，银牌客户，以及普通客户，那如何做分群呢？ 一种简单的方法是定义阈值的方式做。比如RFM_Score在某一个区间就认为是金牌客户，银牌客户等等。 在这里，我们就使用这种方法，规则为：\n",
    "\n",
    "- Gold: RFM_Score >= 9 的时候\n",
    "- Silver: RFM_Score >= 5 and RFM_Score < 9 的时候\n",
    "- Normal: RFM_Score < 5\n",
    "\n",
    "> ```问题4：``` 请创建一个新的Column叫作RFM_Cluster, 然后把每一位客户标记成Gold, Silver, Normal."
   ]
  },
  {
   "cell_type": "code",
   "execution_count": 162,
   "metadata": {},
   "outputs": [],
   "source": [
    "# TODO: 创建一个新的column叫作 RFM_Cluster，把每一位客户标记成Gold, Silver, Normal\n",
    "\n",
    "# your code here...\n",
    "def get_RRM_cluster(df):\n",
    "    df['RFM_Cluster']='Normal'\n",
    "    if df.RFM_Score>=5 and df.RFM_Score<9:\n",
    "        df['RFM_Cluster']='Sliver'\n",
    "    elif df.RFM_Score>=9:\n",
    "        df['RFM_Cluster']='Gold'\n",
    "    return df\n",
    "            \n",
    "data_rfm=data_rfm.apply(get_RRM_cluster, axis=1)"
   ]
  },
  {
   "cell_type": "code",
   "execution_count": 163,
   "metadata": {},
   "outputs": [
    {
     "data": {
      "text/html": [
       "<div>\n",
       "<table border=\"1\" class=\"dataframe\">\n",
       "  <thead>\n",
       "    <tr style=\"text-align: right;\">\n",
       "      <th></th>\n",
       "      <th>Recency</th>\n",
       "      <th>Frequency</th>\n",
       "      <th>MonetaryValue</th>\n",
       "      <th>Recency_Q</th>\n",
       "      <th>Frequency_Q</th>\n",
       "      <th>Moneytary_Q</th>\n",
       "      <th>Segment</th>\n",
       "      <th>RFM_Score</th>\n",
       "      <th>RFM_Cluster</th>\n",
       "    </tr>\n",
       "    <tr>\n",
       "      <th>CustomerID</th>\n",
       "      <th></th>\n",
       "      <th></th>\n",
       "      <th></th>\n",
       "      <th></th>\n",
       "      <th></th>\n",
       "      <th></th>\n",
       "      <th></th>\n",
       "      <th></th>\n",
       "      <th></th>\n",
       "    </tr>\n",
       "  </thead>\n",
       "  <tbody>\n",
       "    <tr>\n",
       "      <th>12346</th>\n",
       "      <td>326</td>\n",
       "      <td>1</td>\n",
       "      <td>77183.60</td>\n",
       "      <td>1</td>\n",
       "      <td>1</td>\n",
       "      <td>4</td>\n",
       "      <td>114</td>\n",
       "      <td>6</td>\n",
       "      <td>Sliver</td>\n",
       "    </tr>\n",
       "    <tr>\n",
       "      <th>12347</th>\n",
       "      <td>3</td>\n",
       "      <td>151</td>\n",
       "      <td>3598.21</td>\n",
       "      <td>4</td>\n",
       "      <td>4</td>\n",
       "      <td>4</td>\n",
       "      <td>444</td>\n",
       "      <td>12</td>\n",
       "      <td>Gold</td>\n",
       "    </tr>\n",
       "    <tr>\n",
       "      <th>12348</th>\n",
       "      <td>76</td>\n",
       "      <td>31</td>\n",
       "      <td>1797.24</td>\n",
       "      <td>2</td>\n",
       "      <td>2</td>\n",
       "      <td>4</td>\n",
       "      <td>224</td>\n",
       "      <td>8</td>\n",
       "      <td>Sliver</td>\n",
       "    </tr>\n",
       "    <tr>\n",
       "      <th>12349</th>\n",
       "      <td>19</td>\n",
       "      <td>73</td>\n",
       "      <td>1757.55</td>\n",
       "      <td>3</td>\n",
       "      <td>3</td>\n",
       "      <td>4</td>\n",
       "      <td>334</td>\n",
       "      <td>10</td>\n",
       "      <td>Gold</td>\n",
       "    </tr>\n",
       "    <tr>\n",
       "      <th>12350</th>\n",
       "      <td>311</td>\n",
       "      <td>17</td>\n",
       "      <td>334.40</td>\n",
       "      <td>1</td>\n",
       "      <td>1</td>\n",
       "      <td>2</td>\n",
       "      <td>112</td>\n",
       "      <td>4</td>\n",
       "      <td>Normal</td>\n",
       "    </tr>\n",
       "  </tbody>\n",
       "</table>\n",
       "</div>"
      ],
      "text/plain": [
       "            Recency  Frequency  MonetaryValue  Recency_Q  Frequency_Q  \\\n",
       "CustomerID                                                              \n",
       "12346           326          1       77183.60          1            1   \n",
       "12347             3        151        3598.21          4            4   \n",
       "12348            76         31        1797.24          2            2   \n",
       "12349            19         73        1757.55          3            3   \n",
       "12350           311         17         334.40          1            1   \n",
       "\n",
       "            Moneytary_Q Segment  RFM_Score RFM_Cluster  \n",
       "CustomerID                                              \n",
       "12346                 4     114          6      Sliver  \n",
       "12347                 4     444         12        Gold  \n",
       "12348                 4     224          8      Sliver  \n",
       "12349                 4     334         10        Gold  \n",
       "12350                 2     112          4      Normal  "
      ]
     },
     "execution_count": 163,
     "metadata": {},
     "output_type": "execute_result"
    }
   ],
   "source": [
    "data_rfm.head()"
   ]
  },
  {
   "cell_type": "code",
   "execution_count": 164,
   "metadata": {},
   "outputs": [
    {
     "data": {
      "text/html": [
       "<div>\n",
       "<table border=\"1\" class=\"dataframe\">\n",
       "  <thead>\n",
       "    <tr style=\"text-align: right;\">\n",
       "      <th></th>\n",
       "      <th>Recency</th>\n",
       "      <th>Frequency</th>\n",
       "      <th>MonetaryValue</th>\n",
       "    </tr>\n",
       "    <tr>\n",
       "      <th>RFM_Cluster</th>\n",
       "      <th></th>\n",
       "      <th></th>\n",
       "      <th></th>\n",
       "    </tr>\n",
       "  </thead>\n",
       "  <tbody>\n",
       "    <tr>\n",
       "      <th>Gold</th>\n",
       "      <td>25.9</td>\n",
       "      <td>188.7</td>\n",
       "      <td>4334.3</td>\n",
       "    </tr>\n",
       "    <tr>\n",
       "      <th>Normal</th>\n",
       "      <td>205.5</td>\n",
       "      <td>11.0</td>\n",
       "      <td>197.9</td>\n",
       "    </tr>\n",
       "    <tr>\n",
       "      <th>Sliver</th>\n",
       "      <td>95.4</td>\n",
       "      <td>35.3</td>\n",
       "      <td>722.4</td>\n",
       "    </tr>\n",
       "  </tbody>\n",
       "</table>\n",
       "</div>"
      ],
      "text/plain": [
       "             Recency  Frequency  MonetaryValue\n",
       "RFM_Cluster                                   \n",
       "Gold            25.9      188.7         4334.3\n",
       "Normal         205.5       11.0          197.9\n",
       "Sliver          95.4       35.3          722.4"
      ]
     },
     "execution_count": 164,
     "metadata": {},
     "output_type": "execute_result"
    }
   ],
   "source": [
    "# 按照Gold, Silver, Normal来做分群，然后对于每一个群体，统计一下它们的平均Recency, 平均Frequency， 以及平局MoneytaryValue\n",
    "df_rfm_custom_segment = data_rfm.groupby('RFM_Cluster').agg({\n",
    "    'Recency': 'mean',\n",
    "    'Frequency': 'mean',\n",
    "    'MonetaryValue': 'mean'\n",
    "}).round(1)\n",
    "\n",
    "df_rfm_custom_segment"
   ]
  },
  {
   "cell_type": "markdown",
   "metadata": {},
   "source": [
    "> ```问题5:``` 你觉得上述通过阈值的方式来分群的操作有什么缺点？ \n",
    "\n",
    "// 你的回答....\n",
    "\n",
    "1 Based on experience not data driven <br>\n",
    "2 Only have 3 groups <br>"
   ]
  },
  {
   "cell_type": "markdown",
   "metadata": {},
   "source": [
    "### 基于K-means算法的分群\n",
    "接下来我们通过使用k-means算法来对用户分群，使用的值仍然是Recency, Frequency, Moneytary Value.\n",
    "当我们使用k-means算法的时候经常需要做预处理工作，因为算法依赖于距离的计算，而且R,F,M的值的范围差别很大。 \n",
    "\n",
    "对于预处理，我们做如下2个方面的工作：\n",
    "1. 即使针对于某一个属性，它的值差别很大，所以我们先使用log transform把值做个转换\n",
    "2. 使用归一化操作把值映射到 N(0,1)，使用的是```sklearn```里的 ```StandardScaler```。"
   ]
  },
  {
   "cell_type": "code",
   "execution_count": 166,
   "metadata": {},
   "outputs": [],
   "source": [
    "# 只选取R,F,M的值\n",
    "data_rfm2 = data_rfm[['Recency','Frequency', 'MonetaryValue']]\n",
    "\n",
    "# 1. 先做log transform, +1是为了避免log(0)\n",
    "data_rfm2 = np.log(data_rfm2+1)"
   ]
  },
  {
   "cell_type": "code",
   "execution_count": 167,
   "metadata": {},
   "outputs": [
    {
     "data": {
      "text/html": [
       "<div>\n",
       "<table border=\"1\" class=\"dataframe\">\n",
       "  <thead>\n",
       "    <tr style=\"text-align: right;\">\n",
       "      <th></th>\n",
       "      <th>Recency</th>\n",
       "      <th>Frequency</th>\n",
       "      <th>MonetaryValue</th>\n",
       "    </tr>\n",
       "  </thead>\n",
       "  <tbody>\n",
       "    <tr>\n",
       "      <th>count</th>\n",
       "      <td>4264.000000</td>\n",
       "      <td>4264.000000</td>\n",
       "      <td>4264.000000</td>\n",
       "    </tr>\n",
       "    <tr>\n",
       "      <th>mean</th>\n",
       "      <td>3.821429</td>\n",
       "      <td>3.726383</td>\n",
       "      <td>6.581620</td>\n",
       "    </tr>\n",
       "    <tr>\n",
       "      <th>std</th>\n",
       "      <td>1.289598</td>\n",
       "      <td>1.240916</td>\n",
       "      <td>1.252739</td>\n",
       "    </tr>\n",
       "    <tr>\n",
       "      <th>min</th>\n",
       "      <td>0.693147</td>\n",
       "      <td>0.693147</td>\n",
       "      <td>1.558145</td>\n",
       "    </tr>\n",
       "    <tr>\n",
       "      <th>25%</th>\n",
       "      <td>2.944439</td>\n",
       "      <td>2.890372</td>\n",
       "      <td>5.723274</td>\n",
       "    </tr>\n",
       "    <tr>\n",
       "      <th>50%</th>\n",
       "      <td>3.931826</td>\n",
       "      <td>3.737670</td>\n",
       "      <td>6.505971</td>\n",
       "    </tr>\n",
       "    <tr>\n",
       "      <th>75%</th>\n",
       "      <td>4.905275</td>\n",
       "      <td>4.595120</td>\n",
       "      <td>7.400842</td>\n",
       "    </tr>\n",
       "    <tr>\n",
       "      <th>max</th>\n",
       "      <td>5.902633</td>\n",
       "      <td>8.944028</td>\n",
       "      <td>12.543284</td>\n",
       "    </tr>\n",
       "  </tbody>\n",
       "</table>\n",
       "</div>"
      ],
      "text/plain": [
       "           Recency    Frequency  MonetaryValue\n",
       "count  4264.000000  4264.000000    4264.000000\n",
       "mean      3.821429     3.726383       6.581620\n",
       "std       1.289598     1.240916       1.252739\n",
       "min       0.693147     0.693147       1.558145\n",
       "25%       2.944439     2.890372       5.723274\n",
       "50%       3.931826     3.737670       6.505971\n",
       "75%       4.905275     4.595120       7.400842\n",
       "max       5.902633     8.944028      12.543284"
      ]
     },
     "execution_count": 167,
     "metadata": {},
     "output_type": "execute_result"
    }
   ],
   "source": [
    "data_rfm2.describe()"
   ]
  },
  {
   "cell_type": "code",
   "execution_count": 168,
   "metadata": {},
   "outputs": [],
   "source": [
    "# 2. 归一化操作\n",
    "from sklearn.preprocessing import StandardScaler\n",
    "scaler = StandardScaler()\n",
    "scaler.fit(data_rfm2)\n",
    "data_rfm2 = scaler.transform(data_rfm2)"
   ]
  },
  {
   "cell_type": "code",
   "execution_count": 169,
   "metadata": {},
   "outputs": [
    {
     "data": {
      "text/plain": [
       "array([[ 1.52664777, -2.44463928,  3.73013332],\n",
       "       [-1.8885106 ,  1.04571909,  1.28281977],\n",
       "       [ 0.40511682, -0.21006894,  0.72884376],\n",
       "       [-0.64034927,  0.46558321,  0.71102567],\n",
       "       [ 1.4902314 , -0.67378419, -0.61176813]])"
      ]
     },
     "execution_count": 169,
     "metadata": {},
     "output_type": "execute_result"
    }
   ],
   "source": [
    "data_rfm2[0:5]"
   ]
  },
  {
   "cell_type": "markdown",
   "metadata": {},
   "source": [
    "接下来试着使用K-Means算法对R,F,M的值做聚类。 首先，需要选出最合适的K值，这里使用的方法是对于每一个K值计算Distortion score，并把这个值按照K值来可视化，之后根据可视化的结果来选择合适的K值。完整的代码已经给出，只需要运行就可以看到可视化结果。  "
   ]
  },
  {
   "cell_type": "code",
   "execution_count": 170,
   "metadata": {},
   "outputs": [
    {
     "data": {
      "image/png": "[encoded data removed]",
      "text/plain": [
       "<Figure size 432x288 with 1 Axes>"
      ]
     },
     "metadata": {
      "needs_background": "light"
     },
     "output_type": "display_data"
    }
   ],
   "source": [
    "import matplotlib.pyplot as plt\n",
    "%matplotlib inline\n",
    "from sklearn.cluster import KMeans\n",
    "import seaborn as sns\n",
    "sse = {}\n",
    "for k in range(2, 11):\n",
    "    kmeans = KMeans(n_clusters=k, random_state=99).fit(data_rfm2)\n",
    "    cluster_labels = kmeans.labels_\n",
    "    sse[k] = kmeans.inertia_\n",
    "\n",
    "plt.title('Distortion Score Elbow for KMeans')\n",
    "sns.pointplot(x=list(sse.keys()), y=list(sse.values()))\n",
    "plt.show()"
   ]
  },
  {
   "cell_type": "markdown",
   "metadata": {},
   "source": [
    "```问题6```: 基于以上的这幅图，我们通过Elbow Method来选出3个你认为最好的K值。"
   ]
  },
  {
   "cell_type": "markdown",
   "metadata": {},
   "source": [
    "// 你的答案....\n",
    "\n",
    "Choose 6, 7 , 8 \n",
    "\n"
   ]
  },
  {
   "cell_type": "markdown",
   "metadata": {},
   "source": [
    "```问题7```: 对于每一个K值，训练K-means算法，按照K-means的结果把用户分群，最后展示每一个群体的R, F, M的平均值。 请参考第五题上面的表格。 "
   ]
  },
  {
   "cell_type": "code",
   "execution_count": 176,
   "metadata": {},
   "outputs": [],
   "source": [
    "# 第一个K值\n",
    "# TODO:\n",
    "kmeans = KMeans(n_clusters=6, random_state=99).fit(data_rfm2)\n",
    "cluster_labels = kmeans.labels_\n",
    "data_rfm['cluster_6'] = kmeans.fit_predict(data_rfm2)"
   ]
  },
  {
   "cell_type": "code",
   "execution_count": 177,
   "metadata": {},
   "outputs": [
    {
     "data": {
      "text/plain": [
       "array([4, 5, 4, 0, 1], dtype=int32)"
      ]
     },
     "execution_count": 177,
     "metadata": {},
     "output_type": "execute_result"
    }
   ],
   "source": [
    "cluster_labels[:5]"
   ]
  },
  {
   "cell_type": "code",
   "execution_count": 181,
   "metadata": {},
   "outputs": [
    {
     "data": {
      "text/html": [
       "<div>\n",
       "<table border=\"1\" class=\"dataframe\">\n",
       "  <thead>\n",
       "    <tr style=\"text-align: right;\">\n",
       "      <th></th>\n",
       "      <th>Recency</th>\n",
       "      <th>Frequency</th>\n",
       "      <th>MonetaryValue</th>\n",
       "      <th>Recency_Q</th>\n",
       "      <th>Frequency_Q</th>\n",
       "      <th>Moneytary_Q</th>\n",
       "      <th>Segment</th>\n",
       "      <th>RFM_Score</th>\n",
       "      <th>RFM_Cluster</th>\n",
       "      <th>cluster_6</th>\n",
       "    </tr>\n",
       "    <tr>\n",
       "      <th>CustomerID</th>\n",
       "      <th></th>\n",
       "      <th></th>\n",
       "      <th></th>\n",
       "      <th></th>\n",
       "      <th></th>\n",
       "      <th></th>\n",
       "      <th></th>\n",
       "      <th></th>\n",
       "      <th></th>\n",
       "      <th></th>\n",
       "    </tr>\n",
       "  </thead>\n",
       "  <tbody>\n",
       "    <tr>\n",
       "      <th>12346</th>\n",
       "      <td>326</td>\n",
       "      <td>1</td>\n",
       "      <td>77183.60</td>\n",
       "      <td>1</td>\n",
       "      <td>1</td>\n",
       "      <td>4</td>\n",
       "      <td>114</td>\n",
       "      <td>6</td>\n",
       "      <td>Sliver</td>\n",
       "      <td>4</td>\n",
       "    </tr>\n",
       "    <tr>\n",
       "      <th>12347</th>\n",
       "      <td>3</td>\n",
       "      <td>151</td>\n",
       "      <td>3598.21</td>\n",
       "      <td>4</td>\n",
       "      <td>4</td>\n",
       "      <td>4</td>\n",
       "      <td>444</td>\n",
       "      <td>12</td>\n",
       "      <td>Gold</td>\n",
       "      <td>5</td>\n",
       "    </tr>\n",
       "    <tr>\n",
       "      <th>12348</th>\n",
       "      <td>76</td>\n",
       "      <td>31</td>\n",
       "      <td>1797.24</td>\n",
       "      <td>2</td>\n",
       "      <td>2</td>\n",
       "      <td>4</td>\n",
       "      <td>224</td>\n",
       "      <td>8</td>\n",
       "      <td>Sliver</td>\n",
       "      <td>4</td>\n",
       "    </tr>\n",
       "    <tr>\n",
       "      <th>12349</th>\n",
       "      <td>19</td>\n",
       "      <td>73</td>\n",
       "      <td>1757.55</td>\n",
       "      <td>3</td>\n",
       "      <td>3</td>\n",
       "      <td>4</td>\n",
       "      <td>334</td>\n",
       "      <td>10</td>\n",
       "      <td>Gold</td>\n",
       "      <td>0</td>\n",
       "    </tr>\n",
       "    <tr>\n",
       "      <th>12350</th>\n",
       "      <td>311</td>\n",
       "      <td>17</td>\n",
       "      <td>334.40</td>\n",
       "      <td>1</td>\n",
       "      <td>1</td>\n",
       "      <td>2</td>\n",
       "      <td>112</td>\n",
       "      <td>4</td>\n",
       "      <td>Normal</td>\n",
       "      <td>1</td>\n",
       "    </tr>\n",
       "  </tbody>\n",
       "</table>\n",
       "</div>"
      ],
      "text/plain": [
       "            Recency  Frequency  MonetaryValue  Recency_Q  Frequency_Q  \\\n",
       "CustomerID                                                              \n",
       "12346           326          1       77183.60          1            1   \n",
       "12347             3        151        3598.21          4            4   \n",
       "12348            76         31        1797.24          2            2   \n",
       "12349            19         73        1757.55          3            3   \n",
       "12350           311         17         334.40          1            1   \n",
       "\n",
       "            Moneytary_Q Segment  RFM_Score RFM_Cluster  cluster_6  \n",
       "CustomerID                                                         \n",
       "12346                 4     114          6      Sliver          4  \n",
       "12347                 4     444         12        Gold          5  \n",
       "12348                 4     224          8      Sliver          4  \n",
       "12349                 4     334         10        Gold          0  \n",
       "12350                 2     112          4      Normal          1  "
      ]
     },
     "execution_count": 181,
     "metadata": {},
     "output_type": "execute_result"
    }
   ],
   "source": [
    "data_rfm.head()"
   ]
  },
  {
   "cell_type": "code",
   "execution_count": 186,
   "metadata": {},
   "outputs": [
    {
     "data": {
      "text/html": [
       "<div>\n",
       "<table border=\"1\" class=\"dataframe\">\n",
       "  <thead>\n",
       "    <tr style=\"text-align: right;\">\n",
       "      <th></th>\n",
       "      <th>Recency</th>\n",
       "      <th>Frequency</th>\n",
       "      <th>MonetaryValue</th>\n",
       "    </tr>\n",
       "    <tr>\n",
       "      <th>cluster_6</th>\n",
       "      <th></th>\n",
       "      <th></th>\n",
       "      <th></th>\n",
       "    </tr>\n",
       "  </thead>\n",
       "  <tbody>\n",
       "    <tr>\n",
       "      <th>0</th>\n",
       "      <td>11.377358</td>\n",
       "      <td>78.048742</td>\n",
       "      <td>1240.503553</td>\n",
       "    </tr>\n",
       "    <tr>\n",
       "      <th>1</th>\n",
       "      <td>170.498409</td>\n",
       "      <td>33.384942</td>\n",
       "      <td>584.196874</td>\n",
       "    </tr>\n",
       "    <tr>\n",
       "      <th>2</th>\n",
       "      <td>34.123978</td>\n",
       "      <td>21.903270</td>\n",
       "      <td>347.530790</td>\n",
       "    </tr>\n",
       "    <tr>\n",
       "      <th>3</th>\n",
       "      <td>204.984874</td>\n",
       "      <td>7.867227</td>\n",
       "      <td>194.579681</td>\n",
       "    </tr>\n",
       "    <tr>\n",
       "      <th>4</th>\n",
       "      <td>64.755787</td>\n",
       "      <td>110.644676</td>\n",
       "      <td>2129.043613</td>\n",
       "    </tr>\n",
       "    <tr>\n",
       "      <th>5</th>\n",
       "      <td>10.741870</td>\n",
       "      <td>377.853659</td>\n",
       "      <td>10262.836992</td>\n",
       "    </tr>\n",
       "  </tbody>\n",
       "</table>\n",
       "</div>"
      ],
      "text/plain": [
       "              Recency   Frequency  MonetaryValue\n",
       "cluster_6                                       \n",
       "0           11.377358   78.048742    1240.503553\n",
       "1          170.498409   33.384942     584.196874\n",
       "2           34.123978   21.903270     347.530790\n",
       "3          204.984874    7.867227     194.579681\n",
       "4           64.755787  110.644676    2129.043613\n",
       "5           10.741870  377.853659   10262.836992"
      ]
     },
     "execution_count": 186,
     "metadata": {},
     "output_type": "execute_result"
    }
   ],
   "source": [
    "data_rfm.groupby(['cluster_6'])['Recency','Frequency','MonetaryValue'].mean()"
   ]
  },
  {
   "cell_type": "code",
   "execution_count": 188,
   "metadata": {},
   "outputs": [
    {
     "name": "stdout",
     "output_type": "stream",
     "text": [
      "[0 2 0 5 1 6 3 0 1 6 6 5 6 6 1 2 1 5 1 4]\n"
     ]
    },
    {
     "data": {
      "text/html": [
       "<div>\n",
       "<table border=\"1\" class=\"dataframe\">\n",
       "  <thead>\n",
       "    <tr style=\"text-align: right;\">\n",
       "      <th></th>\n",
       "      <th>Recency</th>\n",
       "      <th>Frequency</th>\n",
       "      <th>MonetaryValue</th>\n",
       "    </tr>\n",
       "    <tr>\n",
       "      <th>cluster_7</th>\n",
       "      <th></th>\n",
       "      <th></th>\n",
       "      <th></th>\n",
       "    </tr>\n",
       "  </thead>\n",
       "  <tbody>\n",
       "    <tr>\n",
       "      <th>0</th>\n",
       "      <td>100.503053</td>\n",
       "      <td>54.600733</td>\n",
       "      <td>1121.883934</td>\n",
       "    </tr>\n",
       "    <tr>\n",
       "      <th>1</th>\n",
       "      <td>213.159317</td>\n",
       "      <td>22.576102</td>\n",
       "      <td>375.321353</td>\n",
       "    </tr>\n",
       "    <tr>\n",
       "      <th>2</th>\n",
       "      <td>7.990476</td>\n",
       "      <td>398.626190</td>\n",
       "      <td>11146.471714</td>\n",
       "    </tr>\n",
       "    <tr>\n",
       "      <th>3</th>\n",
       "      <td>193.364066</td>\n",
       "      <td>5.579196</td>\n",
       "      <td>163.647872</td>\n",
       "    </tr>\n",
       "    <tr>\n",
       "      <th>4</th>\n",
       "      <td>34.966917</td>\n",
       "      <td>19.792481</td>\n",
       "      <td>325.493789</td>\n",
       "    </tr>\n",
       "    <tr>\n",
       "      <th>5</th>\n",
       "      <td>11.843505</td>\n",
       "      <td>73.026604</td>\n",
       "      <td>1184.890532</td>\n",
       "    </tr>\n",
       "    <tr>\n",
       "      <th>6</th>\n",
       "      <td>47.277311</td>\n",
       "      <td>156.608403</td>\n",
       "      <td>2844.565481</td>\n",
       "    </tr>\n",
       "  </tbody>\n",
       "</table>\n",
       "</div>"
      ],
      "text/plain": [
       "              Recency   Frequency  MonetaryValue\n",
       "cluster_7                                       \n",
       "0          100.503053   54.600733    1121.883934\n",
       "1          213.159317   22.576102     375.321353\n",
       "2            7.990476  398.626190   11146.471714\n",
       "3          193.364066    5.579196     163.647872\n",
       "4           34.966917   19.792481     325.493789\n",
       "5           11.843505   73.026604    1184.890532\n",
       "6           47.277311  156.608403    2844.565481"
      ]
     },
     "execution_count": 188,
     "metadata": {},
     "output_type": "execute_result"
    }
   ],
   "source": [
    "# 第二个K值\n",
    "# TODO:\n",
    "kmeans = KMeans(n_clusters=7, random_state=99).fit(data_rfm2)\n",
    "cluster_labels = kmeans.labels_\n",
    "data_rfm['cluster_7'] = kmeans.fit_predict(data_rfm2)\n",
    "print (cluster_labels[:20])\n",
    "data_rfm.groupby(['cluster_7'])['Recency','Frequency','MonetaryValue'].mean()"
   ]
  },
  {
   "cell_type": "code",
   "execution_count": 189,
   "metadata": {},
   "outputs": [
    {
     "name": "stdout",
     "output_type": "stream",
     "text": [
      "[3 2 3 7 4 7 1 3 4 7 7 0 7 7 1 2 4 0 4 5]\n"
     ]
    },
    {
     "data": {
      "text/html": [
       "<div>\n",
       "<table border=\"1\" class=\"dataframe\">\n",
       "  <thead>\n",
       "    <tr style=\"text-align: right;\">\n",
       "      <th></th>\n",
       "      <th>Recency</th>\n",
       "      <th>Frequency</th>\n",
       "      <th>MonetaryValue</th>\n",
       "    </tr>\n",
       "    <tr>\n",
       "      <th>cluster_8</th>\n",
       "      <th></th>\n",
       "      <th></th>\n",
       "      <th></th>\n",
       "    </tr>\n",
       "  </thead>\n",
       "  <tbody>\n",
       "    <tr>\n",
       "      <th>0</th>\n",
       "      <td>6.912088</td>\n",
       "      <td>89.160440</td>\n",
       "      <td>1497.591648</td>\n",
       "    </tr>\n",
       "    <tr>\n",
       "      <th>1</th>\n",
       "      <td>204.519231</td>\n",
       "      <td>5.790865</td>\n",
       "      <td>166.352837</td>\n",
       "    </tr>\n",
       "    <tr>\n",
       "      <th>2</th>\n",
       "      <td>9.195592</td>\n",
       "      <td>436.104683</td>\n",
       "      <td>12719.188320</td>\n",
       "    </tr>\n",
       "    <tr>\n",
       "      <th>3</th>\n",
       "      <td>132.623037</td>\n",
       "      <td>58.745201</td>\n",
       "      <td>1528.511206</td>\n",
       "    </tr>\n",
       "    <tr>\n",
       "      <th>4</th>\n",
       "      <td>194.356955</td>\n",
       "      <td>22.296588</td>\n",
       "      <td>372.032626</td>\n",
       "    </tr>\n",
       "    <tr>\n",
       "      <th>5</th>\n",
       "      <td>28.753117</td>\n",
       "      <td>12.603491</td>\n",
       "      <td>263.438603</td>\n",
       "    </tr>\n",
       "    <tr>\n",
       "      <th>6</th>\n",
       "      <td>35.882779</td>\n",
       "      <td>46.924747</td>\n",
       "      <td>649.575980</td>\n",
       "    </tr>\n",
       "    <tr>\n",
       "      <th>7</th>\n",
       "      <td>40.268657</td>\n",
       "      <td>155.832504</td>\n",
       "      <td>2517.472471</td>\n",
       "    </tr>\n",
       "  </tbody>\n",
       "</table>\n",
       "</div>"
      ],
      "text/plain": [
       "              Recency   Frequency  MonetaryValue\n",
       "cluster_8                                       \n",
       "0            6.912088   89.160440    1497.591648\n",
       "1          204.519231    5.790865     166.352837\n",
       "2            9.195592  436.104683   12719.188320\n",
       "3          132.623037   58.745201    1528.511206\n",
       "4          194.356955   22.296588     372.032626\n",
       "5           28.753117   12.603491     263.438603\n",
       "6           35.882779   46.924747     649.575980\n",
       "7           40.268657  155.832504    2517.472471"
      ]
     },
     "execution_count": 189,
     "metadata": {},
     "output_type": "execute_result"
    }
   ],
   "source": [
    "# 第三个K值\n",
    "# TODO:\n",
    "kmeans = KMeans(n_clusters=8, random_state=99).fit(data_rfm2)\n",
    "cluster_labels = kmeans.labels_\n",
    "data_rfm['cluster_8'] = kmeans.fit_predict(data_rfm2)\n",
    "print (cluster_labels[:20])\n",
    "data_rfm.groupby(['cluster_8'])['Recency','Frequency','MonetaryValue'].mean()"
   ]
  }
 ],
 "metadata": {
  "kernelspec": {
   "display_name": "Python 3",
   "language": "python",
   "name": "python3"
  },
  "language_info": {
   "codemirror_mode": {
    "name": "ipython",
    "version": 3
   },
   "file_extension": ".py",
   "mimetype": "text/x-python",
   "name": "python",
   "nbconvert_exporter": "python",
   "pygments_lexer": "ipython3",
   "version": "3.6.8"
  }
 },
 "nbformat": 4,
 "nbformat_minor": 2
}
