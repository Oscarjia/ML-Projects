{
 "cells": [
  {
   "cell_type": "code",
   "execution_count": 4,
   "metadata": {},
   "outputs": [
    {
     "name": "stdout",
     "output_type": "stream",
     "text": [
      "My program took 1804.4147021770477 to run\n"
     ]
    }
   ],
   "source": [
    "# 对txt文件进行中文分词\n",
    "import jieba\n",
    "import os\n",
    "from utils import files_processing\n",
    "\n",
    "# 字词分割，对整个文件内容进行字词分割\n",
    "def segment_lines(file_list,segment_out_dir,stopwords=[]):\n",
    "    \"\"\"\n",
    "    cut chinese words in txt file in file_list\n",
    "    \"\"\"\n",
    "    for i,file in enumerate(file_list):\n",
    "        segment_out_name=os.path.join(segment_out_dir,'segment_{}.txt'.format(i))\n",
    "        with open(file, 'rb') as f:\n",
    "            document = f.read()\n",
    "            document_cut = jieba.cut(document)\n",
    "            sentence_segment=[]\n",
    "            for word in document_cut:\n",
    "                if word not in stopwords:\n",
    "                    sentence_segment.append(word)\n",
    "            result = ' '.join(sentence_segment)\n",
    "            result = result.encode('utf-8')\n",
    "            with open(segment_out_name, 'wb') as f2:\n",
    "                f2.write(result)\n",
    "\n",
    "# 对source文件夹中的txt文件进行分词，输出到segment目录中\n",
    "import time\n",
    "start_time = time.time()\n",
    "\n",
    "file_list=files_processing.get_files_list('../source', postfix='*.txt')\n",
    "segment_lines(file_list, '../segment')\n",
    "\n",
    "print (\"My program took\", time.time() - start_time, \"to run\")"
   ]
  },
  {
   "cell_type": "code",
   "execution_count": null,
   "metadata": {},
   "outputs": [],
   "source": [
    "from sklearn.manifold import TSNE\n",
    "import random\n",
    "import matplotlib.pyplot as plt\n",
    "\n",
    "def tsne_plot(model,n_words_to_plot):\n",
    "    \"\"\"\n",
    "    Get n_words_to_plot random samples of words from the model and\n",
    "    visulize result by t-sne\n",
    "    https://www.kaggle.com/jeffd23/visualizing-word-vectors-with-t-sne\n",
    "    \"\"\"\n",
    "    labels = []\n",
    "    tokens = []\n",
    "    \n",
    "    words_to_plot=random.sample(list(model.wv.vocab),n_words_to_plot)\n",
    "\n",
    "    for word in words_to_plot:\n",
    "        tokens.append(model[word])\n",
    "        labels.append(word)\n",
    "    \n",
    "    tsne_model = TSNE(perplexity=40, n_components=2, init='pca', n_iter=2500, random_state=23)\n",
    "    new_values = tsne_model.fit_transform(tokens)\n",
    "\n",
    "    x = []\n",
    "    y = []\n",
    "    for value in new_values:\n",
    "        x.append(value[0])\n",
    "        y.append(value[1])\n",
    "        \n",
    "    plt.figure(figsize=(10, 10)) \n",
    "    for i in range(len(x)):\n",
    "        plt.scatter(x[i],y[i])\n",
    "        plt.annotate(labels[i],\n",
    "                     xy=(x[i], y[i]),\n",
    "                     xytext=(5, 2),\n",
    "                     textcoords='offset points',\n",
    "                     ha='right',\n",
    "                     va='bottom')\n",
    "    plt.show()"
   ]
  },
  {
   "cell_type": "markdown",
   "metadata": {},
   "source": [
    "### model 2 Test Case 1:"
   ]
  },
  {
   "cell_type": "code",
   "execution_count": 38,
   "metadata": {},
   "outputs": [
    {
     "name": "stdout",
     "output_type": "stream",
     "text": [
      "Title is: 小米MIUI 9首批机型曝光：共计15款 \n",
      "\n",
      "Content is : 此外，自本周（6月12日）起，除小米手机6等15款机型外，其余机型已暂停更新发布（含开发版/体验版内测，稳定版暂不受影响），以确保工程师可以集中全部精力进行系统优化工作。有人猜测这也是将精力主要用到MIUI9的研发之中。MIUI8去年5月发布，距今已有一年有余，也是时候更新换代了。当然，关于MIUI9的确切信息，我们还是等待官方消息。 \n",
      "\n",
      "Seperators are: 。|\\，|\\！|\\……|\\（|\\）|\\？|\\.|\\,|\\!|\\?|\\(|\\) \n",
      "\n",
      "There are  16 sentences been splited and need embeddings.\n",
      "Word map finished\n",
      "word2weight finished\n",
      "weight4ind finished \n",
      "sentences2idx finished \n",
      "seq2weight finished \n",
      "embedding start \n",
      "emb shape: (18, 100)\n",
      "PCA used for decompostion PCA(copy=True, iterated_power='auto', n_components=1, random_state=0,\n",
      "  svd_solver='auto', tol=0.0, whiten=False)\n",
      "embedding finished \n",
      "(18, 100)\n",
      "sentences 0 : 此外\n",
      "sentences 1 : 自本周\n",
      "sentences 2 : 6月12日\n",
      "sentences 3 : 起\n",
      "sentences 4 : 除小米手机6等15款机型外\n",
      "sentences 5 : 其余机型已暂停更新发布\n",
      "sentences 6 : 含开发版/体验版内测\n",
      "sentences 7 : 稳定版暂不受影响\n",
      "sentences 8 : 以确保工程师可以集中全部精力进行系统优化工作\n",
      "sentences 9 : 有人猜测这也是将精力主要用到MIUI9的研发之中\n",
      "sentences 10 : MIUI8去年5月发布\n",
      "sentences 11 : 距今已有一年有余\n",
      "sentences 12 : 也是时候更新换代了\n",
      "sentences 13 : 当然\n",
      "sentences 14 : 关于MIUI9的确切信息\n",
      "sentences 15 : 我们还是等待官方消息\n"
     ]
    },
    {
     "data": {
      "image/png": "[encoded data removed]",
      "text/plain": [
       "<Figure size 576x576 with 1 Axes>"
      ]
     },
     "metadata": {
      "needs_background": "light"
     },
     "output_type": "display_data"
    },
    {
     "name": "stdout",
     "output_type": "stream",
     "text": [
      "Abstract of this news is :\n",
      "除小米手机6等15款机型外\n",
      "其余机型已暂停更新发布\n",
      "含开发版/体验版内测\n",
      "稳定版暂不受影响\n",
      "以确保工程师可以集中全部精力进行系统优化工作\n",
      "有人猜测这也是将精力主要用到MIUI9的研发之中\n",
      "MIUI8去年5月发布\n",
      "距今已有一年有余\n",
      "The abstract contains: 8  splited sentences.\n",
      "My program took 21.821169137954712 to run\n"
     ]
    }
   ],
   "source": [
    "import sys\n",
    "sys.path.append('../src')\n",
    "import data_io, params, SIF_embedding\n",
    "from scipy.stats import pearsonr\n",
    "import matplotlib.pyplot as plt\n",
    "%matplotlib inline  \n",
    "import numpy as np\n",
    "\n",
    "import time\n",
    "start_time = time.time()\n",
    "\n",
    "title='小米MIUI 9首批机型曝光：共计15款'\n",
    "content='此外，自本周（6月12日）起，除小米手机6等15款机型外，其余机型已暂停更新发布（含开发版/体验版内测，稳定版暂不受影响），以确保工程师可以集中全部精力进行系统优化工作。有人猜测这也是将精力主要用到MIUI 9的研发之中。MIUI 8去年5月发布，距今已有一年有余，也是时候更新换代了。当然，关于MIUI 9的确切信息，我们还是等待官方消息。'\n",
    "get_abstract(title, content,seperator = r'。|\\，|\\！|\\……|\\（|\\）|\\？|\\.|\\,|\\!|\\?|\\(|\\)', n_neigbors=3,pct_keep=0.5,language='Chinese')\n",
    "\n",
    "print (\"My program took\", time.time() - start_time, \"to run\")"
   ]
  },
  {
   "cell_type": "code",
   "execution_count": 39,
   "metadata": {},
   "outputs": [
    {
     "name": "stdout",
     "output_type": "stream",
     "text": [
      "Title is: 早间机构看市：市场将再次探底 两类股逢低布局 \n",
      "\n",
      "Content is : ?　　巨丰早评：市场将再次探底　　【巨丰观点】　　周四大盘冲高回落，2500余只个股下跌。上证50、沪深300指数顽强收红。早盘大盘低开高走，展开反弹，沪指冲破120日均线压力位；午后大盘跳水，个股普跌。盘面上，保险、电力、银行、民航机场、券商、房地产、人工智能、迪士尼、网络安全等板块涨幅居前。雄安新区、福州新区、医疗器械、丝绸之路等跌幅居前。　　金融股全线大涨：保险板块涨3%：新华保险、中国太保、中国人寿涨4%，中国平安涨2%；西水股份、天茂集团盘中大涨7%以上。银行板块涨2%：招商银行大涨8%，贵阳银行、兴业银行、浦发银行、兴业银行等涨幅居前。金融股是A股纳入MSCI指数的受益者，后市可以逢低关注。　　盘中万达电影、复星医药等白马股闪崩，导致午后市场出现大幅跳水。盘后消息，银监会于6月中旬要求各家银行排查包括万达、海航集团、复星、浙江罗森内里在内数家企业的授信及风险分析，排查对象多是近年来海外投资比较凶猛、在银行业敞口较大的民营企业集团。　　巨丰投顾认为自5月以来，大盘已经走出了3重底的走势，并开启中级反弹行情。沪指在上证50及白马股推动下率先反弹，但遭遇60日、120日均线强压力而出现调整。MSCI纳入A股后，沪深300指数创17个月新高，但2500余股下跌，市场分化明显。随着6月末市场流动性紧张的可能出现，市场将再次出现探底。建议投资者重点关注半年报大幅预增的错杀股和具备估值优势的大蓝筹。　　天信投资：尾盘跳水原因揭秘伏击的品种曝光　　周四市场点评：　　沪深两市早盘纷纷低开，但是开盘之后权重板块崛起，其中保险和银行表现尤其明显，低矮动股指快速拉升，并顺势突破了60日均线和半年线的束缚；在主板拉升的过程中，市场的分化格局也较明显，题材板块和创业板表现相对较弱。不过虽然市场在早盘的上攻，但是成交量萎缩明教明显，所以这种上涨比较虚。果不其然，午后个股再度纷纷杀跌，同时股指也是顺势回落，沪市的半年线得而复失，形成长长的上影线；而创业板股指在回落的过程中失守5日均线的支撑。整体上周四市场全天保持宽幅震荡走势，尤其是沪市冲高回落。保险、银行、中字头、举牌等品种涨幅居前；钛金属、区块链、雄安新区、民营医院等品种领跌。　　今日市场预测：　　在周三收市的评论中，我们指出周四市场会出现阶段性的普涨行情，而周四早盘三大股指齐齐上涨，即使创业板股指涨幅较小，但是市场确实也给我们呈现的普涨格局。但是午后的跳水，包括创业板股指先下跌，随后沪指尾盘的快速下杀，使得市场从普涨瞬间到普跌，市场的大起大落来的非常刺激。从三大股指周四呈现给大家的K线组合来看，预计今日市场齐跌的概率较大，不过创业板合格题材板块或具备一定的抗跌性。　　短期行情判断：　　从大的环境上来看，市场目前本身不具备大面积和大空间的反弹基础，因为目前无论是从宏观面、货币基本面或者从国际经济和政治的角度来看，都不具备这样的条件，所以反应到市场中来，只能是结构性、局部性的投机性机会。而最近半个月以来，市场的走势也确实符合局部性、结构性投机的走势。　　周四市场沪指形成带长长上影线的倒锤阴线；创业板股指形成的是跌破5日和10日均线的中阴线，这种类型的K线形态，几乎都是市场开始调整的先兆，所以短期市场而言，悲观的情绪或升温。　　后市投资建议：　　短期建议投资者一定要控制好自身的仓位。中期继续看好题材板块的崛起，特别是次新股、高送转、重组股等等可以不断的去伏击，依旧具备超跌反弹的性质。 \n",
      "\n",
      "Seperators are: 。|\\，|\\！|\\……|\\（|\\）|\\？|\\.|\\,|\\!|\\?|\\(|\\) \n",
      "\n",
      "There are  81 sentences been splited and need embeddings.\n",
      "Word map finished\n",
      "word2weight finished\n",
      "weight4ind finished \n",
      "sentences2idx finished \n",
      "seq2weight finished \n",
      "embedding start \n",
      "emb shape: (83, 100)\n",
      "PCA used for decompostion PCA(copy=True, iterated_power='auto', n_components=1, random_state=0,\n",
      "  svd_solver='auto', tol=0.0, whiten=False)\n",
      "embedding finished \n",
      "(83, 100)\n",
      "sentences 0 : 　　巨丰早评：市场将再次探底　　【巨丰观点】　　周四大盘冲高回落\n",
      "sentences 1 : 2500余只个股下跌\n",
      "sentences 2 : 上证50、沪深300指数顽强收红\n",
      "sentences 3 : 早盘大盘低开高走\n",
      "sentences 4 : 展开反弹\n",
      "sentences 5 : 沪指冲破120日均线压力位；午后大盘跳水\n",
      "sentences 6 : 个股普跌\n",
      "sentences 7 : 盘面上\n",
      "sentences 8 : 保险、电力、银行、民航机场、券商、房地产、人工智能、迪士尼、网络安全等板块涨幅居前\n",
      "sentences 9 : 雄安新区、福州新区、医疗器械、丝绸之路等跌幅居前\n",
      "sentences 10 : 　　金融股全线大涨：保险板块涨3%：新华保险、中国太保、中国人寿涨4%\n",
      "sentences 11 : 中国平安涨2%；西水股份、天茂集团盘中大涨7%以上\n",
      "sentences 12 : 银行板块涨2%：招商银行大涨8%\n",
      "sentences 13 : 贵阳银行、兴业银行、浦发银行、兴业银行等涨幅居前\n",
      "sentences 14 : 金融股是A股纳入MSCI指数的受益者\n",
      "sentences 15 : 后市可以逢低关注\n",
      "sentences 16 : 　　盘中万达电影、复星医药等白马股闪崩\n",
      "sentences 17 : 导致午后市场出现大幅跳水\n",
      "sentences 18 : 盘后消息\n",
      "sentences 19 : 银监会于6月中旬要求各家银行排查包括万达、海航集团、复星、浙江罗森内里在内数家企业的授信及风险分析\n",
      "sentences 20 : 排查对象多是近年来海外投资比较凶猛、在银行业敞口较大的民营企业集团\n",
      "sentences 21 : 　　巨丰投顾认为自5月以来\n",
      "sentences 22 : 大盘已经走出了3重底的走势\n",
      "sentences 23 : 并开启中级反弹行情\n",
      "sentences 24 : 沪指在上证50及白马股推动下率先反弹\n",
      "sentences 25 : 但遭遇60日、120日均线强压力而出现调整\n",
      "sentences 26 : MSCI纳入A股后\n",
      "sentences 27 : 沪深300指数创17个月新高\n",
      "sentences 28 : 但2500余股下跌\n",
      "sentences 29 : 市场分化明显\n",
      "sentences 30 : 随着6月末市场流动性紧张的可能出现\n",
      "sentences 31 : 市场将再次出现探底\n",
      "sentences 32 : 建议投资者重点关注半年报大幅预增的错杀股和具备估值优势的大蓝筹\n",
      "sentences 33 : 　　天信投资：尾盘跳水原因揭秘伏击的品种曝光　　周四市场点评：　　沪深两市早盘纷纷低开\n",
      "sentences 34 : 但是开盘之后权重板块崛起\n",
      "sentences 35 : 其中保险和银行表现尤其明显\n",
      "sentences 36 : 低矮动股指快速拉升\n",
      "sentences 37 : 并顺势突破了60日均线和半年线的束缚；在主板拉升的过程中\n",
      "sentences 38 : 市场的分化格局也较明显\n",
      "sentences 39 : 题材板块和创业板表现相对较弱\n",
      "sentences 40 : 不过虽然市场在早盘的上攻\n",
      "sentences 41 : 但是成交量萎缩明教明显\n",
      "sentences 42 : 所以这种上涨比较虚\n",
      "sentences 43 : 果不其然\n",
      "sentences 44 : 午后个股再度纷纷杀跌\n",
      "sentences 45 : 同时股指也是顺势回落\n",
      "sentences 46 : 沪市的半年线得而复失\n",
      "sentences 47 : 形成长长的上影线；而创业板股指在回落的过程中失守5日均线的支撑\n",
      "sentences 48 : 整体上周四市场全天保持宽幅震荡走势\n",
      "sentences 49 : 尤其是沪市冲高回落\n",
      "sentences 50 : 保险、银行、中字头、举牌等品种涨幅居前；钛金属、区块链、雄安新区、民营医院等品种领跌\n",
      "sentences 51 : 　　今日市场预测：　　在周三收市的评论中\n",
      "sentences 52 : 我们指出周四市场会出现阶段性的普涨行情\n",
      "sentences 53 : 而周四早盘三大股指齐齐上涨\n",
      "sentences 54 : 即使创业板股指涨幅较小\n",
      "sentences 55 : 但是市场确实也给我们呈现的普涨格局\n",
      "sentences 56 : 但是午后的跳水\n",
      "sentences 57 : 包括创业板股指先下跌\n",
      "sentences 58 : 随后沪指尾盘的快速下杀\n",
      "sentences 59 : 使得市场从普涨瞬间到普跌\n",
      "sentences 60 : 市场的大起大落来的非常刺激\n",
      "sentences 61 : 从三大股指周四呈现给大家的K线组合来看\n",
      "sentences 62 : 预计今日市场齐跌的概率较大\n",
      "sentences 63 : 不过创业板合格题材板块或具备一定的抗跌性\n",
      "sentences 64 : 　　短期行情判断：　　从大的环境上来看\n",
      "sentences 65 : 市场目前本身不具备大面积和大空间的反弹基础\n",
      "sentences 66 : 因为目前无论是从宏观面、货币基本面或者从国际经济和政治的角度来看\n",
      "sentences 67 : 都不具备这样的条件\n",
      "sentences 68 : 所以反应到市场中来\n",
      "sentences 69 : 只能是结构性、局部性的投机性机会\n",
      "sentences 70 : 而最近半个月以来\n",
      "sentences 71 : 市场的走势也确实符合局部性、结构性投机的走势\n",
      "sentences 72 : 　　周四市场沪指形成带长长上影线的倒锤阴线；创业板股指形成的是跌破5日和10日均线的中阴线\n",
      "sentences 73 : 这种类型的K线形态\n",
      "sentences 74 : 几乎都是市场开始调整的先兆\n",
      "sentences 75 : 所以短期市场而言\n",
      "sentences 76 : 悲观的情绪或升温\n",
      "sentences 77 : 　　后市投资建议：　　短期建议投资者一定要控制好自身的仓位\n",
      "sentences 78 : 中期继续看好题材板块的崛起\n",
      "sentences 79 : 特别是次新股、高送转、重组股等等可以不断的去伏击\n",
      "sentences 80 : 依旧具备超跌反弹的性质\n"
     ]
    },
    {
     "data": {
      "image/png": "[encoded data removed]",
      "text/plain": [
       "<Figure size 576x576 with 1 Axes>"
      ]
     },
     "metadata": {
      "needs_background": "light"
     },
     "output_type": "display_data"
    },
    {
     "name": "stdout",
     "output_type": "stream",
     "text": [
      "Abstract of this news is :\n",
      "　　巨丰早评：市场将再次探底　　【巨丰观点】　　周四大盘冲高回落\n",
      "2500余只个股下跌\n",
      "上证50、沪深300指数顽强收红\n",
      "早盘大盘低开高走\n",
      "展开反弹\n",
      "沪指冲破120日均线压力位；午后大盘跳水\n",
      "个股普跌\n",
      "盘面上\n",
      "保险、电力、银行、民航机场、券商、房地产、人工智能、迪士尼、网络安全等板块涨幅居前\n",
      "雄安新区、福州新区、医疗器械、丝绸之路等跌幅居前\n",
      "　　金融股全线大涨：保险板块涨3%：新华保险、中国太保、中国人寿涨4%\n",
      "中国平安涨2%；西水股份、天茂集团盘中大涨7%以上\n",
      "银行板块涨2%：招商银行大涨8%\n",
      "中期继续看好题材板块的崛起\n",
      "特别是次新股、高送转、重组股等等可以不断的去伏击\n",
      "The abstract contains: 15  splited sentences.\n",
      "My program took 20.736007928848267 to run\n"
     ]
    }
   ],
   "source": [
    "##Mdel 2 Test case 2\n",
    "import time\n",
    "start_time = time.time()\n",
    "\n",
    "title='早间机构看市：市场将再次探底 两类股逢低布局'\n",
    "content='?\\r\\n\\u3000\\u3000巨丰早评：市场将再次探底\\r\\n\\u3000\\u3000【巨丰观点】\\r\\n\\u3000\\u3000周四大盘冲高回落，2500余只个股下跌。上证50、沪深300指数顽强收红。早盘大盘低开高走，展开反弹，沪指冲破120日均线压力位；午后大盘跳水，个股普跌。盘面上，保险、电力、银行、民航机场、券商、房地产、人工智能、迪士尼、网络安全等板块涨幅居前。雄安新区、福州新区、医疗器械、丝绸之路等跌幅居前。\\r\\n\\u3000\\u3000金融股全线大涨：保险板块涨3%：新华保险、中国太保、中国人寿涨4%，中国平安涨2%；西水股份、天茂集团盘中大涨7%以上。银行板块涨2%：招商银行大涨8%，贵阳银行、兴业银行、浦发银行、兴业银行等涨幅居前。金融股是A股纳入MSCI指数的受益者，后市可以逢低关注。\\r\\n\\u3000\\u3000盘中万达电影、复星医药等白马股闪崩，导致午后市场出现大幅跳水。盘后消息，银监会于6月中旬要求各家银行排查包括万达、海航集团、复星、浙江罗森内里在内数家企业的授信及风险分析，排查对象多是近年来海外投资比较凶猛、在银行业敞口较大的民营企业集团。\\r\\n\\u3000\\u3000巨丰投顾认为自5月以来，大盘已经走出了3重底的走势，并开启中级反弹行情。沪指在上证50及白马股推动下率先反弹，但遭遇60日、120日均线强压力而出现调整。MSCI纳入A股后，沪深300指数创17个月新高，但2500余股下跌，市场分化明显。随着6月末市场流动性紧张的可能出现，市场将再次出现探底。建议投资者重点关注半年报大幅预增的错杀股和具备估值优势的大蓝筹。\\r\\n\\u3000\\u3000天信投资：尾盘跳水原因揭秘 伏击的品种曝光\\r\\n\\u3000\\u3000周四市场点评：\\r\\n\\u3000\\u3000沪深两市早盘纷纷低开，但是开盘之后权重板块崛起，其中保险和银行表现尤其明显，低矮动股指快速拉升，并顺势突破了60日均线和半年线的束缚；在主板拉升的过程中，市场的分化格局也较明显，题材板块和创业板表现相对较弱。不过虽然市场在早盘的上攻，但是成交量萎缩明教明显，所以这种上涨比较虚。果不其然，午后个股再度纷纷杀跌，同时股指也是顺势回落，沪市的半年线得而复失，形成长长的上影线；而创业板股指在回落的过程中失守5日均线的支撑。整体上周四市场全天保持宽幅震荡走势，尤其是沪市冲高回落。保险、银行、中字头、举牌等品种涨幅居前；钛金属、区块链、雄安新区、民营医院等品种领跌。\\r\\n\\u3000\\u3000今日市场预测：\\r\\n\\u3000\\u3000在周三收市的评论中，我们指出周四市场会出现阶段性的普涨行情，而周四早盘三大股指齐齐上涨，即使创业板股指涨幅较小，但是市场确实也给我们呈现的普涨格局。但是午后的跳水，包括创业板股指先下跌，随后沪指尾盘的快速下杀，使得市场从普涨瞬间到普跌，市场的大起大落来的非常刺激。从三大股指周四呈现给大家的K线组合来看，预计今日市场齐跌的概率较大，不过创业板合格题材板块或具备一定的抗跌性。\\r\\n\\u3000\\u3000短期行情判断：\\r\\n\\u3000\\u3000从大的环境上来看，市场目前本身不具备大面积和大空间的反弹基础，因为目前无论是从宏观面、货币基本面或者从国际经济和政治的角度来看，都不具备这样的条件，所以反应到市场中来，只能是结构性、局部性的投机性机会。而最近半个月以来，市场的走势也确实符合局部性、结构性投机的走势。\\r\\n\\u3000\\u3000周四市场沪指形成带长长上影线的倒锤阴线；创业板股指形成的是跌破5日和10日均线的中阴线，这种类型的K线形态，几乎都是市场开始调整的先兆，所以短期市场而言，悲观的情绪或升温。\\r\\n\\u3000\\u3000后市投资建议：\\r\\n\\u3000\\u3000短期建议投资者一定要控制好自身的仓位。中期继续看好题材板块的崛起，特别是次新股、高送转、重组股等等可以不断的去伏击，依旧具备超跌反弹的性质。\\r\\n'\n",
    "get_abstract(title, content,seperator = r'。|\\，|\\！|\\……|\\（|\\）|\\？|\\.|\\,|\\!|\\?|\\(|\\)', n_neigbors=3,pct_keep=0.2,language='Chinese')\n",
    "\n",
    "print (\"My program took\", time.time() - start_time, \"to run\")"
   ]
  },
  {
   "cell_type": "code",
   "execution_count": 8,
   "metadata": {},
   "outputs": [
    {
     "name": "stdout",
     "output_type": "stream",
     "text": [
      "Title is: 小米MIUI 9首批机型曝光：共计15款 \n",
      "\n",
      "Content is : 此外，自本周（6月12日）起，除小米手机6等15款机型外，其余机型已暂停更新发布（含开发版/体验版内测，稳定版暂不受影响），以确保工程师可以集中全部精力进行系统优化工作。有人猜测这也是将精力主要用到MIUI9的研发之中。MIUI8去年5月发布，距今已有一年有余，也是时候更新换代了。当然，关于MIUI9的确切信息，我们还是等待官方消息。 \n",
      "\n",
      "Seperators are: 。|\\，|\\！|\\……|\\（|\\）|\\？|\\.|\\,|\\!|\\?|\\(|\\) \n",
      "\n",
      "0  :  20   小米MIUI 9首批机型曝光：共计15款\n",
      "\n",
      "1  :  171   此外，自本周（6月12日）起，除小米手机6等15款机型外，其余机型已暂停更新发布（含开发版/体验版内测，稳定版暂不受影响），以确保工程师可以集中全部精力进行系统优化工作。有人猜测这也是将精力主要用到MIUI 9的研发之中。MIUI 8去年5月发布，距今已有一年有余，也是时候更新换代了。当然，关于MIUI 9的确切信息，我们还是等待官方消息。\n",
      "\n",
      "2  :  2   此外\n",
      "\n",
      "3  :  3   自本周\n",
      "\n",
      "4  :  5   6月12日\n",
      "\n",
      "5  :  1   起\n",
      "\n",
      "6  :  13   除小米手机6等15款机型外\n",
      "\n",
      "7  :  11   其余机型已暂停更新发布\n",
      "\n",
      "8  :  10   含开发版/体验版内测\n",
      "\n",
      "9  :  8   稳定版暂不受影响\n",
      "\n",
      "10  :  22   以确保工程师可以集中全部精力进行系统优化工作\n",
      "\n",
      "11  :  24   有人猜测这也是将精力主要用到MIUI9的研发之中\n",
      "\n",
      "12  :  11   MIUI8去年5月发布\n",
      "\n",
      "13  :  8   距今已有一年有余\n",
      "\n",
      "14  :  9   也是时候更新换代了\n",
      "\n",
      "15  :  2   当然\n",
      "\n",
      "16  :  12   关于MIUI9的确切信息\n",
      "\n",
      "17  :  10   我们还是等待官方消息\n",
      "\n",
      "There are  16 sentences been splited and need embeddings.\n",
      "Word map finished\n",
      "word2weight finished\n",
      "weight4ind finished \n",
      "sentences2idx finished \n",
      "seq2weight finished \n",
      "embedding start \n",
      "get_weighted_average done\n",
      "(18, 300)\n",
      "[[-0.05239014  0.10991672  0.12034596 ... -0.04499227 -0.05124024\n",
      "   0.22547309]\n",
      " [-0.05239014  0.10991672  0.12034596 ... -0.04499227 -0.05124024\n",
      "   0.22547309]\n",
      " [ 0.60794219 -0.46873715 -0.10199    ... -1.19862656  1.99368534\n",
      "   0.67959048]\n",
      " ...\n",
      " [ 1.65073392 -2.37843702  0.72188311 ... -0.79262667  1.48588055\n",
      "  -0.31353406]\n",
      " [-0.05239014  0.10991672  0.12034596 ... -0.04499227 -0.05124024\n",
      "   0.22547309]\n",
      " [-0.05239014  0.10991672  0.12034596 ... -0.04499227 -0.05124024\n",
      "   0.22547309]]\n",
      "PCA used for decompostion PCA(copy=True, iterated_power='auto', n_components=1, random_state=0,\n",
      "  svd_solver='auto', tol=0.0, whiten=False)\n",
      "embedding finished \n",
      "(18, 300)\n",
      "sentences 0 : 此外\n",
      "sentences 1 : 自本周\n",
      "sentences 2 : 6月12日\n",
      "sentences 3 : 起\n",
      "sentences 4 : 除小米手机6等15款机型外\n",
      "sentences 5 : 其余机型已暂停更新发布\n",
      "sentences 6 : 含开发版/体验版内测\n",
      "sentences 7 : 稳定版暂不受影响\n",
      "sentences 8 : 以确保工程师可以集中全部精力进行系统优化工作\n",
      "sentences 9 : 有人猜测这也是将精力主要用到MIUI9的研发之中\n",
      "sentences 10 : MIUI8去年5月发布\n",
      "sentences 11 : 距今已有一年有余\n",
      "sentences 12 : 也是时候更新换代了\n",
      "sentences 13 : 当然\n",
      "sentences 14 : 关于MIUI9的确切信息\n",
      "sentences 15 : 我们还是等待官方消息\n",
      "scores for all the sentences are: [-0.005873214497832951, 1.0, 1.0, -0.13955858964797638, 1.0, 1.0, 1.0, 1.0, 1.0, 1.0, 1.0, 1.0, 1.0, -0.14613234161172436, 1.0, 1.0]\n"
     ]
    },
    {
     "data": {
      "image/png": "[encoded data removed]",
      "text/plain": [
       "<Figure size 576x576 with 1 Axes>"
      ]
     },
     "metadata": {
      "needs_background": "light"
     },
     "output_type": "display_data"
    },
    {
     "name": "stdout",
     "output_type": "stream",
     "text": [
      "smoothed scores: [0.1819328908867193, 0.8283654556683353, 0.856971213056946, 0.1936687431171679, 0.93488236630583, 0.93488236630583, 0.93488236630583, 1.0, 1.0, 1.0, 0.9345067233364729, 0.9345067233364729, 0.9345067233364729, 0.23591177225885043, 0.908309412671062, 0.8853867658388276]\n",
      "除小米手机6等15款机型外\n",
      "其余机型已暂停更新发布\n",
      "含开发版/体验版内测\n",
      "稳定版暂不受影响\n",
      "以确保工程师可以集中全部精力进行系统优化工作\n",
      "有人猜测这也是将精力主要用到MIUI9的研发之中\n",
      "MIUI8去年5月发布\n",
      "距今已有一年有余\n",
      "The abstract contains: 8  sentences\n",
      "My program took 72.14498400688171 to run\n"
     ]
    }
   ],
   "source": [
    "import sys\n",
    "sys.path.append('../src')\n",
    "import data_io, params, SIF_embedding\n",
    "from scipy.stats import pearsonr\n",
    "import matplotlib.pyplot as plt\n",
    "%matplotlib inline  \n",
    "import numpy as np\n",
    "\n",
    "import time\n",
    "start_time = time.time()\n",
    "\n",
    "title='小米MIUI 9首批机型曝光：共计15款'\n",
    "content='此外，自本周（6月12日）起，除小米手机6等15款机型外，其余机型已暂停更新发布（含开发版/体验版内测，稳定版暂不受影响），以确保工程师可以集中全部精力进行系统优化工作。有人猜测这也是将精力主要用到MIUI 9的研发之中。MIUI 8去年5月发布，距今已有一年有余，也是时候更新换代了。当然，关于MIUI 9的确切信息，我们还是等待官方消息。'\n",
    "get_abstract(title, content,seperator = r'。|\\，|\\！|\\……|\\（|\\）|\\？|\\.|\\,|\\!|\\?|\\(|\\)', n_neigbors=3,pct_keep=0.5,language='Chinese')\n",
    "\n",
    "print (\"My program took\", time.time() - start_time, \"to run\")"
   ]
  },
  {
   "cell_type": "code",
   "execution_count": 26,
   "metadata": {},
   "outputs": [
    {
     "name": "stdout",
     "output_type": "stream",
     "text": [
      "Title is: 早间机构看市：市场将再次探底 两类股逢低布局 \n",
      "\n",
      "Content is : ?　　巨丰早评：市场将再次探底　　【巨丰观点】　　周四大盘冲高回落，2500余只个股下跌。上证50、沪深300指数顽强收红。早盘大盘低开高走，展开反弹，沪指冲破120日均线压力位；午后大盘跳水，个股普跌。盘面上，保险、电力、银行、民航机场、券商、房地产、人工智能、迪士尼、网络安全等板块涨幅居前。雄安新区、福州新区、医疗器械、丝绸之路等跌幅居前。　　金融股全线大涨：保险板块涨3%：新华保险、中国太保、中国人寿涨4%，中国平安涨2%；西水股份、天茂集团盘中大涨7%以上。银行板块涨2%：招商银行大涨8%，贵阳银行、兴业银行、浦发银行、兴业银行等涨幅居前。金融股是A股纳入MSCI指数的受益者，后市可以逢低关注。　　盘中万达电影、复星医药等白马股闪崩，导致午后市场出现大幅跳水。盘后消息，银监会于6月中旬要求各家银行排查包括万达、海航集团、复星、浙江罗森内里在内数家企业的授信及风险分析，排查对象多是近年来海外投资比较凶猛、在银行业敞口较大的民营企业集团。　　巨丰投顾认为自5月以来，大盘已经走出了3重底的走势，并开启中级反弹行情。沪指在上证50及白马股推动下率先反弹，但遭遇60日、120日均线强压力而出现调整。MSCI纳入A股后，沪深300指数创17个月新高，但2500余股下跌，市场分化明显。随着6月末市场流动性紧张的可能出现，市场将再次出现探底。建议投资者重点关注半年报大幅预增的错杀股和具备估值优势的大蓝筹。　　天信投资：尾盘跳水原因揭秘伏击的品种曝光　　周四市场点评：　　沪深两市早盘纷纷低开，但是开盘之后权重板块崛起，其中保险和银行表现尤其明显，低矮动股指快速拉升，并顺势突破了60日均线和半年线的束缚；在主板拉升的过程中，市场的分化格局也较明显，题材板块和创业板表现相对较弱。不过虽然市场在早盘的上攻，但是成交量萎缩明教明显，所以这种上涨比较虚。果不其然，午后个股再度纷纷杀跌，同时股指也是顺势回落，沪市的半年线得而复失，形成长长的上影线；而创业板股指在回落的过程中失守5日均线的支撑。整体上周四市场全天保持宽幅震荡走势，尤其是沪市冲高回落。保险、银行、中字头、举牌等品种涨幅居前；钛金属、区块链、雄安新区、民营医院等品种领跌。　　今日市场预测：　　在周三收市的评论中，我们指出周四市场会出现阶段性的普涨行情，而周四早盘三大股指齐齐上涨，即使创业板股指涨幅较小，但是市场确实也给我们呈现的普涨格局。但是午后的跳水，包括创业板股指先下跌，随后沪指尾盘的快速下杀，使得市场从普涨瞬间到普跌，市场的大起大落来的非常刺激。从三大股指周四呈现给大家的K线组合来看，预计今日市场齐跌的概率较大，不过创业板合格题材板块或具备一定的抗跌性。　　短期行情判断：　　从大的环境上来看，市场目前本身不具备大面积和大空间的反弹基础，因为目前无论是从宏观面、货币基本面或者从国际经济和政治的角度来看，都不具备这样的条件，所以反应到市场中来，只能是结构性、局部性的投机性机会。而最近半个月以来，市场的走势也确实符合局部性、结构性投机的走势。　　周四市场沪指形成带长长上影线的倒锤阴线；创业板股指形成的是跌破5日和10日均线的中阴线，这种类型的K线形态，几乎都是市场开始调整的先兆，所以短期市场而言，悲观的情绪或升温。　　后市投资建议：　　短期建议投资者一定要控制好自身的仓位。中期继续看好题材板块的崛起，特别是次新股、高送转、重组股等等可以不断的去伏击，依旧具备超跌反弹的性质。 \n",
      "\n",
      "Seperators are: 。|\\，|\\！|\\……|\\（|\\）|\\？|\\.|\\,|\\!|\\?|\\(|\\) \n",
      "\n",
      "There are  81 sentences been splited and need embeddings.\n",
      "Word map finished\n",
      "word2weight finished\n",
      "weight4ind finished \n",
      "sentences2idx finished \n",
      "seq2weight finished \n",
      "embedding start \n",
      "get_weighted_average done\n",
      "(83, 300)\n",
      "[[-0.05239014  0.10991672  0.12034596 ... -0.04499227 -0.05124024\n",
      "   0.22547309]\n",
      " [-0.06795159 -0.00344765  0.06071603 ... -0.06034406 -0.09704524\n",
      "   0.28224086]\n",
      " [-0.05239014  0.10991672  0.12034596 ... -0.04499227 -0.05124024\n",
      "   0.22547309]\n",
      " ...\n",
      " [-0.05239014  0.10991672  0.12034596 ... -0.04499227 -0.05124024\n",
      "   0.22547309]\n",
      " [-0.05239014  0.10991672  0.12034596 ... -0.04499227 -0.05124024\n",
      "   0.22547309]\n",
      " [-0.05239014  0.10991672  0.12034596 ... -0.04499227 -0.05124024\n",
      "   0.22547309]]\n",
      "PCA used for decompostion PCA(copy=True, iterated_power='auto', n_components=1, random_state=0,\n",
      "  svd_solver='auto', tol=0.0, whiten=False)\n",
      "embedding finished \n",
      "(83, 300)\n",
      "sentences 0 : 　　巨丰早评：市场将再次探底　　【巨丰观点】　　周四大盘冲高回落\n",
      "sentences 1 : 2500余只个股下跌\n",
      "sentences 2 : 上证50、沪深300指数顽强收红\n",
      "sentences 3 : 早盘大盘低开高走\n",
      "sentences 4 : 展开反弹\n",
      "sentences 5 : 沪指冲破120日均线压力位；午后大盘跳水\n",
      "sentences 6 : 个股普跌\n",
      "sentences 7 : 盘面上\n",
      "sentences 8 : 保险、电力、银行、民航机场、券商、房地产、人工智能、迪士尼、网络安全等板块涨幅居前\n",
      "sentences 9 : 雄安新区、福州新区、医疗器械、丝绸之路等跌幅居前\n",
      "sentences 10 : 　　金融股全线大涨：保险板块涨3%：新华保险、中国太保、中国人寿涨4%\n",
      "sentences 11 : 中国平安涨2%；西水股份、天茂集团盘中大涨7%以上\n",
      "sentences 12 : 银行板块涨2%：招商银行大涨8%\n",
      "sentences 13 : 贵阳银行、兴业银行、浦发银行、兴业银行等涨幅居前\n",
      "sentences 14 : 金融股是A股纳入MSCI指数的受益者\n",
      "sentences 15 : 后市可以逢低关注\n",
      "sentences 16 : 　　盘中万达电影、复星医药等白马股闪崩\n",
      "sentences 17 : 导致午后市场出现大幅跳水\n",
      "sentences 18 : 盘后消息\n",
      "sentences 19 : 银监会于6月中旬要求各家银行排查包括万达、海航集团、复星、浙江罗森内里在内数家企业的授信及风险分析\n",
      "sentences 20 : 排查对象多是近年来海外投资比较凶猛、在银行业敞口较大的民营企业集团\n",
      "sentences 21 : 　　巨丰投顾认为自5月以来\n",
      "sentences 22 : 大盘已经走出了3重底的走势\n",
      "sentences 23 : 并开启中级反弹行情\n",
      "sentences 24 : 沪指在上证50及白马股推动下率先反弹\n",
      "sentences 25 : 但遭遇60日、120日均线强压力而出现调整\n",
      "sentences 26 : MSCI纳入A股后\n",
      "sentences 27 : 沪深300指数创17个月新高\n",
      "sentences 28 : 但2500余股下跌\n",
      "sentences 29 : 市场分化明显\n",
      "sentences 30 : 随着6月末市场流动性紧张的可能出现\n",
      "sentences 31 : 市场将再次出现探底\n",
      "sentences 32 : 建议投资者重点关注半年报大幅预增的错杀股和具备估值优势的大蓝筹\n",
      "sentences 33 : 　　天信投资：尾盘跳水原因揭秘伏击的品种曝光　　周四市场点评：　　沪深两市早盘纷纷低开\n",
      "sentences 34 : 但是开盘之后权重板块崛起\n",
      "sentences 35 : 其中保险和银行表现尤其明显\n",
      "sentences 36 : 低矮动股指快速拉升\n",
      "sentences 37 : 并顺势突破了60日均线和半年线的束缚；在主板拉升的过程中\n",
      "sentences 38 : 市场的分化格局也较明显\n",
      "sentences 39 : 题材板块和创业板表现相对较弱\n",
      "sentences 40 : 不过虽然市场在早盘的上攻\n",
      "sentences 41 : 但是成交量萎缩明教明显\n",
      "sentences 42 : 所以这种上涨比较虚\n",
      "sentences 43 : 果不其然\n",
      "sentences 44 : 午后个股再度纷纷杀跌\n",
      "sentences 45 : 同时股指也是顺势回落\n",
      "sentences 46 : 沪市的半年线得而复失\n",
      "sentences 47 : 形成长长的上影线；而创业板股指在回落的过程中失守5日均线的支撑\n",
      "sentences 48 : 整体上周四市场全天保持宽幅震荡走势\n",
      "sentences 49 : 尤其是沪市冲高回落\n",
      "sentences 50 : 保险、银行、中字头、举牌等品种涨幅居前；钛金属、区块链、雄安新区、民营医院等品种领跌\n",
      "sentences 51 : 　　今日市场预测：　　在周三收市的评论中\n",
      "sentences 52 : 我们指出周四市场会出现阶段性的普涨行情\n",
      "sentences 53 : 而周四早盘三大股指齐齐上涨\n",
      "sentences 54 : 即使创业板股指涨幅较小\n",
      "sentences 55 : 但是市场确实也给我们呈现的普涨格局\n",
      "sentences 56 : 但是午后的跳水\n",
      "sentences 57 : 包括创业板股指先下跌\n",
      "sentences 58 : 随后沪指尾盘的快速下杀\n",
      "sentences 59 : 使得市场从普涨瞬间到普跌\n",
      "sentences 60 : 市场的大起大落来的非常刺激\n",
      "sentences 61 : 从三大股指周四呈现给大家的K线组合来看\n",
      "sentences 62 : 预计今日市场齐跌的概率较大\n",
      "sentences 63 : 不过创业板合格题材板块或具备一定的抗跌性\n",
      "sentences 64 : 　　短期行情判断：　　从大的环境上来看\n",
      "sentences 65 : 市场目前本身不具备大面积和大空间的反弹基础\n",
      "sentences 66 : 因为目前无论是从宏观面、货币基本面或者从国际经济和政治的角度来看\n",
      "sentences 67 : 都不具备这样的条件\n",
      "sentences 68 : 所以反应到市场中来\n",
      "sentences 69 : 只能是结构性、局部性的投机性机会\n",
      "sentences 70 : 而最近半个月以来\n",
      "sentences 71 : 市场的走势也确实符合局部性、结构性投机的走势\n",
      "sentences 72 : 　　周四市场沪指形成带长长上影线的倒锤阴线；创业板股指形成的是跌破5日和10日均线的中阴线\n",
      "sentences 73 : 这种类型的K线形态\n",
      "sentences 74 : 几乎都是市场开始调整的先兆\n",
      "sentences 75 : 所以短期市场而言\n",
      "sentences 76 : 悲观的情绪或升温\n",
      "sentences 77 : 　　后市投资建议：　　短期建议投资者一定要控制好自身的仓位\n",
      "sentences 78 : 中期继续看好题材板块的崛起\n",
      "sentences 79 : 特别是次新股、高送转、重组股等等可以不断的去伏击\n",
      "sentences 80 : 依旧具备超跌反弹的性质\n"
     ]
    },
    {
     "data": {
      "image/png": "[encoded data removed]",
      "text/plain": [
       "<Figure size 576x576 with 1 Axes>"
      ]
     },
     "metadata": {
      "needs_background": "light"
     },
     "output_type": "display_data"
    },
    {
     "name": "stdout",
     "output_type": "stream",
     "text": [
      "Abstract of this news is :\n",
      "　　巨丰早评：市场将再次探底　　【巨丰观点】　　周四大盘冲高回落\n",
      "2500余只个股下跌\n",
      "上证50、沪深300指数顽强收红\n",
      "早盘大盘低开高走\n",
      "展开反弹\n",
      "沪指冲破120日均线压力位；午后大盘跳水\n",
      "个股普跌\n",
      "盘面上\n",
      "保险、电力、银行、民航机场、券商、房地产、人工智能、迪士尼、网络安全等板块涨幅居前\n",
      "雄安新区、福州新区、医疗器械、丝绸之路等跌幅居前\n",
      "　　金融股全线大涨：保险板块涨3%：新华保险、中国太保、中国人寿涨4%\n",
      "中国平安涨2%；西水股份、天茂集团盘中大涨7%以上\n",
      "银行板块涨2%：招商银行大涨8%\n",
      "贵阳银行、兴业银行、浦发银行、兴业银行等涨幅居前\n",
      "　　天信投资：尾盘跳水原因揭秘伏击的品种曝光　　周四市场点评：　　沪深两市早盘纷纷低开\n",
      "The abstract contains: 15  splited sentences.\n",
      "My program took 83.05906009674072 to run\n"
     ]
    }
   ],
   "source": [
    "import time\n",
    "start_time = time.time()\n",
    "\n",
    "title='早间机构看市：市场将再次探底 两类股逢低布局'\n",
    "content='?\\r\\n\\u3000\\u3000巨丰早评：市场将再次探底\\r\\n\\u3000\\u3000【巨丰观点】\\r\\n\\u3000\\u3000周四大盘冲高回落，2500余只个股下跌。上证50、沪深300指数顽强收红。早盘大盘低开高走，展开反弹，沪指冲破120日均线压力位；午后大盘跳水，个股普跌。盘面上，保险、电力、银行、民航机场、券商、房地产、人工智能、迪士尼、网络安全等板块涨幅居前。雄安新区、福州新区、医疗器械、丝绸之路等跌幅居前。\\r\\n\\u3000\\u3000金融股全线大涨：保险板块涨3%：新华保险、中国太保、中国人寿涨4%，中国平安涨2%；西水股份、天茂集团盘中大涨7%以上。银行板块涨2%：招商银行大涨8%，贵阳银行、兴业银行、浦发银行、兴业银行等涨幅居前。金融股是A股纳入MSCI指数的受益者，后市可以逢低关注。\\r\\n\\u3000\\u3000盘中万达电影、复星医药等白马股闪崩，导致午后市场出现大幅跳水。盘后消息，银监会于6月中旬要求各家银行排查包括万达、海航集团、复星、浙江罗森内里在内数家企业的授信及风险分析，排查对象多是近年来海外投资比较凶猛、在银行业敞口较大的民营企业集团。\\r\\n\\u3000\\u3000巨丰投顾认为自5月以来，大盘已经走出了3重底的走势，并开启中级反弹行情。沪指在上证50及白马股推动下率先反弹，但遭遇60日、120日均线强压力而出现调整。MSCI纳入A股后，沪深300指数创17个月新高，但2500余股下跌，市场分化明显。随着6月末市场流动性紧张的可能出现，市场将再次出现探底。建议投资者重点关注半年报大幅预增的错杀股和具备估值优势的大蓝筹。\\r\\n\\u3000\\u3000天信投资：尾盘跳水原因揭秘 伏击的品种曝光\\r\\n\\u3000\\u3000周四市场点评：\\r\\n\\u3000\\u3000沪深两市早盘纷纷低开，但是开盘之后权重板块崛起，其中保险和银行表现尤其明显，低矮动股指快速拉升，并顺势突破了60日均线和半年线的束缚；在主板拉升的过程中，市场的分化格局也较明显，题材板块和创业板表现相对较弱。不过虽然市场在早盘的上攻，但是成交量萎缩明教明显，所以这种上涨比较虚。果不其然，午后个股再度纷纷杀跌，同时股指也是顺势回落，沪市的半年线得而复失，形成长长的上影线；而创业板股指在回落的过程中失守5日均线的支撑。整体上周四市场全天保持宽幅震荡走势，尤其是沪市冲高回落。保险、银行、中字头、举牌等品种涨幅居前；钛金属、区块链、雄安新区、民营医院等品种领跌。\\r\\n\\u3000\\u3000今日市场预测：\\r\\n\\u3000\\u3000在周三收市的评论中，我们指出周四市场会出现阶段性的普涨行情，而周四早盘三大股指齐齐上涨，即使创业板股指涨幅较小，但是市场确实也给我们呈现的普涨格局。但是午后的跳水，包括创业板股指先下跌，随后沪指尾盘的快速下杀，使得市场从普涨瞬间到普跌，市场的大起大落来的非常刺激。从三大股指周四呈现给大家的K线组合来看，预计今日市场齐跌的概率较大，不过创业板合格题材板块或具备一定的抗跌性。\\r\\n\\u3000\\u3000短期行情判断：\\r\\n\\u3000\\u3000从大的环境上来看，市场目前本身不具备大面积和大空间的反弹基础，因为目前无论是从宏观面、货币基本面或者从国际经济和政治的角度来看，都不具备这样的条件，所以反应到市场中来，只能是结构性、局部性的投机性机会。而最近半个月以来，市场的走势也确实符合局部性、结构性投机的走势。\\r\\n\\u3000\\u3000周四市场沪指形成带长长上影线的倒锤阴线；创业板股指形成的是跌破5日和10日均线的中阴线，这种类型的K线形态，几乎都是市场开始调整的先兆，所以短期市场而言，悲观的情绪或升温。\\r\\n\\u3000\\u3000后市投资建议：\\r\\n\\u3000\\u3000短期建议投资者一定要控制好自身的仓位。中期继续看好题材板块的崛起，特别是次新股、高送转、重组股等等可以不断的去伏击，依旧具备超跌反弹的性质。\\r\\n'\n",
    "get_abstract(title, content,seperator = r'。|\\，|\\！|\\……|\\（|\\）|\\？|\\.|\\,|\\!|\\?|\\(|\\)', n_neigbors=3,pct_keep=0.2,language='Chinese')\n",
    "\n",
    "print (\"My program took\", time.time() - start_time, \"to run\")"
   ]
  },
  {
   "cell_type": "code",
   "execution_count": 21,
   "metadata": {},
   "outputs": [
    {
     "name": "stdout",
     "output_type": "stream",
     "text": [
      "Title is: k-nearest neighbors algorithm\n",
      "Content is : In pattern recognition, the k-nearest neighbors algorithm (k-NN) is a non-parametric method used for classification and regression! In both cases, the input consists of the k closest training examples in the feature space! The output depends on whether k-NN is used for classification or regression: In k-NN classification, the output is a class membership, An object is classified by a plurality vote of its neighbors, with the object being assigned to the class most common among its k nearest neighbors (k is a positive integer, typically small). If k = 1, then the object is simply assigned to the class of that single nearest neighbor. The neighbors are taken from a set of objects for which the class (for k-NN classification) or the object property value (for k-NN regression) is known. This can be thought of as the training set for the algorithm, though no explicit training step is required, A peculiarity of the k-NN algorithm is that it is sensitive to the local structure of the data.\n",
      "There are  12 sentences been splited and need embeddings.\n",
      "PCA used for decompostion PCA(copy=True, iterated_power='auto', n_components=1, random_state=0,\n",
      "  svd_solver='auto', tol=0.0, whiten=False)\n",
      "(14, 300)\n",
      "sentences 0 : In pattern recognition\n",
      "sentences 1 :  the k-nearest neighbors algorithm (k-NN) is a non-parametric method used for classification and regression\n",
      "sentences 2 :  In both cases\n",
      "sentences 3 :  the input consists of the k closest training examples in the feature space\n",
      "sentences 4 :  The output depends on whether k-NN is used for classification or regression: In k-NN classification\n",
      "sentences 5 :  the output is a class membership\n",
      "sentences 6 :  An object is classified by a plurality vote of its neighbors\n",
      "sentences 7 :  with the object being assigned to the class most common among its k nearest neighbors (k is a positive integer\n",
      "sentences 8 :  typically small). If k = 1\n",
      "sentences 9 :  then the object is simply assigned to the class of that single nearest neighbor. The neighbors are taken from a set of objects for which the class (for k-NN classification) or the object property value (for k-NN regression) is known. This can be thought of as the training set for the algorithm\n",
      "sentences 10 :  though no explicit training step is required\n",
      "sentences 11 :  A peculiarity of the k-NN algorithm is that it is sensitive to the local structure of the data.\n",
      "scores for all the sentences are: [0.6426757375740747, 0.9074591026041416, 0.6746327654560074, 0.7644288038731624, 0.8674534375356996, 0.6405965522054897, 0.7447293605046748, 0.8691906147667645, 0.6577736612462727, 0.9035758718974476, 0.769664699784363, 0.8763209386056778]\n"
     ]
    },
    {
     "data": {
      "image/png": "[encoded data removed]",
      "text/plain": [
       "<Figure size 576x576 with 1 Axes>"
      ]
     },
     "metadata": {
      "needs_background": "light"
     },
     "output_type": "display_data"
    },
    {
     "name": "stdout",
     "output_type": "stream",
     "text": [
      "smoothed scores: [0.6845250834951834, 0.8530074493259319, 0.7045960858901761, 0.7581987543097974, 0.8329572417754735, 0.6825753710711836, 0.7581375192759198, 0.8331134658852423, 0.7067700081198031, 0.8635625329254819, 0.7879208827746599, 0.8465260803167828]\n",
      " the k-nearest neighbors algorithm (k-NN) is a non-parametric method used for classification and regression\n",
      " The output depends on whether k-NN is used for classification or regression: In k-NN classification\n",
      " with the object being assigned to the class most common among its k nearest neighbors (k is a positive integer\n",
      " then the object is simply assigned to the class of that single nearest neighbor. The neighbors are taken from a set of objects for which the class (for k-NN classification) or the object property value (for k-NN regression) is known. This can be thought of as the training set for the algorithm\n",
      " though no explicit training step is required\n",
      " A peculiarity of the k-NN algorithm is that it is sensitive to the local structure of the data.\n",
      "The abstract contains: 6  sentences\n"
     ]
    },
    {
     "data": {
      "text/plain": [
       "' the k-nearest neighbors algorithm (k-NN) is a non-parametric method used for classification and regression  The output depends on whether k-NN is used for classification or regression: In k-NN classification  with the object being assigned to the class most common among its k nearest neighbors (k is a positive integer  then the object is simply assigned to the class of that single nearest neighbor. The neighbors are taken from a set of objects for which the class (for k-NN classification) or the object property value (for k-NN regression) is known. This can be thought of as the training set for the algorithm  though no explicit training step is required  A peculiarity of the k-NN algorithm is that it is sensitive to the local structure of the data.'"
      ]
     },
     "execution_count": 21,
     "metadata": {},
     "output_type": "execute_result"
    }
   ],
   "source": [
    "import sys\n",
    "sys.path.append('../src')\n",
    "import data_io, params, SIF_embedding\n",
    "from scipy.stats import pearsonr\n",
    "import matplotlib.pyplot as plt\n",
    "%matplotlib inline  \n",
    "import numpy as np\n",
    "\n",
    "import time\n",
    "start_time = time.time()\n",
    "language='English'\n",
    "title='k-nearest neighbors algorithm '\n",
    "content='In pattern recognition, the k-nearest neighbors algorithm (k-NN) is a non-parametric method used for classification and regression! In both cases, the input consists of the k closest training examples in the feature space! The output depends on whether k-NN is used for classification or regression: In k-NN classification, the output is a class membership, An object is classified by a plurality vote of its neighbors, with the object being assigned to the class most common among its k nearest neighbors (k is a positive integer, typically small). If k = 1, then the object is simply assigned to the class of that single nearest neighbor. The neighbors are taken from a set of objects for which the class (for k-NN classification) or the object property value (for k-NN regression) is known. This can be thought of as the training set for the algorithm, though no explicit training step is required, A peculiarity of the k-NN algorithm is that it is sensitive to the local structure of the data.'\n",
    "get_abstract(title, content,seperator = r'。|\\，|\\！|\\……|\\（|\\）|\\？|\\.|\\,|\\!|\\?|\\(|\\)', n_neigbors=3,pct_keep=0.5,language)\n",
    "\n"
   ]
  },
  {
   "cell_type": "raw",
   "metadata": {},
   "source": [
    "#test cases\n",
    "title='k-nearest neighbors algorithm '\n",
    "content='In pattern recognition, the k-nearest neighbors algorithm (k-NN) is a non-parametric method used for classification and regression! In both cases, the input consists of the k closest training examples in the feature space! The output depends on whether k-NN is used for classification or regression: In k-NN classification, the output is a class membership, An object is classified by a plurality vote of its neighbors, with the object being assigned to the class most common among its k nearest neighbors (k is a positive integer, typically small). If k = 1, then the object is simply assigned to the class of that single nearest neighbor. The neighbors are taken from a set of objects for which the class (for k-NN classification) or the object property value (for k-NN regression) is known. This can be thought of as the training set for the algorithm, though no explicit training step is required, A peculiarity of the k-NN algorithm is that it is sensitive to the local structure of the data.'\n",
    "\n",
    "language='English'\n",
    "seperator = r'。|\\，|\\！|\\……|\\（|\\）|\\？|\\.|\\,|\\!|\\?|\\(|\\)'\n",
    "\n",
    "scores, all_scentences=get_similarity_vector(title,content, seperator,language)\n",
    "\n",
    "\n",
    "title='小米MIUI 9首批机型曝光：共计15款'\n",
    "content='此外，自本周（6月12日）起，除小米手机6等15款机型外，其余机型已暂停更新发布（含开发版/体验版内测，稳定版暂不受影响），以确保工程师可以集中全部精力进行系统优化工作。有人猜测这也是将精力主要用到MIUI 9的研发之中。MIUI 8去年5月发布，距今已有一年有余，也是时候更新换代了。当然，关于MIUI 9的确切信息，我们还是等待官方消息。'\n",
    "language='Chinese'\n",
    "seperator = r'。|\\，|\\！|\\……|\\（|\\）|\\？|\\.|\\,|\\!|\\?|\\(|\\)'\n",
    "\n",
    "scores, all_scentences=get_similarity_vector(title,content, seperator,language)"
   ]
  },
  {
   "cell_type": "code",
   "execution_count": 22,
   "metadata": {},
   "outputs": [
    {
     "name": "stdout",
     "output_type": "stream",
     "text": [
      "89611\n",
      "Remove observations that both content and title is null: 89611\n",
      "89611\n"
     ]
    },
    {
     "data": {
      "text/plain": [
       "'小米MIUI 9首批机型曝光：共计15款 此外，自本周（6月12日）起，除小米手机6等15款机型外，其余机型已暂停更新发布（含开发版/体验版内测，稳定版暂不受影响），以确保工程师可以集中全部精力进行系统优化工作。有人猜测这也是将精力主要用到MIUI 9的研发之中。MIUI 8去年5月发布，距今已有一年有余，也是时候更新换代了。当然，关于MIUI 9的确切信息，我们还是等待官方消息。'"
      ]
     },
     "execution_count": 22,
     "metadata": {},
     "output_type": "execute_result"
    }
   ],
   "source": [
    "import pandas as pd\n",
    "import re\n",
    "df=pd.read_csv('../raw_data/sqlResult_1558435.csv',encoding='GB18030')\n",
    "print (len(df))\n",
    "df['title_content']=df.apply(lambda x: str(x['title']) + ' ' + str(x.content), axis=1)\n",
    "df = df[pd.notnull(df['title_content'])]\n",
    "print ('Remove observations that both content and title is null:', len(df))\n",
    "print (len(df))\n",
    "df['title_content']=df.apply(lambda x: x.title_content.replace('\\r\\n', ''), axis=1)\n",
    "df['title_content'][0]"
   ]
  },
  {
   "cell_type": "code",
   "execution_count": 24,
   "metadata": {},
   "outputs": [
    {
     "data": {
      "text/plain": [
       "'早间机构看市：市场将再次探底 两类股逢低布局'"
      ]
     },
     "execution_count": 24,
     "metadata": {},
     "output_type": "execute_result"
    }
   ],
   "source": [
    "df['title'][11]"
   ]
  },
  {
   "cell_type": "code",
   "execution_count": 25,
   "metadata": {},
   "outputs": [
    {
     "data": {
      "text/plain": [
       "'?\\r\\n\\u3000\\u3000巨丰早评：市场将再次探底\\r\\n\\u3000\\u3000【巨丰观点】\\r\\n\\u3000\\u3000周四大盘冲高回落，2500余只个股下跌。上证50、沪深300指数顽强收红。早盘大盘低开高走，展开反弹，沪指冲破120日均线压力位；午后大盘跳水，个股普跌。盘面上，保险、电力、银行、民航机场、券商、房地产、人工智能、迪士尼、网络安全等板块涨幅居前。雄安新区、福州新区、医疗器械、丝绸之路等跌幅居前。\\r\\n\\u3000\\u3000金融股全线大涨：保险板块涨3%：新华保险、中国太保、中国人寿涨4%，中国平安涨2%；西水股份、天茂集团盘中大涨7%以上。银行板块涨2%：招商银行大涨8%，贵阳银行、兴业银行、浦发银行、兴业银行等涨幅居前。金融股是A股纳入MSCI指数的受益者，后市可以逢低关注。\\r\\n\\u3000\\u3000盘中万达电影、复星医药等白马股闪崩，导致午后市场出现大幅跳水。盘后消息，银监会于6月中旬要求各家银行排查包括万达、海航集团、复星、浙江罗森内里在内数家企业的授信及风险分析，排查对象多是近年来海外投资比较凶猛、在银行业敞口较大的民营企业集团。\\r\\n\\u3000\\u3000巨丰投顾认为自5月以来，大盘已经走出了3重底的走势，并开启中级反弹行情。沪指在上证50及白马股推动下率先反弹，但遭遇60日、120日均线强压力而出现调整。MSCI纳入A股后，沪深300指数创17个月新高，但2500余股下跌，市场分化明显。随着6月末市场流动性紧张的可能出现，市场将再次出现探底。建议投资者重点关注半年报大幅预增的错杀股和具备估值优势的大蓝筹。\\r\\n\\u3000\\u3000天信投资：尾盘跳水原因揭秘 伏击的品种曝光\\r\\n\\u3000\\u3000周四市场点评：\\r\\n\\u3000\\u3000沪深两市早盘纷纷低开，但是开盘之后权重板块崛起，其中保险和银行表现尤其明显，低矮动股指快速拉升，并顺势突破了60日均线和半年线的束缚；在主板拉升的过程中，市场的分化格局也较明显，题材板块和创业板表现相对较弱。不过虽然市场在早盘的上攻，但是成交量萎缩明教明显，所以这种上涨比较虚。果不其然，午后个股再度纷纷杀跌，同时股指也是顺势回落，沪市的半年线得而复失，形成长长的上影线；而创业板股指在回落的过程中失守5日均线的支撑。整体上周四市场全天保持宽幅震荡走势，尤其是沪市冲高回落。保险、银行、中字头、举牌等品种涨幅居前；钛金属、区块链、雄安新区、民营医院等品种领跌。\\r\\n\\u3000\\u3000今日市场预测：\\r\\n\\u3000\\u3000在周三收市的评论中，我们指出周四市场会出现阶段性的普涨行情，而周四早盘三大股指齐齐上涨，即使创业板股指涨幅较小，但是市场确实也给我们呈现的普涨格局。但是午后的跳水，包括创业板股指先下跌，随后沪指尾盘的快速下杀，使得市场从普涨瞬间到普跌，市场的大起大落来的非常刺激。从三大股指周四呈现给大家的K线组合来看，预计今日市场齐跌的概率较大，不过创业板合格题材板块或具备一定的抗跌性。\\r\\n\\u3000\\u3000短期行情判断：\\r\\n\\u3000\\u3000从大的环境上来看，市场目前本身不具备大面积和大空间的反弹基础，因为目前无论是从宏观面、货币基本面或者从国际经济和政治的角度来看，都不具备这样的条件，所以反应到市场中来，只能是结构性、局部性的投机性机会。而最近半个月以来，市场的走势也确实符合局部性、结构性投机的走势。\\r\\n\\u3000\\u3000周四市场沪指形成带长长上影线的倒锤阴线；创业板股指形成的是跌破5日和10日均线的中阴线，这种类型的K线形态，几乎都是市场开始调整的先兆，所以短期市场而言，悲观的情绪或升温。\\r\\n\\u3000\\u3000后市投资建议：\\r\\n\\u3000\\u3000短期建议投资者一定要控制好自身的仓位。中期继续看好题材板块的崛起，特别是次新股、高送转、重组股等等可以不断的去伏击，依旧具备超跌反弹的性质。\\r\\n'"
      ]
     },
     "execution_count": 25,
     "metadata": {},
     "output_type": "execute_result"
    }
   ],
   "source": [
    "df['content'][11]"
   ]
  },
  {
   "cell_type": "code",
   "execution_count": 66,
   "metadata": {},
   "outputs": [
    {
     "data": {
      "text/plain": [
       "'小米MIUI 9首批机型曝光共计15款 此外自本周6月12日起除小米手机6等15款机型外其余机型已暂停更新发布含开发版体验版内测稳定版暂不受影响以确保工程师可以集中全部精力进行系统优化工作有人猜测这也是将精力主要用到MIUI 9的研发之中MIUI 8去年5月发布距今已有一年有余也是时候更新换代了当然关于MIUI 9的确切信息我们还是等待官方消息'"
      ]
     },
     "execution_count": 66,
     "metadata": {},
     "output_type": "execute_result"
    }
   ],
   "source": [
    "s"
   ]
  },
  {
   "cell_type": "code",
   "execution_count": null,
   "metadata": {},
   "outputs": [],
   "source": [
    "#df['title_content'].to_csv('../source/all_news_title_content.txt', index=False)"
   ]
  },
  {
   "cell_type": "code",
   "execution_count": null,
   "metadata": {},
   "outputs": [],
   "source": [
    "### Remove the line with <doc id> in the wiki text file \n",
    "wc -l token_1.txt\n",
    "sed '/^<doc / d' token_1.txt > token_1_noid.txt\n",
    "wc -l token_1_noid.txt\n",
    "wc -l token_2.txt\n",
    "sed '/^<doc / d' token_2.txt > token_2_noid.txt\n",
    "wc -l token_2_noid.txt\n",
    "wc -l token_3.txt\n",
    "sed '/^<doc / d' token_3.txt > token_3_noid.txt\n",
    "wc -l token_3_noid.txt"
   ]
  },
  {
   "cell_type": "markdown",
   "metadata": {},
   "source": [
    "### Model 1: size=300, window=5, min_count=2"
   ]
  },
  {
   "cell_type": "code",
   "execution_count": 20,
   "metadata": {},
   "outputs": [
    {
     "name": "stdout",
     "output_type": "stream",
     "text": [
      "0.46607238\n",
      "0.7714928\n",
      "0.07077112\n",
      "My program took 1586.9379830360413 to run\n"
     ]
    }
   ],
   "source": [
    "# -*-coding: utf-8 -*-\n",
    "# 将Word转换成Vec，然后计算相似度 \n",
    "from gensim.models import word2vec\n",
    "import multiprocessing\n",
    "\n",
    "# 如果目录中有多个文件，可以使用PathLineSentences\n",
    "sentences = word2vec.PathLineSentences('../segment')\n",
    "# 设置模型参数，进行训练\n",
    "import time\n",
    "start_time = time.time()\n",
    "model = word2vec.Word2Vec(sentences, size=300, window=5, min_count=2,workers=multiprocessing.cpu_count())\n",
    "print(model.wv.similarity('研发', '研究'))\n",
    "print(model.wv.similarity('爸爸', '妈妈'))\n",
    "print(model.wv.similarity('研发', '发达'))\n",
    "#save the model\n",
    "model.save('../models/wiki_news.model')\n",
    "print (\"My program took\", time.time() - start_time, \"to run\")"
   ]
  },
  {
   "cell_type": "code",
   "execution_count": 48,
   "metadata": {},
   "outputs": [
    {
     "data": {
      "text/plain": [
       "6676737"
      ]
     },
     "execution_count": 48,
     "metadata": {},
     "output_type": "execute_result"
    }
   ],
   "source": [
    "model.corpus_count"
   ]
  },
  {
   "cell_type": "code",
   "execution_count": 49,
   "metadata": {},
   "outputs": [
    {
     "data": {
      "text/plain": [
       "1439547"
      ]
     },
     "execution_count": 49,
     "metadata": {},
     "output_type": "execute_result"
    }
   ],
   "source": [
    "len(model.wv.vocab.items())"
   ]
  },
  {
   "cell_type": "code",
   "execution_count": 95,
   "metadata": {},
   "outputs": [
    {
     "data": {
      "text/plain": [
       "['小米', 'MIUI', '9', '首批', '机型', '曝光', '：', '共计', '15', '款']"
      ]
     },
     "execution_count": 95,
     "metadata": {},
     "output_type": "execute_result"
    }
   ],
   "source": [
    "list(model.wv.vocab.keys())[:20]"
   ]
  },
  {
   "cell_type": "code",
   "execution_count": null,
   "metadata": {},
   "outputs": [],
   "source": [
    "word_list=list(model.wv.vocab.keys())\n",
    "word_vector_file= open(\"wiki_news_word_vector.txt\",\"a\")\n",
    "for a, i in enumerate(word_list):\n",
    "    #print (i + ' '+' '.join(map(str, model.wv[i[0]]))  )\n",
    "    if a%100000==0:\n",
    "        print (a)\n",
    "    string=(i + ' '+' '.join(map(str, model.wv[i]))+'\\n'  )\n",
    "    word_vector_file.write(string)\n",
    "word_vector_file.close()"
   ]
  },
  {
   "cell_type": "code",
   "execution_count": 107,
   "metadata": {},
   "outputs": [
    {
     "data": {
      "text/plain": [
       "[('爸爸', 0.7714928388595581),\n",
       " ('奶奶', 0.7095995545387268),\n",
       " ('外婆', 0.6762410998344421),\n",
       " ('女朋友', 0.6670173406600952),\n",
       " ('男朋友', 0.6608315110206604),\n",
       " ('阿姨', 0.6569209098815918),\n",
       " ('老婆', 0.6551576852798462),\n",
       " ('老爸', 0.6529766321182251),\n",
       " ('爸妈', 0.6499042510986328),\n",
       " ('姨妈', 0.6455265879631042)]"
      ]
     },
     "execution_count": 107,
     "metadata": {},
     "output_type": "execute_result"
    }
   ],
   "source": [
    "model.wv.most_similar('妈妈')"
   ]
  },
  {
   "cell_type": "code",
   "execution_count": 25,
   "metadata": {},
   "outputs": [
    {
     "data": {
      "text/plain": [
       "[('美人', 0.6985518336296082),\n",
       " ('美貌', 0.6677311658859253),\n",
       " ('美艳', 0.6495721340179443),\n",
       " ('绝世', 0.6421597003936768),\n",
       " ('仙子', 0.63796466588974),\n",
       " ('美少年', 0.6345560550689697),\n",
       " ('仙女', 0.6304815411567688),\n",
       " ('贾宝玉', 0.6296128034591675),\n",
       " ('侍女', 0.626065731048584),\n",
       " ('书生', 0.6193616986274719)]"
      ]
     },
     "execution_count": 25,
     "metadata": {},
     "output_type": "execute_result"
    }
   ],
   "source": [
    "model.wv.most_similar('美女')"
   ]
  },
  {
   "cell_type": "code",
   "execution_count": 108,
   "metadata": {},
   "outputs": [
    {
     "data": {
      "text/plain": [
       "[('中兴通讯', 0.7180880904197693),\n",
       " ('三星电子', 0.6611620783805847),\n",
       " ('OPPO', 0.6423127055168152),\n",
       " ('中国联通', 0.6417484283447266),\n",
       " ('魅族', 0.6330646872520447),\n",
       " ('中国电信', 0.6325844526290894),\n",
       " ('华硕', 0.6323373317718506),\n",
       " ('华为公司', 0.6272257566452026),\n",
       " ('宏碁', 0.6134549975395203),\n",
       " ('摩托罗拉', 0.6034471988677979)]"
      ]
     },
     "execution_count": 108,
     "metadata": {},
     "output_type": "execute_result"
    }
   ],
   "source": [
    "model.wv.most_similar('华为')"
   ]
  },
  {
   "cell_type": "code",
   "execution_count": 109,
   "metadata": {},
   "outputs": [
    {
     "data": {
      "text/plain": [
       "[('Volumn1', 0.8714377284049988),\n",
       " ('吴家镇', 0.8665515184402466),\n",
       " ('加尔梅克', 0.8641220927238464),\n",
       " ('87.52', 0.8640688061714172),\n",
       " ('Daling', 0.8630167841911316),\n",
       " ('韩秀妍', 0.8626471757888794),\n",
       " ('龚砚庆', 0.8612948656082153),\n",
       " ('普吕努瓦', 0.8612275123596191),\n",
       " ('目矮甲', 0.8612179756164551),\n",
       " ('天降奇缘', 0.8597155809402466)]"
      ]
     },
     "execution_count": 109,
     "metadata": {},
     "output_type": "execute_result"
    }
   ],
   "source": [
    "model.wv.most_similar('30091')"
   ]
  },
  {
   "cell_type": "code",
   "execution_count": 110,
   "metadata": {},
   "outputs": [
    {
     "data": {
      "text/plain": [
       "[('processing', 0.8172861337661743),\n",
       " ('control', 0.8158136606216431),\n",
       " ('Integrated', 0.8143075704574585),\n",
       " ('Management', 0.8119733333587646),\n",
       " ('Processing', 0.8069379329681396),\n",
       " ('systems', 0.8064823150634766),\n",
       " ('Operational', 0.8058236837387085),\n",
       " ('software', 0.8056922554969788),\n",
       " ('Process', 0.8031324744224548),\n",
       " ('Instruction', 0.8018696308135986)]"
      ]
     },
     "execution_count": 110,
     "metadata": {},
     "output_type": "execute_result"
    }
   ],
   "source": [
    "model.wv.most_similar('management')"
   ]
  },
  {
   "cell_type": "code",
   "execution_count": 32,
   "metadata": {},
   "outputs": [
    {
     "data": {
      "text/plain": [
       "[('11', 0.9885998368263245),\n",
       " ('9', 0.9861344695091248),\n",
       " ('8', 0.9852745532989502),\n",
       " ('7', 0.9838634729385376),\n",
       " ('6', 0.9750338792800903),\n",
       " ('10', 0.9728521108627319),\n",
       " ('5', 0.9683938026428223),\n",
       " ('4', 0.9557263851165771),\n",
       " ('3', 0.9396927356719971),\n",
       " ('22', 0.9151217937469482)]"
      ]
     },
     "execution_count": 32,
     "metadata": {},
     "output_type": "execute_result"
    }
   ],
   "source": [
    "model.wv.most_similar('12')"
   ]
  },
  {
   "cell_type": "code",
   "execution_count": 33,
   "metadata": {},
   "outputs": [
    {
     "data": {
      "text/plain": [
       "[('watchOS', 0.6904703378677368),\n",
       " ('Nexus', 0.6731964349746704),\n",
       " ('BlackBerry', 0.6686512231826782),\n",
       " ('EMUI', 0.666523277759552),\n",
       " ('Symbian', 0.663722813129425),\n",
       " ('安卓', 0.6545510292053223),\n",
       " ('Note', 0.6446356773376465),\n",
       " ('Android', 0.6433008909225464),\n",
       " ('Nokia', 0.6340469121932983),\n",
       " ('IOS', 0.6333281397819519)]"
      ]
     },
     "execution_count": 33,
     "metadata": {},
     "output_type": "execute_result"
    }
   ],
   "source": [
    "model.wv.most_similar('MIUI')"
   ]
  },
  {
   "cell_type": "code",
   "execution_count": 34,
   "metadata": {},
   "outputs": [
    {
     "data": {
      "text/plain": [
       "[('红米', 0.6888630390167236),\n",
       " ('魅族', 0.6621477603912354),\n",
       " ('OPPO', 0.617629885673523),\n",
       " ('苹果', 0.6170429587364197),\n",
       " ('iPhone', 0.5967674255371094),\n",
       " ('一加', 0.5939584374427795),\n",
       " ('MIUI', 0.5848538875579834),\n",
       " ('黑莓', 0.5801552534103394),\n",
       " ('华硕', 0.5766901969909668),\n",
       " ('Note', 0.570895791053772)]"
      ]
     },
     "execution_count": 34,
     "metadata": {},
     "output_type": "execute_result"
    }
   ],
   "source": [
    "model.wv.most_similar('小米')"
   ]
  },
  {
   "cell_type": "code",
   "execution_count": 38,
   "metadata": {},
   "outputs": [
    {
     "data": {
      "text/plain": [
       "'西语'"
      ]
     },
     "execution_count": 38,
     "metadata": {},
     "output_type": "execute_result"
    }
   ],
   "source": [
    "import warnings\n",
    "warnings.filterwarnings('ignore')\n",
    "def analogy(x1, x2, y1):\n",
    "    result = model.most_similar(positive=[y1,x2], negative=[x1])\n",
    "    return result[0][0]\n",
    "analogy('中国','汉语','美国')"
   ]
  },
  {
   "cell_type": "code",
   "execution_count": 41,
   "metadata": {},
   "outputs": [
    {
     "data": {
      "text/plain": [
       "'温家宝'"
      ]
     },
     "execution_count": 41,
     "metadata": {},
     "output_type": "execute_result"
    }
   ],
   "source": [
    "analogy('美国','奥巴马', '中国')"
   ]
  },
  {
   "cell_type": "code",
   "execution_count": 42,
   "metadata": {},
   "outputs": [
    {
     "data": {
      "text/plain": [
       "'中国政府'"
      ]
     },
     "execution_count": 42,
     "metadata": {},
     "output_type": "execute_result"
    }
   ],
   "source": [
    "analogy('美国','特朗普', '中国')"
   ]
  },
  {
   "cell_type": "markdown",
   "metadata": {},
   "source": [
    "### Test performance for Model 2:  \n",
    "#### size=100, window=5, min_count=10"
   ]
  },
  {
   "cell_type": "code",
   "execution_count": 9,
   "metadata": {},
   "outputs": [
    {
     "name": "stdout",
     "output_type": "stream",
     "text": [
      "0.5295657\n",
      "0.8939376\n",
      "0.10712029\n",
      "My program took 1172.2151808738708 to run\n"
     ]
    }
   ],
   "source": [
    "# 将Word转换成Vec，然后计算相似度 \n",
    "from gensim.models import word2vec\n",
    "import multiprocessing\n",
    "# 如果目录中有多个文件，可以使用PathLineSentences\n",
    "sentences = word2vec.PathLineSentences('../segment')\n",
    "# 设置模型参数，进行训练\n",
    "import time\n",
    "start_time = time.time()\n",
    "model2 = word2vec.Word2Vec(sentences, size=100, window=5, min_count=10,workers=multiprocessing.cpu_count())\n",
    "print(model2.wv.similarity('研发', '研究'))\n",
    "print(model2.wv.similarity('爸爸', '妈妈'))\n",
    "print(model2.wv.similarity('研发', '发达'))\n",
    "#save the model\n",
    "model2.save('../models/wiki_news_model2.model')\n",
    "print (\"My program took\", time.time() - start_time, \"to run\")"
   ]
  },
  {
   "cell_type": "code",
   "execution_count": 11,
   "metadata": {},
   "outputs": [
    {
     "data": {
      "text/plain": [
       "447053"
      ]
     },
     "execution_count": 11,
     "metadata": {},
     "output_type": "execute_result"
    }
   ],
   "source": [
    "len(model2.wv.vocab.items())"
   ]
  },
  {
   "cell_type": "code",
   "execution_count": 13,
   "metadata": {},
   "outputs": [
    {
     "data": {
      "text/plain": [
       "6676737"
      ]
     },
     "execution_count": 13,
     "metadata": {},
     "output_type": "execute_result"
    }
   ],
   "source": [
    "model2.corpus_count"
   ]
  },
  {
   "cell_type": "code",
   "execution_count": 15,
   "metadata": {},
   "outputs": [
    {
     "data": {
      "text/plain": [
       "['小米',\n",
       " 'MIUI',\n",
       " '9',\n",
       " '首批',\n",
       " '机型',\n",
       " '曝光',\n",
       " '：',\n",
       " '共计',\n",
       " '15',\n",
       " '款',\n",
       " '此外',\n",
       " '，',\n",
       " '自',\n",
       " '本周',\n",
       " '（',\n",
       " '6',\n",
       " '月',\n",
       " '12',\n",
       " '日',\n",
       " '）']"
      ]
     },
     "execution_count": 15,
     "metadata": {},
     "output_type": "execute_result"
    }
   ],
   "source": [
    "list(model2.wv.vocab.keys())[:20]"
   ]
  },
  {
   "cell_type": "code",
   "execution_count": 17,
   "metadata": {},
   "outputs": [
    {
     "data": {
      "text/plain": [
       "[('爸爸', 0.8939375281333923),\n",
       " ('爸妈', 0.8064553737640381),\n",
       " ('老公', 0.804161548614502),\n",
       " ('奶奶', 0.800416111946106),\n",
       " ('女孩', 0.7988275289535522),\n",
       " ('女朋友', 0.7986655235290527),\n",
       " ('老婆', 0.7909199595451355),\n",
       " ('小孩', 0.7895360589027405),\n",
       " ('小美', 0.7879323959350586),\n",
       " ('外婆', 0.782328724861145)]"
      ]
     },
     "execution_count": 17,
     "metadata": {},
     "output_type": "execute_result"
    }
   ],
   "source": [
    "model2.wv.most_similar('妈妈')"
   ]
  },
  {
   "cell_type": "code",
   "execution_count": 18,
   "metadata": {},
   "outputs": [
    {
     "data": {
      "text/plain": [
       "[('美人', 0.7188432216644287),\n",
       " ('帅哥', 0.6966958045959473),\n",
       " ('大叔', 0.6888607740402222),\n",
       " ('淑女', 0.685681939125061),\n",
       " ('美艳', 0.6797710657119751),\n",
       " ('美少年', 0.6678491234779358),\n",
       " ('少妇', 0.6646937727928162),\n",
       " ('绝色', 0.6636474132537842),\n",
       " ('妖艳', 0.6564374566078186),\n",
       " ('金发', 0.6481841802597046)]"
      ]
     },
     "execution_count": 18,
     "metadata": {},
     "output_type": "execute_result"
    }
   ],
   "source": [
    "model2.wv.most_similar('美女')"
   ]
  },
  {
   "cell_type": "code",
   "execution_count": 19,
   "metadata": {},
   "outputs": [
    {
     "data": {
      "text/plain": [
       "[('中兴通讯', 0.8015539646148682),\n",
       " ('谷歌', 0.7291452884674072),\n",
       " ('魅族', 0.7277430295944214),\n",
       " ('联想集团', 0.7193110585212708),\n",
       " ('华为公司', 0.717620849609375),\n",
       " ('奇虎', 0.7172646522521973),\n",
       " ('OPPO', 0.7148749828338623),\n",
       " ('华硕', 0.7064027786254883),\n",
       " ('三星电子', 0.7049561142921448),\n",
       " ('微软', 0.6993106603622437)]"
      ]
     },
     "execution_count": 19,
     "metadata": {},
     "output_type": "execute_result"
    }
   ],
   "source": [
    "model2.wv.most_similar('华为')"
   ]
  },
  {
   "cell_type": "code",
   "execution_count": 22,
   "metadata": {},
   "outputs": [
    {
     "data": {
      "text/plain": [
       "[('Resource', 0.9037126898765564),\n",
       " ('services', 0.8867795467376709),\n",
       " ('Process', 0.8721637725830078),\n",
       " ('Processing', 0.8715369701385498),\n",
       " ('Instruction', 0.8686017394065857),\n",
       " ('service', 0.8676193952560425),\n",
       " ('software', 0.8676156997680664),\n",
       " ('technology', 0.8671813607215881),\n",
       " ('Integrated', 0.8658913969993591),\n",
       " ('processing', 0.8654922842979431)]"
      ]
     },
     "execution_count": 22,
     "metadata": {},
     "output_type": "execute_result"
    }
   ],
   "source": [
    "model2.wv.most_similar('management')"
   ]
  },
  {
   "cell_type": "code",
   "execution_count": 23,
   "metadata": {},
   "outputs": [
    {
     "data": {
      "text/plain": [
       "[('11', 0.9945169687271118),\n",
       " ('9', 0.9941761493682861),\n",
       " ('7', 0.9931890964508057),\n",
       " ('8', 0.9928522706031799),\n",
       " ('6', 0.9877157807350159),\n",
       " ('10', 0.9867614507675171),\n",
       " ('5', 0.9840888381004333),\n",
       " ('4', 0.9760638475418091),\n",
       " ('3', 0.9653990268707275),\n",
       " ('1', 0.9433048963546753)]"
      ]
     },
     "execution_count": 23,
     "metadata": {},
     "output_type": "execute_result"
    }
   ],
   "source": [
    "model2.wv.most_similar('12')"
   ]
  },
  {
   "cell_type": "code",
   "execution_count": 25,
   "metadata": {},
   "outputs": [
    {
     "data": {
      "text/plain": [
       "[('IOS', 0.8223806619644165),\n",
       " ('Nexus', 0.8114953637123108),\n",
       " ('BlackBerry', 0.8086761236190796),\n",
       " ('CyanogenMod', 0.7756826877593994),\n",
       " ('Ryzen', 0.7740944623947144),\n",
       " ('Symbian', 0.7684909701347351),\n",
       " ('Oreo', 0.7678535580635071),\n",
       " ('watchOS', 0.765913188457489),\n",
       " ('安卓', 0.7616363763809204),\n",
       " ('Direct3D', 0.7598286867141724)]"
      ]
     },
     "execution_count": 25,
     "metadata": {},
     "output_type": "execute_result"
    }
   ],
   "source": [
    "model2.wv.most_similar('MIUI')"
   ]
  },
  {
   "cell_type": "code",
   "execution_count": 27,
   "metadata": {},
   "outputs": [
    {
     "data": {
      "text/plain": [
       "[('红米', 0.7814642786979675),\n",
       " ('魅族', 0.720660924911499),\n",
       " ('苹果', 0.714350700378418),\n",
       " ('一加', 0.6932433843612671),\n",
       " ('iPhone', 0.6911564469337463),\n",
       " ('MIUI', 0.6835007667541504),\n",
       " ('Mate', 0.6806187629699707),\n",
       " ('Nexus', 0.6622345447540283),\n",
       " ('Note', 0.6597521901130676),\n",
       " ('雷军', 0.6536288261413574)]"
      ]
     },
     "execution_count": 27,
     "metadata": {},
     "output_type": "execute_result"
    }
   ],
   "source": [
    "model2.wv.most_similar('小米')"
   ]
  },
  {
   "cell_type": "code",
   "execution_count": 28,
   "metadata": {},
   "outputs": [
    {
     "data": {
      "text/plain": [
       "'法语'"
      ]
     },
     "execution_count": 28,
     "metadata": {},
     "output_type": "execute_result"
    }
   ],
   "source": [
    "import warnings\n",
    "warnings.filterwarnings('ignore')\n",
    "def analogy(x1, x2, y1):\n",
    "    result = model2.most_similar(positive=[y1,x2], negative=[x1])\n",
    "    return result[0][0]\n",
    "analogy('中国','汉语','美国')"
   ]
  },
  {
   "cell_type": "code",
   "execution_count": 29,
   "metadata": {},
   "outputs": [
    {
     "data": {
      "text/plain": [
       "'江泽民'"
      ]
     },
     "execution_count": 29,
     "metadata": {},
     "output_type": "execute_result"
    }
   ],
   "source": [
    "analogy('美国','奥巴马', '中国')"
   ]
  },
  {
   "cell_type": "code",
   "execution_count": 30,
   "metadata": {},
   "outputs": [
    {
     "data": {
      "text/plain": [
       "'赵紫阳'"
      ]
     },
     "execution_count": 30,
     "metadata": {},
     "output_type": "execute_result"
    }
   ],
   "source": [
    "analogy('美国','特朗普', '中国')"
   ]
  },
  {
   "cell_type": "code",
   "execution_count": 32,
   "metadata": {},
   "outputs": [
    {
     "name": "stdout",
     "output_type": "stream",
     "text": [
      "0\n",
      "100000\n",
      "200000\n",
      "300000\n",
      "400000\n"
     ]
    }
   ],
   "source": [
    "word_list=list(model2.wv.vocab.keys())\n",
    "word_vector_file= open(\"../models/wiki_news_model2_vector.txt\",\"a\")\n",
    "for a, i in enumerate(word_list):\n",
    "    #print (i + ' '+' '.join(map(str, model.wv[i[0]]))  )\n",
    "    if a%100000==0:\n",
    "        print (a)\n",
    "    string=(i + ' '+' '.join(map(str, model2.wv[i]))+'\\n'  )\n",
    "    word_vector_file.write(string)\n",
    "word_vector_file.close()"
   ]
  },
  {
   "cell_type": "code",
   "execution_count": 45,
   "metadata": {},
   "outputs": [
    {
     "data": {
      "image/png": "[encoded data removed]",
      "text/plain": [
       "<Figure size 720x720 with 1 Axes>"
      ]
     },
     "metadata": {
      "needs_background": "light"
     },
     "output_type": "display_data"
    }
   ],
   "source": [
    "tsne_plot(model2,100)"
   ]
  },
  {
   "cell_type": "code",
   "execution_count": null,
   "metadata": {},
   "outputs": [],
   "source": [
    "\n",
    "model = word2vec.Word2Vec.load(\"../models/word2vec.model\")\n",
    "new_sentences = [[\"6月12日\", \"6月13日\"],[\"7月12日\", \"7月13日\"]]\n",
    "model.build_vocab(new_sentences, update=True)\n",
    "model.train(new_sentences,total_examples=2,epochs=1)\n",
    "model.save('../models/word2Vec.model')"
   ]
  },
  {
   "cell_type": "code",
   "execution_count": null,
   "metadata": {},
   "outputs": [],
   "source": [
    "#######1: 对所有在sentences list 里的句子实现SIF embedding\n",
    "import sys\n",
    "import data_io, params, SIF_embedding\n",
    "from scipy.stats import pearsonr\n",
    "import re\n",
    "from scipy.stats.stats import pearsonr\n",
    "   \n",
    "def get_embedding(sentences,language='Chinese'):\n",
    "    '''\n",
    "    This function return the embeddings for all sentences in the input parameter: sentences\n",
    "    sentences is a list of sentencs need for SIF embeddings\n",
    "    '''\n",
    "    sys.path.append('../src')\n",
    "    if language=='Chinese':\n",
    "        #word vector file\n",
    "        wordfile='../models/wiki_news_model2_vector.txt'\n",
    "        #wordfile='../models/wiki_news_word_vector_small2.txt'\n",
    "        #word frequency file\n",
    "        weightfile = '../models/word_count_small.txt' # each line is a word and its frequency\n",
    "    else:\n",
    "    #for english use:\n",
    "        wordfile='../models/glove_test.txt'\n",
    "        #wordfile='../models/glove.840B.300d.txt'\n",
    "        weightfile = '../models/enwiki_vocab_min200.txt' # each line is a word and its frequency\n",
    "  \n",
    "    weightpara = 1e-3 # the parameter in the SIF weighting scheme, usually in the range [3e-5, 3e-3]\n",
    "    rmpc = 1 # number of principal components to remove in SIF weighting scheme\n",
    "\n",
    "\n",
    "    # load word vectors words： \n",
    "    (words, We) = data_io.getWordmap(wordfile)\n",
    "    print ('Word map finished')\n",
    "    word2weight = data_io.getWordWeight(weightfile, weightpara) # word2weight['str'] is the weight for the word 'str'\n",
    "    print ('word2weight finished')  \n",
    "    weight4ind = data_io.getWeight(words, word2weight) \n",
    "    print ('weight4ind finished ')\n",
    "\n",
    "    # load sentences\n",
    "    x, m = data_io.sentences2idx(sentences, words) \n",
    "    #print (x.shape) # (句子的数量，最长的句子的单词的数量)\n",
    "    #print (m.shape) # (句子的数量，最长的句子的单词的数量)\n",
    "\n",
    "    print ('sentences2idx finished ')\n",
    "    w = data_io.seq2weight(x, m, weight4ind) # get word weights\n",
    "    \n",
    "    print ('seq2weight finished ')\n",
    "    \n",
    "    # set parameters\n",
    "    params = params.params()\n",
    "    params.rmpc = rmpc\n",
    "\n",
    "    # get SIF embedding\n",
    "    \"\"\"\n",
    "    return 所有需要计算similarity的title，全文，句子的embedding。\n",
    "    paper 里面用的是TruncatedSVD，project 要求我们用PCA方法decomposite\n",
    "    \"\"\"\n",
    "    print ('embedding start ')\n",
    "    embedding = SIF_embedding.SIF_embedding(We, x, w, params,method='PCA') # embedding[i,:] is the embedding for sentence i\n",
    "   \n",
    "    print ('embedding finished ')\n",
    "    print (embedding.shape)\n",
    "    return embedding\n",
    "\n",
    "######2: Get similarity scores for splited sentences\n",
    "def get_similarity_vector(title,content,seperator ,language='Chinese'):\n",
    "    '''\n",
    "    This function get similarity scores for each splited sentences with the title and content of news\n",
    "    '''\n",
    "    print ('Title is:', title,'\\n')\n",
    "    clean_content=content.replace(' ','').replace('\\r\\n','')\n",
    "    #clean_content=re.findall(r'([\\u4e00-\\u9fff]+|[A-Z]+|[0-9]+|[a-z])',content)\n",
    "    print ('Content is :', clean_content,'\\n')\n",
    "    print ('Seperators are:', seperator,'\\n')\n",
    "    splited_content=list(filter(None, re.split(seperator,clean_content)))\n",
    "    all_sentences=[title, content] + splited_content\n",
    "    #print (all_sentences)\n",
    "    #for a, b  in enumerate(all_sentences):\n",
    "        #print (a, ' : ', len(b), ' ',  b + '\\n')\n",
    "        \n",
    "    print ('There are ', str(len(all_sentences)-2), 'sentences been splited and need embeddings.')\n",
    "    embedding=get_embedding(all_sentences,language)\n",
    "    emb_t=embedding[0]\n",
    "    emb_c=embedding[1]\n",
    "    scores=[]\n",
    "    for i, b in enumerate(all_sentences[2:]):\n",
    "        print ('sentences',i, ':', b)\n",
    "        emb_i=embedding[i+2]\n",
    "        scores.append(0.5*(pearsonr(emb_t,emb_i)[0] + pearsonr(emb_c,emb_i)[0]))\n",
    "    #print ('scores for all the sentences are:',  scores)\n",
    "    return scores, all_sentences \n",
    "\n",
    "\n",
    "####Step3:  Conduct KNN smooth for scores\n",
    "def knn_smooth(scores, n_neigbors=3):\n",
    "    adjusted_scores=[]\n",
    "    for i, s in enumerate(scores):\n",
    "        scores_range=scores[max(0,i-n_neigbors):i+n_neigbors+1]\n",
    "        mean=np.sum(scores_range)/len(scores_range)\n",
    "        if s<mean:\n",
    "            adj_s = s+np.abs(mean-s)*0.4\n",
    "        else:\n",
    "            adj_s = s-np.abs(mean-s)*0.4\n",
    "        adjusted_scores.append(adj_s)\n",
    "    return adjusted_scores\n",
    "\n",
    "## plot original scores Vs Smoonthed scores\n",
    "def plot_bar_x(scores, adjusted_scores):\n",
    "    plt.figure(figsize=(8,8))\n",
    "    label=list(range(len(scores)))\n",
    "    # this is for plotting purpose\n",
    "    index1 = np.arange(len(label))*3\n",
    "    #print (index1)\n",
    "    index2=index1+1\n",
    "    #print (index2)\n",
    "    plt.bar(index1, scores,label='Original Scores')\n",
    "    plt.bar(index2, adjusted_scores,label='Smoothed Scores')\n",
    "    plt.xlabel('Sentences', fontsize=15)\n",
    "    plt.ylabel('Similarity scores', fontsize=15)\n",
    "    plt.xticks(index1, label, fontsize=15, rotation=30)\n",
    "    plt.title('Original scores Vs Smoothed scores')\n",
    "    plt.legend()\n",
    "    plt.show()  \n",
    "    \n",
    "#####Step 4: return certain % of sentences based on the number of splited sentences\n",
    "def return_sentences(adjusted_scores,pct_keep):\n",
    "    #print ('smoothed scores:',adjusted_scores)\n",
    "    num_of_sentences=min(15,max(1,int(len(adjusted_scores)*pct_keep)))\n",
    "    abs_index=sorted(range(len(adjusted_scores)), key=lambda i: adjusted_scores[i], reverse=True)[:num_of_sentences]\n",
    "    return abs_index\n",
    "\n"
   ]
  },
  {
   "cell_type": "code",
   "execution_count": null,
   "metadata": {},
   "outputs": [],
   "source": [
    "## Final function to make the pipeline work and get abstract from a News\n",
    "def get_abstract(title, content,seperator, n_neigbors, pct_keep, language):\n",
    "    \"\"\"\n",
    "    title: Title of the news\n",
    "    content: content of the news\n",
    "    seperator: seperators that been used to split the content into sentences\n",
    "    n_neigbors: number of sentences to used for KNN smoothing\n",
    "    pct_keep: % of sentences to keep for the abstract\n",
    "    language: the language for the news\n",
    "    \"\"\"\n",
    "    \n",
    "    abstract=[]\n",
    "    scores, all_scentences=get_similarity_vector(title,content,seperator,language )\n",
    "    adjusted_scores=knn_smooth(scores,n_neigbors)\n",
    "    plot_bar_x(scores, adjusted_scores)\n",
    "    abs_idx=return_sentences(adjusted_scores,pct_keep)\n",
    "    print ('Abstract of this news is :')\n",
    "    for _, value in enumerate(sorted(abs_idx)):\n",
    "        #print (value)\n",
    "        print (all_scentences[value+2])\n",
    "        abstract.append(all_scentences[value+2])\n",
    "    print ('The abstract contains:', len(abstract), ' splited sentences.')\n",
    "    return ' '.join(abstract)"
   ]
  }
 ],
 "metadata": {
  "kernelspec": {
   "display_name": "Python 3",
   "language": "python",
   "name": "python3"
  },
  "language_info": {
   "codemirror_mode": {
    "name": "ipython",
    "version": 3
   },
   "file_extension": ".py",
   "mimetype": "text/x-python",
   "name": "python",
   "nbconvert_exporter": "python",
   "pygments_lexer": "ipython3",
   "version": "3.6.8"
  }
 },
 "nbformat": 4,
 "nbformat_minor": 2
}
