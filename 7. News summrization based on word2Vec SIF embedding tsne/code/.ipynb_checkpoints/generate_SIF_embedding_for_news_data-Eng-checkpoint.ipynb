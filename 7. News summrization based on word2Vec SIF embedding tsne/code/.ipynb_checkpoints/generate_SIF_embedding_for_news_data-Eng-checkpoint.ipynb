{
 "cells": [
  {
   "cell_type": "markdown",
   "metadata": {},
   "source": [
    "### Step 1： 实现对新闻数据title，全文，每个句子的SIF embedding"
   ]
  },
  {
   "cell_type": "code",
   "execution_count": 1,
   "metadata": {},
   "outputs": [],
   "source": [
    "def get_embedding(sentences):\n",
    "    import sys\n",
    "    sys.path.append('../src')\n",
    "    import data_io, params, SIF_embedding\n",
    "    from scipy.stats import pearsonr\n",
    "    wordfile='./glove_test.txt'\n",
    "    weightfile = '../auxiliary_data/enwiki_vocab_min200.txt' # each line is a word and its frequency???\n",
    "    \n",
    "    weightpara = 1e-3 # the parameter in the SIF weighting scheme, usually in the range [3e-5, 3e-3]\n",
    "    rmpc = 1 # number of principal components to remove in SIF weighting scheme\n",
    "\n",
    "    #sentences = ['this is the title of the news', 'this is the whole content of the news','this is the first sentence','this is the second sentence']\n",
    "    #sentences = ['this is the title of the news']\n",
    "\n",
    "    # load word vectors words： \n",
    "    (words, We) = data_io.getWordmap(wordfile)\n",
    "    word2weight = data_io.getWordWeight(weightfile, weightpara) # word2weight['str'] is the weight for the word 'str'\n",
    "\n",
    "    weight4ind = data_io.getWeight(words, word2weight) \n",
    "\n",
    "    # load sentences\n",
    "\n",
    "    x, m = data_io.sentences2idx(sentences, words) \n",
    "    #print (x.shape) # (句子的数量，最长的句子的单词的数量)\n",
    "    #print (m.shape) # (句子的数量，最长的句子的单词的数量)\n",
    "\n",
    "\n",
    "    w = data_io.seq2weight(x, m, weight4ind) # get word weights\n",
    "    # set parameters\n",
    "    params = params.params()\n",
    "    params.rmpc = rmpc\n",
    "\n",
    "    # get SIF embedding\n",
    "    \"\"\"\n",
    "    return 所有需要计算similarity的title，全文，句子的embedding。\n",
    "    paper 里面用的是TruncatedSVD，project 要求我们用PCA方法decomposite\n",
    "    \"\"\"\n",
    "    embedding = SIF_embedding.SIF_embedding(We, x, w, params,method='PCA') # embedding[i,:] is the embedding for sentence i\n",
    "    print (embedding.shape)\n",
    "    return embedding"
   ]
  },
  {
   "cell_type": "markdown",
   "metadata": {},
   "source": [
    "## Get embeddings"
   ]
  },
  {
   "cell_type": "code",
   "execution_count": 2,
   "metadata": {},
   "outputs": [],
   "source": [
    "def get_embedding(sentences):\n",
    "    import sys\n",
    "    sys.path.append('../src')\n",
    "    import data_io, params, SIF_embedding\n",
    "    from scipy.stats import pearsonr\n",
    "    import matplotlib.pyplot as plt\n",
    "    %matplotlib inline  \n",
    "    wordfile='./glove_test.txt'\n",
    "    weightfile = '../auxiliary_data/enwiki_vocab_min200.txt' # each line is a word and its frequency???\n",
    "\n",
    "    weightpara = 1e-3 # the parameter in the SIF weighting scheme, usually in the range [3e-5, 3e-3]\n",
    "    rmpc = 1 # number of principal components to remove in SIF weighting scheme\n",
    "    (words, We) = data_io.getWordmap(wordfile)\n",
    "    word2weight = data_io.getWordWeight(weightfile, weightpara) # word2weight['str'] is the weight for the word 'str'\n",
    "\n",
    "\n",
    "    weight4ind = data_io.getWeight(words, word2weight) \n",
    "\n",
    "# load sentences\n",
    "\n",
    "    x, m = data_io.sentences2idx(sentences, words) \n",
    "#print (x.shape) # (句子的数量，最长的句子的单词的数量)\n",
    "#print (m.shape) # (句子的数量，最长的句子的单词的数量)\n",
    "\n",
    "\n",
    "    w = data_io.seq2weight(x, m, weight4ind) # get word weights\n",
    "# set parameters\n",
    "    params = params.params()\n",
    "    params.rmpc = rmpc\n",
    "\n",
    "# get SIF embedding\n",
    "\n",
    "    embedding = SIF_embedding.SIF_embedding(We, x, w, params,method='PCA') # embedding[i,:] is the embedding for sentence i\n",
    "    print (embedding.shape)\n",
    "    return embedding"
   ]
  },
  {
   "cell_type": "markdown",
   "metadata": {},
   "source": [
    "## Get similarity"
   ]
  },
  {
   "cell_type": "code",
   "execution_count": 3,
   "metadata": {},
   "outputs": [],
   "source": [
    "import re\n",
    "def get_similarity_vector(title,content,seperator = r'。|\\，|\\?|\\!'):\n",
    "    print ('Title is:', title)\n",
    "    print ('Content is :', content)\n",
    "    splited_content=list(re.split(seperator,str(content)))\n",
    "    all_sentences=[title, content] + splited_content\n",
    "    #print (all_sentences)\n",
    "    print ('There are ', str(len(all_sentences)-2), 'sentences been splited and need embeddings.')\n",
    "    embedding=get_embedding(all_sentences)\n",
    "    emb_t=embedding[0]\n",
    "    emb_c=embedding[1]\n",
    "    scores=[]\n",
    "    for i, b in enumerate(all_sentences[2:]):\n",
    "        print ('sentences',i, ':', b)\n",
    "        emb_i=embedding[i+2]\n",
    "        scores.append(0.5*(pearsonr(emb_t,emb_i)[0] + pearsonr(emb_c,emb_i)[0]))\n",
    "    print ('scores for all the sentences are:',  scores)\n",
    "    return scores, all_sentences\n",
    "    "
   ]
  },
  {
   "cell_type": "code",
   "execution_count": 19,
   "metadata": {},
   "outputs": [],
   "source": [
    "def knn_smooth(scores, n_neigbors=3):\n",
    "    adjusted_scores=[]\n",
    "    for i, s in enumerate(scores):\n",
    "        scores_range=scores[max(0,i-n_neigbors):i+n_neigbors+1]\n",
    "        mean=np.sum(scores_range)/len(scores_range)\n",
    "        if s<mean:\n",
    "            adj_s = s+np.abs(mean-s)*0.4\n",
    "        else:\n",
    "            adj_s = s-np.abs(mean-s)*0.4\n",
    "        adjusted_scores.append(adj_s)\n",
    "    return adjusted_scores\n",
    "\n",
    "def plot_bar_x(scores, adjusted_scores):\n",
    "    plt.figure(figsize=(8,8))\n",
    "    label=list(range(len(scores)))\n",
    "    # this is for plotting purpose\n",
    "    index1 = np.arange(len(label))*3\n",
    "    #print (index1)\n",
    "    index2=index1+1\n",
    "    #print (index2)\n",
    "    plt.bar(index1, scores,label='Original Scores')\n",
    "    plt.bar(index2, adjusted_scores,label='Smoothed Scores')\n",
    "    plt.xlabel('Sentences', fontsize=15)\n",
    "    plt.ylabel('Similarity scores', fontsize=15)\n",
    "    plt.xticks(index1, label, fontsize=15, rotation=30)\n",
    "    plt.title('Original scores Vs Smoothed scores')\n",
    "    plt.legend()\n",
    "    plt.show()  "
   ]
  },
  {
   "cell_type": "code",
   "execution_count": 5,
   "metadata": {},
   "outputs": [],
   "source": [
    "#return sentences\n",
    "def return_sentences(adjusted_scores,pct_keep):\n",
    "    print ('smoothed scores:',adjusted_scores)\n",
    "    num_of_sentences=max(1,int(len(adjusted_scores)*pct_keep))\n",
    "    abs_index=sorted(range(len(adjusted_scores)), key=lambda i: adjusted_scores[i], reverse=True)[:num_of_sentences]\n",
    "    return abs_index\n"
   ]
  },
  {
   "cell_type": "code",
   "execution_count": 6,
   "metadata": {},
   "outputs": [],
   "source": [
    "def get_abstract(title, content, n_neigbors, pct_keep,seperator = r'。|\\,|\\!'):\n",
    "    abstract=[]\n",
    "    scores, all_scentences=get_similarity_vector(title,content,seperator = r'。|\\,|\\!')\n",
    "    adjusted_scores=knn_smooth(scores,n_neigbors)\n",
    "    plot_bar_x(scores, adjusted_scores)\n",
    "    abs_idx=return_sentences(adjusted_scores,pct_keep)\n",
    "    for _, value in enumerate(sorted(abs_idx)):\n",
    "        #print (value)\n",
    "        print (all_scentences[value+2])\n",
    "        abstract.append(all_scentences[value+2])\n",
    "    print ('The abstract contains:', len(abstract), ' sentences')\n",
    "    return ' '.join(abstract)"
   ]
  },
  {
   "cell_type": "code",
   "execution_count": 21,
   "metadata": {},
   "outputs": [
    {
     "name": "stdout",
     "output_type": "stream",
     "text": [
      "Title is: k-nearest neighbors algorithm\n",
      "Content is : In pattern recognition, the k-nearest neighbors algorithm (k-NN) is a non-parametric method used for classification and regression! In both cases, the input consists of the k closest training examples in the feature space! The output depends on whether k-NN is used for classification or regression: In k-NN classification, the output is a class membership, An object is classified by a plurality vote of its neighbors, with the object being assigned to the class most common among its k nearest neighbors (k is a positive integer, typically small). If k = 1, then the object is simply assigned to the class of that single nearest neighbor. The neighbors are taken from a set of objects for which the class (for k-NN classification) or the object property value (for k-NN regression) is known. This can be thought of as the training set for the algorithm, though no explicit training step is required, A peculiarity of the k-NN algorithm is that it is sensitive to the local structure of the data.\n",
      "There are  12 sentences been splited and need embeddings.\n",
      "PCA used for decompostion PCA(copy=True, iterated_power='auto', n_components=1, random_state=0,\n",
      "  svd_solver='auto', tol=0.0, whiten=False)\n",
      "(14, 300)\n",
      "sentences 0 : In pattern recognition\n",
      "sentences 1 :  the k-nearest neighbors algorithm (k-NN) is a non-parametric method used for classification and regression\n",
      "sentences 2 :  In both cases\n",
      "sentences 3 :  the input consists of the k closest training examples in the feature space\n",
      "sentences 4 :  The output depends on whether k-NN is used for classification or regression: In k-NN classification\n",
      "sentences 5 :  the output is a class membership\n",
      "sentences 6 :  An object is classified by a plurality vote of its neighbors\n",
      "sentences 7 :  with the object being assigned to the class most common among its k nearest neighbors (k is a positive integer\n",
      "sentences 8 :  typically small). If k = 1\n",
      "sentences 9 :  then the object is simply assigned to the class of that single nearest neighbor. The neighbors are taken from a set of objects for which the class (for k-NN classification) or the object property value (for k-NN regression) is known. This can be thought of as the training set for the algorithm\n",
      "sentences 10 :  though no explicit training step is required\n",
      "sentences 11 :  A peculiarity of the k-NN algorithm is that it is sensitive to the local structure of the data.\n",
      "scores for all the sentences are: [0.6426757375740747, 0.9074591026041416, 0.6746327654560074, 0.7644288038731624, 0.8674534375356996, 0.6405965522054897, 0.7447293605046748, 0.8691906147667645, 0.6577736612462727, 0.9035758718974476, 0.769664699784363, 0.8763209386056778]\n"
     ]
    },
    {
     "data": {
      "image/png": "[encoded data removed]",
      "text/plain": [
       "<Figure size 576x576 with 1 Axes>"
      ]
     },
     "metadata": {
      "needs_background": "light"
     },
     "output_type": "display_data"
    },
    {
     "name": "stdout",
     "output_type": "stream",
     "text": [
      "smoothed scores: [0.6845250834951834, 0.8530074493259319, 0.7045960858901761, 0.7581987543097974, 0.8329572417754735, 0.6825753710711836, 0.7581375192759198, 0.8331134658852423, 0.7067700081198031, 0.8635625329254819, 0.7879208827746599, 0.8465260803167828]\n",
      " the k-nearest neighbors algorithm (k-NN) is a non-parametric method used for classification and regression\n",
      " The output depends on whether k-NN is used for classification or regression: In k-NN classification\n",
      " with the object being assigned to the class most common among its k nearest neighbors (k is a positive integer\n",
      " then the object is simply assigned to the class of that single nearest neighbor. The neighbors are taken from a set of objects for which the class (for k-NN classification) or the object property value (for k-NN regression) is known. This can be thought of as the training set for the algorithm\n",
      " though no explicit training step is required\n",
      " A peculiarity of the k-NN algorithm is that it is sensitive to the local structure of the data.\n",
      "The abstract contains: 6  sentences\n"
     ]
    },
    {
     "data": {
      "text/plain": [
       "' the k-nearest neighbors algorithm (k-NN) is a non-parametric method used for classification and regression  The output depends on whether k-NN is used for classification or regression: In k-NN classification  with the object being assigned to the class most common among its k nearest neighbors (k is a positive integer  then the object is simply assigned to the class of that single nearest neighbor. The neighbors are taken from a set of objects for which the class (for k-NN classification) or the object property value (for k-NN regression) is known. This can be thought of as the training set for the algorithm  though no explicit training step is required  A peculiarity of the k-NN algorithm is that it is sensitive to the local structure of the data.'"
      ]
     },
     "execution_count": 21,
     "metadata": {},
     "output_type": "execute_result"
    }
   ],
   "source": [
    "import sys\n",
    "sys.path.append('../src')\n",
    "import data_io, params, SIF_embedding\n",
    "from scipy.stats import pearsonr\n",
    "import matplotlib.pyplot as plt\n",
    "%matplotlib inline  \n",
    "import numpy as np\n",
    "\n",
    "\n",
    "title='k-nearest neighbors algorithm '\n",
    "content='In pattern recognition, the k-nearest neighbors algorithm (k-NN) is a non-parametric method used for classification and regression! In both cases, the input consists of the k closest training examples in the feature space! The output depends on whether k-NN is used for classification or regression: In k-NN classification, the output is a class membership, An object is classified by a plurality vote of its neighbors, with the object being assigned to the class most common among its k nearest neighbors (k is a positive integer, typically small). If k = 1, then the object is simply assigned to the class of that single nearest neighbor. The neighbors are taken from a set of objects for which the class (for k-NN classification) or the object property value (for k-NN regression) is known. This can be thought of as the training set for the algorithm, though no explicit training step is required, A peculiarity of the k-NN algorithm is that it is sensitive to the local structure of the data.'\n",
    "get_abstract(title, content,seperator = r'。|\\，|\\！|\\……|\\（|\\）|\\？|\\.|\\,|\\!|\\?|\\(|\\)', n_neigbors=3,pct_keep=0.5)"
   ]
  },
  {
   "cell_type": "markdown",
   "metadata": {},
   "source": [
    "### Put all news text (title + contexts) into one txt file"
   ]
  },
  {
   "cell_type": "code",
   "execution_count": 52,
   "metadata": {},
   "outputs": [
    {
     "name": "stdout",
     "output_type": "stream",
     "text": [
      "89611\n",
      "Remove observations that both content and title is null: 89611\n",
      "89611\n"
     ]
    },
    {
     "data": {
      "text/plain": [
       "'小米MIUI 9首批机型曝光：共计15款 此外，自本周（6月12日）起，除小米手机6等15款机型外，其余机型已暂停更新发布（含开发版/体验版内测，稳定版暂不受影响），以确保工程师可以集中全部精力进行系统优化工作。有人猜测这也是将精力主要用到MIUI 9的研发之中。MIUI 8去年5月发布，距今已有一年有余，也是时候更新换代了。当然，关于MIUI 9的确切信息，我们还是等待官方消息。'"
      ]
     },
     "execution_count": 52,
     "metadata": {},
     "output_type": "execute_result"
    }
   ],
   "source": [
    "import pandas as pd\n",
    "import re\n",
    "df=pd.read_csv('../raw_data/sqlResult_1558435.csv',encoding='GB18030')\n",
    "print (len(df))\n",
    "df['title_content']=df.apply(lambda x: str(x['title']) + ' ' + str(x.content), axis=1)\n",
    "df = df[pd.notnull(df['title_content'])]\n",
    "print ('Remove observations that both content and title is null:', len(df))\n",
    "print (len(df))\n",
    "df['title_content']=df.apply(lambda x: x.title_content.replace('\\r\\n', ''), axis=1)\n",
    "df['title_content'][0]"
   ]
  },
  {
   "cell_type": "code",
   "execution_count": 59,
   "metadata": {},
   "outputs": [],
   "source": [
    "s=df['title_content'][0]"
   ]
  },
  {
   "cell_type": "code",
   "execution_count": 65,
   "metadata": {},
   "outputs": [],
   "source": [
    "import string\n",
    "#exclude = set(string.punctuation)\n",
    "exclude= {\n",
    " '：',\n",
    " '（',\n",
    " '）',\n",
    " '。',\n",
    " '，',\n",
    " '《',\n",
    " '》',\n",
    " '!',\n",
    " '\"',\n",
    " '#',\n",
    " '$',\n",
    " '%',\n",
    " '&',\n",
    " \"'\",\n",
    " '(',\n",
    " ')',\n",
    " '*',\n",
    " '+',\n",
    " ',',\n",
    " '-',\n",
    " '.',\n",
    " '/',\n",
    " ':',\n",
    " ';',\n",
    " '<',\n",
    " '=',\n",
    " '>',\n",
    " '?',\n",
    " '@',\n",
    " '[',\n",
    " '\\\\',\n",
    " ']',\n",
    " '^',\n",
    " '_',\n",
    " '`',\n",
    " '{',\n",
    " '|',\n",
    " '}',\n",
    " '~'}\n",
    "s = ''.join(ch for ch in s if ch not in exclude)"
   ]
  },
  {
   "cell_type": "code",
   "execution_count": 66,
   "metadata": {},
   "outputs": [
    {
     "data": {
      "text/plain": [
       "'小米MIUI 9首批机型曝光共计15款 此外自本周6月12日起除小米手机6等15款机型外其余机型已暂停更新发布含开发版体验版内测稳定版暂不受影响以确保工程师可以集中全部精力进行系统优化工作有人猜测这也是将精力主要用到MIUI 9的研发之中MIUI 8去年5月发布距今已有一年有余也是时候更新换代了当然关于MIUI 9的确切信息我们还是等待官方消息'"
      ]
     },
     "execution_count": 66,
     "metadata": {},
     "output_type": "execute_result"
    }
   ],
   "source": [
    "s"
   ]
  },
  {
   "cell_type": "code",
   "execution_count": null,
   "metadata": {},
   "outputs": [],
   "source": [
    "#df['title_content'].to_csv('../source/all_news_title_content.txt', index=False)"
   ]
  },
  {
   "cell_type": "code",
   "execution_count": null,
   "metadata": {},
   "outputs": [],
   "source": [
    "### Remove the line with <doc id> in the wiki text file \n",
    "wc -l token_1.txt\n",
    "sed '/^<doc / d' token_1.txt > token_1_noid.txt\n",
    "wc -l token_1_noid.txt\n",
    "wc -l token_2.txt\n",
    "sed '/^<doc / d' token_2.txt > token_2_noid.txt\n",
    "wc -l token_2_noid.txt\n",
    "wc -l token_3.txt\n",
    "sed '/^<doc / d' token_3.txt > token_3_noid.txt\n",
    "wc -l token_3_noid.txt"
   ]
  },
  {
   "cell_type": "code",
   "execution_count": 4,
   "metadata": {},
   "outputs": [
    {
     "name": "stdout",
     "output_type": "stream",
     "text": [
      "My program took 1804.4147021770477 to run\n"
     ]
    }
   ],
   "source": [
    "# -*-coding: utf-8 -*-\n",
    "# 对txt文件进行中文分词\n",
    "import jieba\n",
    "import os\n",
    "from utils import files_processing\n",
    "\n",
    "# 字词分割，对整个文件内容进行字词分割\n",
    "def segment_lines(file_list,segment_out_dir,stopwords=[]):\n",
    "    for i,file in enumerate(file_list):\n",
    "        segment_out_name=os.path.join(segment_out_dir,'segment_{}.txt'.format(i))\n",
    "        with open(file, 'rb') as f:\n",
    "            document = f.read()\n",
    "            document_cut = jieba.cut(document)\n",
    "            sentence_segment=[]\n",
    "            for word in document_cut:\n",
    "                if word not in stopwords:\n",
    "                    sentence_segment.append(word)\n",
    "            result = ' '.join(sentence_segment)\n",
    "            result = result.encode('utf-8')\n",
    "            with open(segment_out_name, 'wb') as f2:\n",
    "                f2.write(result)\n",
    "\n",
    "# 对source文件夹中的txt文件进行分词，输出到segment目录中\n",
    "import time\n",
    "start_time = time.time()\n",
    "\n",
    "file_list=files_processing.get_files_list('../source', postfix='*.txt')\n",
    "segment_lines(file_list, '../segment')\n",
    "print (\"My program took\", time.time() - start_time, \"to run\")"
   ]
  },
  {
   "cell_type": "markdown",
   "metadata": {},
   "source": [
    "### Train the model just use News Text"
   ]
  },
  {
   "cell_type": "code",
   "execution_count": 20,
   "metadata": {},
   "outputs": [
    {
     "name": "stdout",
     "output_type": "stream",
     "text": [
      "0.46607238\n",
      "0.7714928\n",
      "0.07077112\n",
      "My program took 1586.9379830360413 to run\n"
     ]
    }
   ],
   "source": [
    "# -*-coding: utf-8 -*-\n",
    "# 将Word转换成Vec，然后计算相似度 \n",
    "from gensim.models import word2vec\n",
    "import multiprocessing\n",
    "\n",
    "# 如果目录中有多个文件，可以使用PathLineSentences\n",
    "sentences = word2vec.PathLineSentences('../segment')\n",
    "# 设置模型参数，进行训练\n",
    "import time\n",
    "start_time = time.time()\n",
    "model = word2vec.Word2Vec(sentences, size=300, window=5, min_count=2,workers=multiprocessing.cpu_count())\n",
    "print(model.wv.similarity('研发', '研究'))\n",
    "print(model.wv.similarity('爸爸', '妈妈'))\n",
    "print(model.wv.similarity('研发', '发达'))\n",
    "#save the model\n",
    "model.save('../models/wiki_news.model')\n",
    "print (\"My program took\", time.time() - start_time, \"to run\")"
   ]
  },
  {
   "cell_type": "code",
   "execution_count": 48,
   "metadata": {},
   "outputs": [
    {
     "data": {
      "text/plain": [
       "6676737"
      ]
     },
     "execution_count": 48,
     "metadata": {},
     "output_type": "execute_result"
    }
   ],
   "source": [
    "model.corpus_count"
   ]
  },
  {
   "cell_type": "code",
   "execution_count": 49,
   "metadata": {},
   "outputs": [
    {
     "data": {
      "text/plain": [
       "1439547"
      ]
     },
     "execution_count": 49,
     "metadata": {},
     "output_type": "execute_result"
    }
   ],
   "source": [
    "len(model.wv.vocab.items())"
   ]
  },
  {
   "cell_type": "code",
   "execution_count": 95,
   "metadata": {},
   "outputs": [
    {
     "data": {
      "text/plain": [
       "['小米', 'MIUI', '9', '首批', '机型', '曝光', '：', '共计', '15', '款']"
      ]
     },
     "execution_count": 95,
     "metadata": {},
     "output_type": "execute_result"
    }
   ],
   "source": [
    "list(model.wv.vocab.keys())[:20]"
   ]
  },
  {
   "cell_type": "code",
   "execution_count": null,
   "metadata": {},
   "outputs": [],
   "source": [
    "word_list=list(model.wv.vocab.keys())\n",
    "word_vector_file= open(\"wiki_news_word_vector.txt\",\"a\")\n",
    "for a, i in enumerate(word_list):\n",
    "    #print (i + ' '+' '.join(map(str, model.wv[i[0]]))  )\n",
    "    if a%100000==0:\n",
    "        print (a)\n",
    "    string=(i + ' '+' '.join(map(str, model.wv[i]))+'\\n'  )\n",
    "    word_vector_file.write(string)\n",
    "word_vector_file.close()"
   ]
  },
  {
   "cell_type": "code",
   "execution_count": null,
   "metadata": {},
   "outputs": [],
   "source": [
    "import re\n",
    "def get_chinese_only_from_train(train_file):\n",
    "    train = train_file\n",
    "    train = open(train,encoding=\"utf8\", errors='ignore').read().lower()\n",
    "    #train = open(train).read().lower()\n",
    "    #r\"[\\u00C0-\\u017F]\" Unicode range for all Latin characters\n",
    "    chinese_only=re.findall(r'([\\u4e00-\\u9fff]+)',train)\n",
    "    print ('First 20 Chinese characters of the train file is :', ''.join(chinese_only)[:20])\n",
    "    return ''.join(chinese_only)\n",
    "\n",
    "train_file='../segment2/segment_0.txt'\n",
    "chinese_only_train=get_chinese_only_from_train(train_file)\n",
    "\n",
    "_1_gram_word_counts=get_1_gram_count(chinese_only_train)\n",
    "print ('probability of sentence: ', c1_sentences[0], 'is ' , two_gram_model(c1_sentences[0]))"
   ]
  },
  {
   "cell_type": "code",
   "execution_count": 107,
   "metadata": {},
   "outputs": [
    {
     "data": {
      "text/plain": [
       "[('爸爸', 0.7714928388595581),\n",
       " ('奶奶', 0.7095995545387268),\n",
       " ('外婆', 0.6762410998344421),\n",
       " ('女朋友', 0.6670173406600952),\n",
       " ('男朋友', 0.6608315110206604),\n",
       " ('阿姨', 0.6569209098815918),\n",
       " ('老婆', 0.6551576852798462),\n",
       " ('老爸', 0.6529766321182251),\n",
       " ('爸妈', 0.6499042510986328),\n",
       " ('姨妈', 0.6455265879631042)]"
      ]
     },
     "execution_count": 107,
     "metadata": {},
     "output_type": "execute_result"
    }
   ],
   "source": [
    "model.wv.most_similar('妈妈')"
   ]
  },
  {
   "cell_type": "code",
   "execution_count": 25,
   "metadata": {},
   "outputs": [
    {
     "data": {
      "text/plain": [
       "[('美人', 0.6985518336296082),\n",
       " ('美貌', 0.6677311658859253),\n",
       " ('美艳', 0.6495721340179443),\n",
       " ('绝世', 0.6421597003936768),\n",
       " ('仙子', 0.63796466588974),\n",
       " ('美少年', 0.6345560550689697),\n",
       " ('仙女', 0.6304815411567688),\n",
       " ('贾宝玉', 0.6296128034591675),\n",
       " ('侍女', 0.626065731048584),\n",
       " ('书生', 0.6193616986274719)]"
      ]
     },
     "execution_count": 25,
     "metadata": {},
     "output_type": "execute_result"
    }
   ],
   "source": [
    "model2.wv.most_similar('美女')"
   ]
  },
  {
   "cell_type": "code",
   "execution_count": 108,
   "metadata": {},
   "outputs": [
    {
     "data": {
      "text/plain": [
       "[('中兴通讯', 0.7180880904197693),\n",
       " ('三星电子', 0.6611620783805847),\n",
       " ('OPPO', 0.6423127055168152),\n",
       " ('中国联通', 0.6417484283447266),\n",
       " ('魅族', 0.6330646872520447),\n",
       " ('中国电信', 0.6325844526290894),\n",
       " ('华硕', 0.6323373317718506),\n",
       " ('华为公司', 0.6272257566452026),\n",
       " ('宏碁', 0.6134549975395203),\n",
       " ('摩托罗拉', 0.6034471988677979)]"
      ]
     },
     "execution_count": 108,
     "metadata": {},
     "output_type": "execute_result"
    }
   ],
   "source": [
    "model.wv.most_similar('华为')"
   ]
  },
  {
   "cell_type": "code",
   "execution_count": 109,
   "metadata": {},
   "outputs": [
    {
     "data": {
      "text/plain": [
       "[('Volumn1', 0.8714377284049988),\n",
       " ('吴家镇', 0.8665515184402466),\n",
       " ('加尔梅克', 0.8641220927238464),\n",
       " ('87.52', 0.8640688061714172),\n",
       " ('Daling', 0.8630167841911316),\n",
       " ('韩秀妍', 0.8626471757888794),\n",
       " ('龚砚庆', 0.8612948656082153),\n",
       " ('普吕努瓦', 0.8612275123596191),\n",
       " ('目矮甲', 0.8612179756164551),\n",
       " ('天降奇缘', 0.8597155809402466)]"
      ]
     },
     "execution_count": 109,
     "metadata": {},
     "output_type": "execute_result"
    }
   ],
   "source": [
    "model.wv.most_similar('30091')"
   ]
  },
  {
   "cell_type": "code",
   "execution_count": 110,
   "metadata": {},
   "outputs": [
    {
     "data": {
      "text/plain": [
       "[('processing', 0.8172861337661743),\n",
       " ('control', 0.8158136606216431),\n",
       " ('Integrated', 0.8143075704574585),\n",
       " ('Management', 0.8119733333587646),\n",
       " ('Processing', 0.8069379329681396),\n",
       " ('systems', 0.8064823150634766),\n",
       " ('Operational', 0.8058236837387085),\n",
       " ('software', 0.8056922554969788),\n",
       " ('Process', 0.8031324744224548),\n",
       " ('Instruction', 0.8018696308135986)]"
      ]
     },
     "execution_count": 110,
     "metadata": {},
     "output_type": "execute_result"
    }
   ],
   "source": [
    "model.wv.most_similar('management')"
   ]
  },
  {
   "cell_type": "code",
   "execution_count": 32,
   "metadata": {},
   "outputs": [
    {
     "data": {
      "text/plain": [
       "[('11', 0.9885998368263245),\n",
       " ('9', 0.9861344695091248),\n",
       " ('8', 0.9852745532989502),\n",
       " ('7', 0.9838634729385376),\n",
       " ('6', 0.9750338792800903),\n",
       " ('10', 0.9728521108627319),\n",
       " ('5', 0.9683938026428223),\n",
       " ('4', 0.9557263851165771),\n",
       " ('3', 0.9396927356719971),\n",
       " ('22', 0.9151217937469482)]"
      ]
     },
     "execution_count": 32,
     "metadata": {},
     "output_type": "execute_result"
    }
   ],
   "source": [
    "model.wv.most_similar('12')"
   ]
  },
  {
   "cell_type": "code",
   "execution_count": 33,
   "metadata": {},
   "outputs": [
    {
     "data": {
      "text/plain": [
       "[('watchOS', 0.6904703378677368),\n",
       " ('Nexus', 0.6731964349746704),\n",
       " ('BlackBerry', 0.6686512231826782),\n",
       " ('EMUI', 0.666523277759552),\n",
       " ('Symbian', 0.663722813129425),\n",
       " ('安卓', 0.6545510292053223),\n",
       " ('Note', 0.6446356773376465),\n",
       " ('Android', 0.6433008909225464),\n",
       " ('Nokia', 0.6340469121932983),\n",
       " ('IOS', 0.6333281397819519)]"
      ]
     },
     "execution_count": 33,
     "metadata": {},
     "output_type": "execute_result"
    }
   ],
   "source": [
    "model.wv.most_similar('MIUI')"
   ]
  },
  {
   "cell_type": "code",
   "execution_count": 34,
   "metadata": {},
   "outputs": [
    {
     "data": {
      "text/plain": [
       "[('红米', 0.6888630390167236),\n",
       " ('魅族', 0.6621477603912354),\n",
       " ('OPPO', 0.617629885673523),\n",
       " ('苹果', 0.6170429587364197),\n",
       " ('iPhone', 0.5967674255371094),\n",
       " ('一加', 0.5939584374427795),\n",
       " ('MIUI', 0.5848538875579834),\n",
       " ('黑莓', 0.5801552534103394),\n",
       " ('华硕', 0.5766901969909668),\n",
       " ('Note', 0.570895791053772)]"
      ]
     },
     "execution_count": 34,
     "metadata": {},
     "output_type": "execute_result"
    }
   ],
   "source": [
    "model.wv.most_similar('小米')"
   ]
  },
  {
   "cell_type": "code",
   "execution_count": 38,
   "metadata": {},
   "outputs": [
    {
     "data": {
      "text/plain": [
       "'西语'"
      ]
     },
     "execution_count": 38,
     "metadata": {},
     "output_type": "execute_result"
    }
   ],
   "source": [
    "import warnings\n",
    "warnings.filterwarnings('ignore')\n",
    "def analogy(x1, x2, y1):\n",
    "    result = model.most_similar(positive=[y1,x2], negative=[x1])\n",
    "    return result[0][0]\n",
    "analogy('中国','汉语','美国')"
   ]
  },
  {
   "cell_type": "code",
   "execution_count": 41,
   "metadata": {},
   "outputs": [
    {
     "data": {
      "text/plain": [
       "'温家宝'"
      ]
     },
     "execution_count": 41,
     "metadata": {},
     "output_type": "execute_result"
    }
   ],
   "source": [
    "analogy('美国','奥巴马', '中国')"
   ]
  },
  {
   "cell_type": "code",
   "execution_count": 42,
   "metadata": {},
   "outputs": [
    {
     "data": {
      "text/plain": [
       "'中国政府'"
      ]
     },
     "execution_count": 42,
     "metadata": {},
     "output_type": "execute_result"
    }
   ],
   "source": [
    "analogy('美国','特朗普', '中国')"
   ]
  },
  {
   "cell_type": "code",
   "execution_count": 45,
   "metadata": {},
   "outputs": [],
   "source": [
    "from sklearn.manifold import TSNE\n",
    "import random\n",
    "import matplotlib.pyplot as plt\n",
    "\n",
    "def tsne_plot(model,n_words_to_plot):\n",
    "    \"Creates and TSNE model and plots it\"\n",
    "    labels = []\n",
    "    tokens = []\n",
    "    \n",
    "    words_to_plot=random.sample(list(model.wv.vocab),n_words_to_plot)\n",
    "\n",
    "    for word in words_to_plot:\n",
    "        tokens.append(model[word])\n",
    "        labels.append(word)\n",
    "    \n",
    "    tsne_model = TSNE(perplexity=40, n_components=2, init='pca', n_iter=2500, random_state=23)\n",
    "    new_values = tsne_model.fit_transform(tokens)\n",
    "\n",
    "    x = []\n",
    "    y = []\n",
    "    for value in new_values:\n",
    "        x.append(value[0])\n",
    "        y.append(value[1])\n",
    "        \n",
    "    plt.figure(figsize=(16, 16)) \n",
    "    for i in range(len(x)):\n",
    "        plt.scatter(x[i],y[i])\n",
    "        plt.annotate(labels[i],\n",
    "                     xy=(x[i], y[i]),\n",
    "                     xytext=(5, 2),\n",
    "                     textcoords='offset points',\n",
    "                     ha='right',\n",
    "                     va='bottom')\n",
    "    plt.show()"
   ]
  },
  {
   "cell_type": "code",
   "execution_count": 47,
   "metadata": {},
   "outputs": [
    {
     "data": {
      "image/png": "[encoded data removed]",
      "text/plain": [
       "<Figure size 1152x1152 with 1 Axes>"
      ]
     },
     "metadata": {
      "needs_background": "light"
     },
     "output_type": "display_data"
    }
   ],
   "source": [
    "tsne_plot(model,100)"
   ]
  },
  {
   "cell_type": "code",
   "execution_count": null,
   "metadata": {},
   "outputs": [],
   "source": [
    "\n",
    "model = word2vec.Word2Vec.load(\"../models/word2vec.model\")\n",
    "new_sentences = [[\"6月12日\", \"6月13日\"],[\"7月12日\", \"7月13日\"]]\n",
    "model.build_vocab(new_sentences, update=True)\n",
    "model.train(new_sentences,total_examples=2,epochs=1)\n",
    "model.save('../models/word2Vec.model')"
   ]
  },
  {
   "cell_type": "code",
   "execution_count": 11,
   "metadata": {},
   "outputs": [],
   "source": [
    "import chardet\n",
    "def get_encoding(file):\n",
    "    # 二进制方式读取，获取字节数据，检测类型\n",
    "    with open(file, 'rb') as f:\n",
    "        return chardet.detect(f.read())['encoding']\n",
    "get_encoding('../segment/segment_0.txt')"
   ]
  },
  {
   "cell_type": "code",
   "execution_count": null,
   "metadata": {},
   "outputs": [],
   "source": [
    "model = Word2Vec.load(\"word2vec.model\")\n",
    ">>> model.train([[\"hello\", \"world\"]], total_examples=1, epochs=1)"
   ]
  },
  {
   "cell_type": "code",
   "execution_count": 17,
   "metadata": {},
   "outputs": [
    {
     "data": {
      "text/plain": [
       "(128,)"
      ]
     },
     "execution_count": 17,
     "metadata": {},
     "output_type": "execute_result"
    }
   ],
   "source": [
    "model.wv['妈妈'].shape"
   ]
  },
  {
   "cell_type": "code",
   "execution_count": null,
   "metadata": {},
   "outputs": [],
   "source": [
    "# -*-coding: utf-8 -*-\n",
    "# 将Word转换成Vec，然后计算相似度 \n",
    "from gensim.models import word2vec\n",
    "import multiprocessing\n",
    "\n",
    "# 如果目录中有多个文件，可以使用PathLineSentences\n",
    "sentences = word2vec.PathLineSentences('./segment')\n",
    "\n",
    "# 设置模型参数，进行训练\n",
    "model = word2vec.Word2Vec(sentences, size=100, window=3, min_count=1)\n",
    "print(model.wv.similarity('孙悟空', '猪八戒'))\n",
    "print(model.wv.similarity('孙悟空', '孙行者'))\n",
    "print(model.wv.most_similar(positive=['孙悟空', '唐僧'], negative=['孙行者']))\n",
    "# 设置模型参数，进行训练\n",
    "model2 = word2vec.Word2Vec(sentences, size=128, window=5, min_count=5, workers=multiprocessing.cpu_count())\n",
    "# 保存模型\n",
    "model2.save('./models/word2Vec.model')\n",
    "print(model2.wv.similarity('孙悟空', '猪八戒'))\n",
    "print(model2.wv.similarity('孙悟空', '孙行者'))\n",
    "print(model2.wv.most_similar(positive=['孙悟空', '唐僧'], negative=['孙行者']))"
   ]
  },
  {
   "cell_type": "code",
   "execution_count": 4,
   "metadata": {},
   "outputs": [
    {
     "ename": "NameError",
     "evalue": "name 'LineSentence' is not defined",
     "output_type": "error",
     "traceback": [
      "\u001b[0;31m---------------------------------------------------------------------------\u001b[0m",
      "\u001b[0;31mNameError\u001b[0m                                 Traceback (most recent call last)",
      "\u001b[0;32m<ipython-input-4-eb2c61f00e21>\u001b[0m in \u001b[0;36m<module>\u001b[0;34m()\u001b[0m\n\u001b[1;32m      1\u001b[0m \u001b[0;32mfrom\u001b[0m \u001b[0mgensim\u001b[0m\u001b[0;34m.\u001b[0m\u001b[0mtest\u001b[0m\u001b[0;34m.\u001b[0m\u001b[0mutils\u001b[0m \u001b[0;32mimport\u001b[0m \u001b[0mdatapath\u001b[0m\u001b[0;34m\u001b[0m\u001b[0;34m\u001b[0m\u001b[0m\n\u001b[0;32m----> 2\u001b[0;31m \u001b[0msentences\u001b[0m \u001b[0;34m=\u001b[0m \u001b[0mLineSentence\u001b[0m\u001b[0;34m(\u001b[0m\u001b[0mdatapath\u001b[0m\u001b[0;34m(\u001b[0m\u001b[0;34m'lee_background.cor'\u001b[0m\u001b[0;34m)\u001b[0m\u001b[0;34m)\u001b[0m\u001b[0;34m\u001b[0m\u001b[0;34m\u001b[0m\u001b[0m\n\u001b[0m\u001b[1;32m      3\u001b[0m \u001b[0;32mfor\u001b[0m \u001b[0msentence\u001b[0m \u001b[0;32min\u001b[0m \u001b[0msentences\u001b[0m\u001b[0;34m:\u001b[0m\u001b[0;34m\u001b[0m\u001b[0;34m\u001b[0m\u001b[0m\n\u001b[1;32m      4\u001b[0m     \u001b[0;32mpass\u001b[0m\u001b[0;34m\u001b[0m\u001b[0;34m\u001b[0m\u001b[0m\n",
      "\u001b[0;31mNameError\u001b[0m: name 'LineSentence' is not defined"
     ]
    }
   ],
   "source": [
    "from gensim.test.utils import datapath\n",
    "sentences = LineSentence(datapath('lee_background.cor'))\n",
    "for sentence in sentences:\n",
    "    pass"
   ]
  },
  {
   "cell_type": "code",
   "execution_count": 5,
   "metadata": {},
   "outputs": [],
   "source": [
    "from gensim.test.utils import common_texts, get_tmpfile\n",
    "from gensim.models import Word2Vec\n",
    "path = get_tmpfile(\"word2vec.model\")\n",
    "model = Word2Vec(common_texts, size=100, window=5, min_count=1, workers=4)\n",
    "model.save(\"word2vec.model\")"
   ]
  },
  {
   "cell_type": "code",
   "execution_count": 10,
   "metadata": {},
   "outputs": [
    {
     "data": {
      "text/plain": [
       "[['human', 'interface', 'computer'],\n",
       " ['survey', 'user', 'computer', 'system', 'response', 'time'],\n",
       " ['eps', 'user', 'interface', 'system'],\n",
       " ['system', 'human', 'system', 'eps'],\n",
       " ['user', 'response', 'time'],\n",
       " ['trees'],\n",
       " ['graph', 'trees'],\n",
       " ['graph', 'minors', 'trees'],\n",
       " ['graph', 'minors', 'survey']]"
      ]
     },
     "execution_count": 10,
     "metadata": {},
     "output_type": "execute_result"
    }
   ],
   "source": [
    "common_texts"
   ]
  },
  {
   "cell_type": "code",
   "execution_count": 6,
   "metadata": {},
   "outputs": [
    {
     "data": {
      "text/plain": [
       "(0, 2)"
      ]
     },
     "execution_count": 6,
     "metadata": {},
     "output_type": "execute_result"
    }
   ],
   "source": [
    "model = Word2Vec.load(\"word2vec.model\")\n",
    "model.train([[\"hello\", \"world\"]], total_examples=1, epochs=1)\n"
   ]
  },
  {
   "cell_type": "code",
   "execution_count": 8,
   "metadata": {},
   "outputs": [
    {
     "data": {
      "text/plain": [
       "(100,)"
      ]
     },
     "execution_count": 8,
     "metadata": {},
     "output_type": "execute_result"
    }
   ],
   "source": [
    "vector = model.wv['computer']\n",
    "vector.shape"
   ]
  },
  {
   "cell_type": "code",
   "execution_count": 9,
   "metadata": {},
   "outputs": [
    {
     "ename": "FileNotFoundError",
     "evalue": "[Errno 2] No such file or directory: 'model.wv'",
     "output_type": "error",
     "traceback": [
      "\u001b[0;31m---------------------------------------------------------------------------\u001b[0m",
      "\u001b[0;31mFileNotFoundError\u001b[0m                         Traceback (most recent call last)",
      "\u001b[0;32m<ipython-input-9-5f955829b85e>\u001b[0m in \u001b[0;36m<module>\u001b[0;34m()\u001b[0m\n\u001b[1;32m      2\u001b[0m \u001b[0mpath\u001b[0m \u001b[0;34m=\u001b[0m \u001b[0mget_tmpfile\u001b[0m\u001b[0;34m(\u001b[0m\u001b[0;34m\"wordvectors.kv\"\u001b[0m\u001b[0;34m)\u001b[0m\u001b[0;34m\u001b[0m\u001b[0;34m\u001b[0m\u001b[0m\n\u001b[1;32m      3\u001b[0m \u001b[0mmodel\u001b[0m\u001b[0;34m.\u001b[0m\u001b[0mwv\u001b[0m\u001b[0;34m.\u001b[0m\u001b[0msave\u001b[0m\u001b[0;34m(\u001b[0m\u001b[0mpath\u001b[0m\u001b[0;34m)\u001b[0m\u001b[0;34m\u001b[0m\u001b[0;34m\u001b[0m\u001b[0m\n\u001b[0;32m----> 4\u001b[0;31m \u001b[0mwv\u001b[0m \u001b[0;34m=\u001b[0m \u001b[0mKeyedVectors\u001b[0m\u001b[0;34m.\u001b[0m\u001b[0mload\u001b[0m\u001b[0;34m(\u001b[0m\u001b[0;34m\"model.wv\"\u001b[0m\u001b[0;34m,\u001b[0m \u001b[0mmmap\u001b[0m\u001b[0;34m=\u001b[0m\u001b[0;34m'r'\u001b[0m\u001b[0;34m)\u001b[0m\u001b[0;34m\u001b[0m\u001b[0;34m\u001b[0m\u001b[0m\n\u001b[0m\u001b[1;32m      5\u001b[0m \u001b[0mvector\u001b[0m \u001b[0;34m=\u001b[0m \u001b[0mwv\u001b[0m\u001b[0;34m[\u001b[0m\u001b[0;34m'computer'\u001b[0m\u001b[0;34m]\u001b[0m  \u001b[0;31m# numpy vector of a word\u001b[0m\u001b[0;34m\u001b[0m\u001b[0;34m\u001b[0m\u001b[0m\n",
      "\u001b[0;32m~/anaconda2/envs/py36/lib/python3.6/site-packages/gensim/models/keyedvectors.py\u001b[0m in \u001b[0;36mload\u001b[0;34m(cls, fname_or_handle, **kwargs)\u001b[0m\n\u001b[1;32m   1538\u001b[0m     \u001b[0;34m@\u001b[0m\u001b[0mclassmethod\u001b[0m\u001b[0;34m\u001b[0m\u001b[0;34m\u001b[0m\u001b[0m\n\u001b[1;32m   1539\u001b[0m     \u001b[0;32mdef\u001b[0m \u001b[0mload\u001b[0m\u001b[0;34m(\u001b[0m\u001b[0mcls\u001b[0m\u001b[0;34m,\u001b[0m \u001b[0mfname_or_handle\u001b[0m\u001b[0;34m,\u001b[0m \u001b[0;34m**\u001b[0m\u001b[0mkwargs\u001b[0m\u001b[0;34m)\u001b[0m\u001b[0;34m:\u001b[0m\u001b[0;34m\u001b[0m\u001b[0;34m\u001b[0m\u001b[0m\n\u001b[0;32m-> 1540\u001b[0;31m         \u001b[0mmodel\u001b[0m \u001b[0;34m=\u001b[0m \u001b[0msuper\u001b[0m\u001b[0;34m(\u001b[0m\u001b[0mWordEmbeddingsKeyedVectors\u001b[0m\u001b[0;34m,\u001b[0m \u001b[0mcls\u001b[0m\u001b[0;34m)\u001b[0m\u001b[0;34m.\u001b[0m\u001b[0mload\u001b[0m\u001b[0;34m(\u001b[0m\u001b[0mfname_or_handle\u001b[0m\u001b[0;34m,\u001b[0m \u001b[0;34m**\u001b[0m\u001b[0mkwargs\u001b[0m\u001b[0;34m)\u001b[0m\u001b[0;34m\u001b[0m\u001b[0;34m\u001b[0m\u001b[0m\n\u001b[0m\u001b[1;32m   1541\u001b[0m         \u001b[0;32mif\u001b[0m \u001b[0misinstance\u001b[0m\u001b[0;34m(\u001b[0m\u001b[0mmodel\u001b[0m\u001b[0;34m,\u001b[0m \u001b[0mFastTextKeyedVectors\u001b[0m\u001b[0;34m)\u001b[0m\u001b[0;34m:\u001b[0m\u001b[0;34m\u001b[0m\u001b[0;34m\u001b[0m\u001b[0m\n\u001b[1;32m   1542\u001b[0m             \u001b[0;32mif\u001b[0m \u001b[0;32mnot\u001b[0m \u001b[0mhasattr\u001b[0m\u001b[0;34m(\u001b[0m\u001b[0mmodel\u001b[0m\u001b[0;34m,\u001b[0m \u001b[0;34m'compatible_hash'\u001b[0m\u001b[0;34m)\u001b[0m\u001b[0;34m:\u001b[0m\u001b[0;34m\u001b[0m\u001b[0;34m\u001b[0m\u001b[0m\n",
      "\u001b[0;32m~/anaconda2/envs/py36/lib/python3.6/site-packages/gensim/models/keyedvectors.py\u001b[0m in \u001b[0;36mload\u001b[0;34m(cls, fname_or_handle, **kwargs)\u001b[0m\n\u001b[1;32m    226\u001b[0m     \u001b[0;34m@\u001b[0m\u001b[0mclassmethod\u001b[0m\u001b[0;34m\u001b[0m\u001b[0;34m\u001b[0m\u001b[0m\n\u001b[1;32m    227\u001b[0m     \u001b[0;32mdef\u001b[0m \u001b[0mload\u001b[0m\u001b[0;34m(\u001b[0m\u001b[0mcls\u001b[0m\u001b[0;34m,\u001b[0m \u001b[0mfname_or_handle\u001b[0m\u001b[0;34m,\u001b[0m \u001b[0;34m**\u001b[0m\u001b[0mkwargs\u001b[0m\u001b[0;34m)\u001b[0m\u001b[0;34m:\u001b[0m\u001b[0;34m\u001b[0m\u001b[0;34m\u001b[0m\u001b[0m\n\u001b[0;32m--> 228\u001b[0;31m         \u001b[0;32mreturn\u001b[0m \u001b[0msuper\u001b[0m\u001b[0;34m(\u001b[0m\u001b[0mBaseKeyedVectors\u001b[0m\u001b[0;34m,\u001b[0m \u001b[0mcls\u001b[0m\u001b[0;34m)\u001b[0m\u001b[0;34m.\u001b[0m\u001b[0mload\u001b[0m\u001b[0;34m(\u001b[0m\u001b[0mfname_or_handle\u001b[0m\u001b[0;34m,\u001b[0m \u001b[0;34m**\u001b[0m\u001b[0mkwargs\u001b[0m\u001b[0;34m)\u001b[0m\u001b[0;34m\u001b[0m\u001b[0;34m\u001b[0m\u001b[0m\n\u001b[0m\u001b[1;32m    229\u001b[0m \u001b[0;34m\u001b[0m\u001b[0m\n\u001b[1;32m    230\u001b[0m     \u001b[0;32mdef\u001b[0m \u001b[0msimilarity\u001b[0m\u001b[0;34m(\u001b[0m\u001b[0mself\u001b[0m\u001b[0;34m,\u001b[0m \u001b[0mentity1\u001b[0m\u001b[0;34m,\u001b[0m \u001b[0mentity2\u001b[0m\u001b[0;34m)\u001b[0m\u001b[0;34m:\u001b[0m\u001b[0;34m\u001b[0m\u001b[0;34m\u001b[0m\u001b[0m\n",
      "\u001b[0;32m~/anaconda2/envs/py36/lib/python3.6/site-packages/gensim/utils.py\u001b[0m in \u001b[0;36mload\u001b[0;34m(cls, fname, mmap)\u001b[0m\n\u001b[1;32m    424\u001b[0m         \u001b[0mcompress\u001b[0m\u001b[0;34m,\u001b[0m \u001b[0msubname\u001b[0m \u001b[0;34m=\u001b[0m \u001b[0mSaveLoad\u001b[0m\u001b[0;34m.\u001b[0m\u001b[0m_adapt_by_suffix\u001b[0m\u001b[0;34m(\u001b[0m\u001b[0mfname\u001b[0m\u001b[0;34m)\u001b[0m\u001b[0;34m\u001b[0m\u001b[0;34m\u001b[0m\u001b[0m\n\u001b[1;32m    425\u001b[0m \u001b[0;34m\u001b[0m\u001b[0m\n\u001b[0;32m--> 426\u001b[0;31m         \u001b[0mobj\u001b[0m \u001b[0;34m=\u001b[0m \u001b[0munpickle\u001b[0m\u001b[0;34m(\u001b[0m\u001b[0mfname\u001b[0m\u001b[0;34m)\u001b[0m\u001b[0;34m\u001b[0m\u001b[0;34m\u001b[0m\u001b[0m\n\u001b[0m\u001b[1;32m    427\u001b[0m         \u001b[0mobj\u001b[0m\u001b[0;34m.\u001b[0m\u001b[0m_load_specials\u001b[0m\u001b[0;34m(\u001b[0m\u001b[0mfname\u001b[0m\u001b[0;34m,\u001b[0m \u001b[0mmmap\u001b[0m\u001b[0;34m,\u001b[0m \u001b[0mcompress\u001b[0m\u001b[0;34m,\u001b[0m \u001b[0msubname\u001b[0m\u001b[0;34m)\u001b[0m\u001b[0;34m\u001b[0m\u001b[0;34m\u001b[0m\u001b[0m\n\u001b[1;32m    428\u001b[0m         \u001b[0mlogger\u001b[0m\u001b[0;34m.\u001b[0m\u001b[0minfo\u001b[0m\u001b[0;34m(\u001b[0m\u001b[0;34m\"loaded %s\"\u001b[0m\u001b[0;34m,\u001b[0m \u001b[0mfname\u001b[0m\u001b[0;34m)\u001b[0m\u001b[0;34m\u001b[0m\u001b[0;34m\u001b[0m\u001b[0m\n",
      "\u001b[0;32m~/anaconda2/envs/py36/lib/python3.6/site-packages/gensim/utils.py\u001b[0m in \u001b[0;36munpickle\u001b[0;34m(fname)\u001b[0m\n\u001b[1;32m   1379\u001b[0m \u001b[0;34m\u001b[0m\u001b[0m\n\u001b[1;32m   1380\u001b[0m     \"\"\"\n\u001b[0;32m-> 1381\u001b[0;31m     \u001b[0;32mwith\u001b[0m \u001b[0mopen\u001b[0m\u001b[0;34m(\u001b[0m\u001b[0mfname\u001b[0m\u001b[0;34m,\u001b[0m \u001b[0;34m'rb'\u001b[0m\u001b[0;34m)\u001b[0m \u001b[0;32mas\u001b[0m \u001b[0mf\u001b[0m\u001b[0;34m:\u001b[0m\u001b[0;34m\u001b[0m\u001b[0;34m\u001b[0m\u001b[0m\n\u001b[0m\u001b[1;32m   1382\u001b[0m         \u001b[0;31m# Because of loading from S3 load can't be used (missing readline in smart_open)\u001b[0m\u001b[0;34m\u001b[0m\u001b[0;34m\u001b[0m\u001b[0;34m\u001b[0m\u001b[0m\n\u001b[1;32m   1383\u001b[0m         \u001b[0;32mif\u001b[0m \u001b[0msys\u001b[0m\u001b[0;34m.\u001b[0m\u001b[0mversion_info\u001b[0m \u001b[0;34m>\u001b[0m \u001b[0;34m(\u001b[0m\u001b[0;36m3\u001b[0m\u001b[0;34m,\u001b[0m \u001b[0;36m0\u001b[0m\u001b[0;34m)\u001b[0m\u001b[0;34m:\u001b[0m\u001b[0;34m\u001b[0m\u001b[0;34m\u001b[0m\u001b[0m\n",
      "\u001b[0;32m~/anaconda2/envs/py36/lib/python3.6/site-packages/smart_open/smart_open_lib.py\u001b[0m in \u001b[0;36mopen\u001b[0;34m(uri, mode, buffering, encoding, errors, newline, closefd, opener, ignore_ext, transport_params)\u001b[0m\n\u001b[1;32m    305\u001b[0m         \u001b[0mbuffering\u001b[0m\u001b[0;34m=\u001b[0m\u001b[0mbuffering\u001b[0m\u001b[0;34m,\u001b[0m\u001b[0;34m\u001b[0m\u001b[0;34m\u001b[0m\u001b[0m\n\u001b[1;32m    306\u001b[0m         \u001b[0mencoding\u001b[0m\u001b[0;34m=\u001b[0m\u001b[0mencoding\u001b[0m\u001b[0;34m,\u001b[0m\u001b[0;34m\u001b[0m\u001b[0;34m\u001b[0m\u001b[0m\n\u001b[0;32m--> 307\u001b[0;31m         \u001b[0merrors\u001b[0m\u001b[0;34m=\u001b[0m\u001b[0merrors\u001b[0m\u001b[0;34m,\u001b[0m\u001b[0;34m\u001b[0m\u001b[0;34m\u001b[0m\u001b[0m\n\u001b[0m\u001b[1;32m    308\u001b[0m     )\n\u001b[1;32m    309\u001b[0m     \u001b[0;32mif\u001b[0m \u001b[0mfobj\u001b[0m \u001b[0;32mis\u001b[0m \u001b[0;32mnot\u001b[0m \u001b[0;32mNone\u001b[0m\u001b[0;34m:\u001b[0m\u001b[0;34m\u001b[0m\u001b[0;34m\u001b[0m\u001b[0m\n",
      "\u001b[0;32m~/anaconda2/envs/py36/lib/python3.6/site-packages/smart_open/smart_open_lib.py\u001b[0m in \u001b[0;36m_shortcut_open\u001b[0;34m(uri, mode, ignore_ext, buffering, encoding, errors)\u001b[0m\n\u001b[1;32m    510\u001b[0m     \u001b[0;31m#\u001b[0m\u001b[0;34m\u001b[0m\u001b[0;34m\u001b[0m\u001b[0;34m\u001b[0m\u001b[0m\n\u001b[1;32m    511\u001b[0m     \u001b[0;32mif\u001b[0m \u001b[0msix\u001b[0m\u001b[0;34m.\u001b[0m\u001b[0mPY3\u001b[0m\u001b[0;34m:\u001b[0m\u001b[0;34m\u001b[0m\u001b[0;34m\u001b[0m\u001b[0m\n\u001b[0;32m--> 512\u001b[0;31m         \u001b[0;32mreturn\u001b[0m \u001b[0m_builtin_open\u001b[0m\u001b[0;34m(\u001b[0m\u001b[0mparsed_uri\u001b[0m\u001b[0;34m.\u001b[0m\u001b[0muri_path\u001b[0m\u001b[0;34m,\u001b[0m \u001b[0mmode\u001b[0m\u001b[0;34m,\u001b[0m \u001b[0mbuffering\u001b[0m\u001b[0;34m=\u001b[0m\u001b[0mbuffering\u001b[0m\u001b[0;34m,\u001b[0m \u001b[0;34m**\u001b[0m\u001b[0mopen_kwargs\u001b[0m\u001b[0;34m)\u001b[0m\u001b[0;34m\u001b[0m\u001b[0;34m\u001b[0m\u001b[0m\n\u001b[0m\u001b[1;32m    513\u001b[0m     \u001b[0;32melif\u001b[0m \u001b[0;32mnot\u001b[0m \u001b[0mopen_kwargs\u001b[0m\u001b[0;34m:\u001b[0m\u001b[0;34m\u001b[0m\u001b[0;34m\u001b[0m\u001b[0m\n\u001b[1;32m    514\u001b[0m         \u001b[0;32mreturn\u001b[0m \u001b[0m_builtin_open\u001b[0m\u001b[0;34m(\u001b[0m\u001b[0mparsed_uri\u001b[0m\u001b[0;34m.\u001b[0m\u001b[0muri_path\u001b[0m\u001b[0;34m,\u001b[0m \u001b[0mmode\u001b[0m\u001b[0;34m,\u001b[0m \u001b[0mbuffering\u001b[0m\u001b[0;34m=\u001b[0m\u001b[0mbuffering\u001b[0m\u001b[0;34m)\u001b[0m\u001b[0;34m\u001b[0m\u001b[0;34m\u001b[0m\u001b[0m\n",
      "\u001b[0;31mFileNotFoundError\u001b[0m: [Errno 2] No such file or directory: 'model.wv'"
     ]
    }
   ],
   "source": [
    "from gensim.models import KeyedVectors\n",
    "path = get_tmpfile(\"wordvectors.kv\")\n",
    "model.wv.save(path)\n",
    "wv = KeyedVectors.load(\"model.wv\", mmap='r')\n",
    "vector = wv['computer']  # numpy vector of a word"
   ]
  },
  {
   "cell_type": "code",
   "execution_count": null,
   "metadata": {},
   "outputs": [],
   "source": []
  },
  {
   "cell_type": "code",
   "execution_count": null,
   "metadata": {},
   "outputs": [],
   "source": []
  },
  {
   "cell_type": "markdown",
   "metadata": {},
   "source": [
    "## Visualizing Word Vectors with t-SNE\n",
    "https://www.kaggle.com/jeffd23/visualizing-word-vectors-with-t-sne"
   ]
  },
  {
   "cell_type": "markdown",
   "metadata": {},
   "source": [
    "## Some sample code for testing below"
   ]
  },
  {
   "cell_type": "code",
   "execution_count": null,
   "metadata": {},
   "outputs": [],
   "source": [
    "def knn_smooth(scores, n_neigbors=1):\n",
    "    adjusted_scores=[]\n",
    "    for i, s in enumerate(scores):\n",
    "        #print ('i:', i)\n",
    "        #print ('scores:', scores[i:i+k+1])\n",
    "        scores_range=scores[max(0,i-n_neigbors):i+n_neigbors+1]\n",
    "        mean=np.sum(scores_range)/len(scores_range)\n",
    "        #print ('range of scores:', scores[max(0,i-k):i+k+1])\n",
    "        #print ('mean:', mean)\n",
    "        if s<mean:\n",
    "            #print ('s need to be increase', s)\n",
    "            adj_s = s+np.abs(mean-s)*0.4\n",
    "        else:\n",
    "            #print ('s need to be decrease', s)\n",
    "            adj_s = s-np.abs(mean-s)*0.4\n",
    "        adjusted_scores.append(adj_s)\n",
    "        #print ('adj_s:', adj_s)\n",
    "    return adjusted_scores\n",
    "\n",
    "def plot_bar_x(scores, adjusted_scores):\n",
    "    plt.figure(figsize=(8,8))\n",
    "    label=list(range(len(scores)))\n",
    "    # this is for plotting purpose\n",
    "    index1 = np.arange(len(label))*3\n",
    "    #print (index1)\n",
    "    index2=index1+1\n",
    "    #print (index2)\n",
    "    plt.bar(index1, scores,label='Original Scores')\n",
    "    plt.bar(index2, adjusted_scores,label='Smoothed Scores')\n",
    "    plt.xlabel('Sentences', fontsize=15)\n",
    "    plt.ylabel('Similarity scores', fontsize=15)\n",
    "    plt.xticks(index1, label, fontsize=15, rotation=30)\n",
    "    plt.title('Original scores Vs Smoothed scores')\n",
    "    plt.legend()\n",
    "    plt.show() "
   ]
  },
  {
   "cell_type": "code",
   "execution_count": 18,
   "metadata": {},
   "outputs": [
    {
     "name": "stdout",
     "output_type": "stream",
     "text": [
      "/Users/zixiawang/school/NLP and Recommendation Engine/作业笔记/开课吧NLP/NLP_assignment/Project1/SIF/examples\r\n"
     ]
    }
   ],
   "source": [
    "!pwd"
   ]
  },
  {
   "cell_type": "code",
   "execution_count": null,
   "metadata": {},
   "outputs": [],
   "source": [
    "import sys\n",
    "sys.path.append('../src')\n",
    "import data_io, params, SIF_embedding\n",
    "from scipy.stats import pearsonr\n",
    "import matplotlib.pyplot as plt\n",
    "%matplotlib inline  \n",
    "\n",
    "\"\"\"\n",
    "将Step1-1和Step1-2的两个中文语料用Gensim生成gensim生成词向量文件。我的理解是用两个中文文件要一起用生成词向量文件作为wordfile的input。\n",
    "文件格式是每一行第一个是词语，然后是300个数字。\n",
    "例如：\n",
    "the 0.27204 -0.06203 -0.1884 0.023225 -0.018158 0.0067192 -0.13877 0.17708 0.17709 2.5882 -0.35179 -0.17312 0.43285 -0.10708 0.15006 -0.19982 -0.19093 1.1871 -0.16207 -0.23538 0.003664 -0.19156 -0.085662 0.039199 -0.066449 -0.04209 -0.19122 0.011679 -0.37138 0.21886 0.0011423 0.4319 -0.14205 0.38059 0.30654 0.020167 -0.18316 -0.0065186 -0.0080549 -0.12063 0.027507 0.29839 -0.22896 -0.22882 0.14671 -0.076301 -0.1268 -0.0066651 -0.052795 0.14258 0.1561 0.05551 -0.16149 0.09629 -0.076533 -0.049971 -0.010195 -0.047641 -0.16679 -0.2394 0.0050141 -0.049175 0.013338 0.41923 -0.10104 0.015111 -0.077706 -0.13471 0.119 0.10802 0.21061 -0.051904 0.18527 0.17856 0.041293 -0.014385 -0.082567 -0.035483 -0.076173 -0.045367 0.089281 0.33672 -0.22099 -0.0067275 0.23983 -0.23147 -0.88592 0.091297 -0.012123 0.013233 -0.25799 -0.02972 0.016754 0.01369 0.32377 0.039546 0.042114 -0.088243 0.30318 0.087747 0.16346 -0.40485 -0.043845 -0.040697 0.20936 -0.77795 0.2997 0.2334 0.14891 -0.39037 -0.053086 0.062922 0.065663 -0.13906 0.094193 0.10344 -0.2797 0.28905 -0.32161 0.020687 0.063254 -0.23257 -0.4352 -0.017049 -0.32744 -0.047064 -0.075149 -0.18788 -0.015017 0.029342 -0.3527 -0.044278 -0.13507 -0.11644 -0.1043 0.1392 0.0039199 0.37603 0.067217 -0.37992 -1.1241 -0.057357 -0.16826 0.03941 0.2604 -0.023866 0.17963 0.13553 0.2139 0.052633 -0.25033 -0.11307 0.22234 0.066597 -0.11161 0.062438 -0.27972 0.19878 -0.36262 -1.0006e-05 -0.17262 0.29166 -0.15723 0.054295 0.06101 -0.39165 0.2766 0.057816 0.39709 0.025229 0.24672 -0.08905 0.15683 -0.2096 -0.22196 0.052394 -0.01136 0.050417 -0.14023 -0.042825 -0.031931 -0.21336 -0.20402 -0.23272 0.07449 0.088202 -0.11063 -0.33526 -0.014028 -0.29429 -0.086911 -0.1321 -0.43616 0.20513 0.0079362 0.48505 0.064237 0.14261 -0.43711 0.12783 -0.13111 0.24673 -0.27496 0.15896 0.43314 0.090286 0.24662 0.066463 -0.20099 0.1101 0.03644 0.17359 -0.15689 -0.086328 -0.17316 0.36975 -0.40317 -0.064814 -0.034166 -0.013773 0.062854 -0.17183 -0.12366 -0.034663 -0.22793 -0.23172 0.239 0.27473 0.15332 0.10661 -0.060982 -0.024805 -0.13478 0.17932 -0.37374 -0.02893 -0.11142 -0.08389 -0.055932 0.068039 -0.10783 0.1465 0.094617 -0.084554 0.067429 -0.3291 0.034082 -0.16747 -0.25997 -0.22917 0.020159 -0.02758 0.16136 -0.18538 0.037665 0.57603 0.20684 0.27941 0.16477 -0.018769 0.12062 0.069648 0.059022 -0.23154 0.24095 -0.3471 0.04854 -0.056502 0.41566 -0.43194 0.4823 -0.051759 -0.27285 -0.25893 0.16555 -0.1831 -0.06734 0.42457 0.010346 0.14237 0.25939 0.17123 -0.13821 -0.066846 0.015981 -0.30193 0.043579 -0.043102 0.35025 -0.19681 -0.4281 0.16899 0.22511 -0.28557 -0.1028 -0.018168 0.11407 0.13015 -0.18317 0.1323\n",
    "\n",
    "\"\"\"\n",
    "\n",
    "wordfile='./glove_test.txt'\n",
    "\n",
    "\"\"\"\n",
    "然后用step-1和step 2两个中文语料做出一个 word frequencey 的文件来构建一个词频统计的 weightfile作为input。\n",
    "例如：\n",
    "the 167485604\n",
    "one 138326283\n",
    "zero 126398906\n",
    "two 101453018\n",
    "\n",
    "\"\"\"\n",
    "weightfile = '../auxiliary_data/enwiki_vocab_min200.txt' # each line is a word and its frequency???\n",
    "\n",
    "weightpara = 1e-3 # the parameter in the SIF weighting scheme, usually in the range [3e-5, 3e-3]\n",
    "rmpc = 1 # number of principal components to remove in SIF weighting scheme\n",
    "\n",
    "\"\"\"\n",
    "把每个新闻按照：title， 全文， 句子1， 句子2， ....的形式放到下面这个list里面\n",
    "\"\"\"\n",
    "#sentences = ['this is the title of the news', 'this is the whole content of the news','this is the first sentence','this is the second sentence']\n",
    "sentences = ['this is the title of the news']\n",
    "\n",
    "\n",
    "\n",
    "\"\"\"\n",
    "这一步其实就是修改第一个文件的格式，没做其他什么事情：\n",
    "用(words, We) = data_io.getWordmap(wordfile) 这个function 处理wordfile 把它转成words，We 两部分。\n",
    "Words 是一个dictionary，是所有单词和numpy array We的 index的mapping。e.g.:\n",
    "{',': 0,\n",
    " '.': 1,\n",
    " 'the': 2,\n",
    " 'and': 3,\n",
    " 'to': 4,\n",
    " 'of': 5,\n",
    " 'a': 6,\n",
    " 'in': 7,\n",
    " '\"': 8,\n",
    " ':': 9}\n",
    "We:是一个维度为所有单词数*300 的词numpy array\n",
    "\"\"\"\n",
    "# load word vectors words： \n",
    "(words, We) = data_io.getWordmap(wordfile)\n",
    "\n",
    "\"\"\"\n",
    "weightpara= 1e-3\n",
    "用word2weight = data_io.getWordWeight(weightfile, weightpara)找到每一个单词的weight， output是一个dictionary\n",
    "{'the': 0.020378667492621422,\n",
    " 'one': 0.0245689668611191,\n",
    " 'zero': 0.026825176193237706,\n",
    " 'two': 0.0332021153301977,\n",
    " 'of': 0.03842551140655846}\n",
    "\"\"\"\n",
    "word2weight = data_io.getWordWeight(weightfile, weightpara) # word2weight['str'] is the weight for the word 'str'\n",
    "\n",
    "\"\"\"\n",
    "用weight4ind = data_io.getWeight(words, word2weight)找到每个index的weight，有一些标点符号的weight 会变成1\n",
    "\"\"\"\n",
    "\n",
    "weight4ind = data_io.getWeight(words, word2weight) \n",
    "\n",
    "# load sentences\n",
    "\"\"\"\n",
    "把所有需要embeding的句子 放在sentences 这个list 里面，然后把所有的词都转成数字形式的index 的代码x, m是一个mask 代表了这个单词是否有weight，1为有，0为无\n",
    "# x is the array of word indices, m is the binary mask indicating whether there is a word in that location\n",
    "\"\"\"\n",
    "x, m = data_io.sentences2idx(sentences, words) \n",
    "#print (x.shape) # (句子的数量，最长的句子的单词的数量)\n",
    "#print (m.shape) # (句子的数量，最长的句子的单词的数量)\n",
    "\n",
    "\n",
    "w = data_io.seq2weight(x, m, weight4ind) # get word weights\n",
    "# set parameters\n",
    "params = params.params()\n",
    "params.rmpc = rmpc\n",
    "\n",
    "# get SIF embedding\n",
    "\"\"\"\n",
    "return 所有需要计算similarity的title，全文，句子的embedding。\n",
    "paper 里面用的是TruncatedSVD，project 要求我们用PCA方法decomposite\n",
    "\"\"\"\n",
    "embedding = SIF_embedding.SIF_embedding(We, x, w, params,method='PCA') # embedding[i,:] is the embedding for sentence i\n",
    "print (embedding.shape)"
   ]
  },
  {
   "cell_type": "markdown",
   "metadata": {},
   "source": [
    "### Step 2：计算每个句子的与title 和全文的相似性，每个句子给个分数"
   ]
  },
  {
   "cell_type": "code",
   "execution_count": 2,
   "metadata": {},
   "outputs": [
    {
     "name": "stdout",
     "output_type": "stream",
     "text": [
      "sentences 0 : this is the first sentence\n",
      "sentences 1 : this is the second sentence\n",
      "score for all the sentences are: [0.8114819677057177, 0.8230100079339204]\n"
     ]
    }
   ],
   "source": [
    "\"\"\"\n",
    "sentences[0] 存title\n",
    "sentences[1] 存全文\n",
    "sentence[2:] 存每个句子\n",
    "\n",
    "先计算每个句子和title的similarity\n",
    "再计算每个句子和全文的 similarity \n",
    "然后最后的similarity是上面两个的平均\n",
    "\"\"\"\n",
    "emb_t=embedding[0]\n",
    "emb_c=embedding[1]\n",
    "score=[]\n",
    "for i, b in enumerate(sentences[2:]):\n",
    "    print ('sentences',i, ':', b)\n",
    "    emb_i=embedding[i+2]\n",
    "    score.append(0.5*(pearsonr(emb_t,emb_i)[0] + pearsonr(emb_c,emb_i)[0]))\n",
    "print ('score for all the sentences are:',  score)"
   ]
  },
  {
   "cell_type": "markdown",
   "metadata": {},
   "source": [
    "### 下面是整理news的数据，构造出上面step1 中所需要的scentences 这个list 的格式"
   ]
  },
  {
   "cell_type": "code",
   "execution_count": 18,
   "metadata": {},
   "outputs": [
    {
     "name": "stdout",
     "output_type": "stream",
     "text": [
      "\u001b[31mclean_sql_code.py\u001b[m\u001b[m\r\n",
      "generate_SIF_embedding_for_news_data.ipynb\r\n",
      "glove_test.txt\r\n",
      "word2vec.model\r\n"
     ]
    }
   ],
   "source": [
    "!ls"
   ]
  },
  {
   "cell_type": "code",
   "execution_count": 50,
   "metadata": {},
   "outputs": [
    {
     "name": "stdout",
     "output_type": "stream",
     "text": [
      "89611\n",
      "Remove observations that both content and title is null: 89611\n",
      "89611\n"
     ]
    }
   ],
   "source": []
  },
  {
   "cell_type": "code",
   "execution_count": 53,
   "metadata": {},
   "outputs": [
    {
     "data": {
      "text/plain": [
       "'小米MIUI 9首批机型曝光：共计15款 此外，自本周（6月12日）起，除小米手机6等15款机型外，其余机型已暂停更新发布（含开发版/体验版内测，稳定版暂不受影响），以确保工程师可以集中全部精力进行系统优化工作。有人猜测这也是将精力主要用到MIUI 9的研发之中。MIUI 8去年5月发布，距今已有一年有余，也是时候更新换代了。当然，关于MIUI 9的确切信息，我们还是等待官方消息。'"
      ]
     },
     "execution_count": 53,
     "metadata": {},
     "output_type": "execute_result"
    }
   ],
   "source": []
  },
  {
   "cell_type": "code",
   "execution_count": 54,
   "metadata": {},
   "outputs": [],
   "source": []
  },
  {
   "cell_type": "markdown",
   "metadata": {},
   "source": [
    "### split sentence based on: 。 , ? !"
   ]
  },
  {
   "cell_type": "code",
   "execution_count": 6,
   "metadata": {},
   "outputs": [],
   "source": [
    "pattern = r'。|\\，|\\?|\\!' \n",
    "df['splited_content']=df.apply(lambda x: re.split(pattern,str(x.content)),axis=1)\n",
    "df['content_sentence_cnt']=df.apply(lambda x: len(re.split(pattern,str(x.content))),axis=1)\n",
    "#把 all_sentences 构造成 title，\n",
    "df['all_sentences']=df.apply(lambda x: [x.title, x.content] + x.splited_content, axis=1)"
   ]
  },
  {
   "cell_type": "code",
   "execution_count": 7,
   "metadata": {},
   "outputs": [
    {
     "data": {
      "text/plain": [
       "['小米MIUI 9首批机型曝光：共计15款',\n",
       " '此外，自本周（6月12日）起，除小米手机6等15款机型外，其余机型已暂停更新发布（含开发版/体验版内测，稳定版暂不受影响），以确保工程师可以集中全部精力进行系统优化工作。有人猜测这也是将精力主要用到MIUI 9的研发之中。MIUI 8去年5月发布，距今已有一年有余，也是时候更新换代了。当然，关于MIUI 9的确切信息，我们还是等待官方消息。',\n",
       " '此外',\n",
       " '自本周（6月12日）起',\n",
       " '除小米手机6等15款机型外',\n",
       " '其余机型已暂停更新发布（含开发版/体验版内测',\n",
       " '稳定版暂不受影响）',\n",
       " '以确保工程师可以集中全部精力进行系统优化工作',\n",
       " '有人猜测这也是将精力主要用到MIUI 9的研发之中',\n",
       " 'MIUI 8去年5月发布',\n",
       " '距今已有一年有余',\n",
       " '也是时候更新换代了',\n",
       " '当然',\n",
       " '关于MIUI 9的确切信息',\n",
       " '我们还是等待官方消息',\n",
       " '']"
      ]
     },
     "execution_count": 7,
     "metadata": {},
     "output_type": "execute_result"
    }
   ],
   "source": [
    "df.all_sentences[0]"
   ]
  },
  {
   "cell_type": "code",
   "execution_count": 8,
   "metadata": {},
   "outputs": [
    {
     "data": {
      "text/html": [
       "<div>\n",
       "<table border=\"1\" class=\"dataframe\">\n",
       "  <thead>\n",
       "    <tr style=\"text-align: right;\">\n",
       "      <th></th>\n",
       "      <th>all_sentences</th>\n",
       "      <th>content_sentence_cnt</th>\n",
       "    </tr>\n",
       "  </thead>\n",
       "  <tbody>\n",
       "    <tr>\n",
       "      <th>0</th>\n",
       "      <td>[小米MIUI 9首批机型曝光：共计15款, 此外，自本周（6月12日）起，除小米手机6等1...</td>\n",
       "      <td>14</td>\n",
       "    </tr>\n",
       "    <tr>\n",
       "      <th>1</th>\n",
       "      <td>[骁龙835在Windows 10上的性能表现有望改善, 骁龙835作为唯一通过Window...</td>\n",
       "      <td>20</td>\n",
       "    </tr>\n",
       "    <tr>\n",
       "      <th>2</th>\n",
       "      <td>[一加手机5细节曝光：3300mAh、充半小时用1天, 此前的一加3T搭载的是3400mAh...</td>\n",
       "      <td>14</td>\n",
       "    </tr>\n",
       "    <tr>\n",
       "      <th>3</th>\n",
       "      <td>[葡森林火灾造成至少62人死亡 政府宣布进入紧急状态（组图）, 这是6月18日在葡萄牙中部大...</td>\n",
       "      <td>2</td>\n",
       "    </tr>\n",
       "    <tr>\n",
       "      <th>4</th>\n",
       "      <td>[44岁女子约网友被拒暴雨中裸奔 交警为其披衣相随, （原标题：44岁女子跑深圳约会网友被拒...</td>\n",
       "      <td>100</td>\n",
       "    </tr>\n",
       "  </tbody>\n",
       "</table>\n",
       "</div>"
      ],
      "text/plain": [
       "                                       all_sentences  content_sentence_cnt\n",
       "0  [小米MIUI 9首批机型曝光：共计15款, 此外，自本周（6月12日）起，除小米手机6等1...                    14\n",
       "1  [骁龙835在Windows 10上的性能表现有望改善, 骁龙835作为唯一通过Window...                    20\n",
       "2  [一加手机5细节曝光：3300mAh、充半小时用1天, 此前的一加3T搭载的是3400mAh...                    14\n",
       "3  [葡森林火灾造成至少62人死亡 政府宣布进入紧急状态（组图）, 这是6月18日在葡萄牙中部大...                     2\n",
       "4  [44岁女子约网友被拒暴雨中裸奔 交警为其披衣相随, （原标题：44岁女子跑深圳约会网友被拒...                   100"
      ]
     },
     "execution_count": 8,
     "metadata": {},
     "output_type": "execute_result"
    }
   ],
   "source": [
    "df[['all_sentences','content_sentence_cnt']].head()"
   ]
  },
  {
   "cell_type": "markdown",
   "metadata": {},
   "source": [
    "#### all_sentences 这个column 就作为step 1中 scentences 这个list的input"
   ]
  },
  {
   "cell_type": "code",
   "execution_count": 9,
   "metadata": {},
   "outputs": [
    {
     "data": {
      "text/plain": [
       "['小米MIUI 9首批机型曝光：共计15款',\n",
       " '此外，自本周（6月12日）起，除小米手机6等15款机型外，其余机型已暂停更新发布（含开发版/体验版内测，稳定版暂不受影响），以确保工程师可以集中全部精力进行系统优化工作。有人猜测这也是将精力主要用到MIUI 9的研发之中。MIUI 8去年5月发布，距今已有一年有余，也是时候更新换代了。当然，关于MIUI 9的确切信息，我们还是等待官方消息。',\n",
       " '此外',\n",
       " '自本周（6月12日）起',\n",
       " '除小米手机6等15款机型外',\n",
       " '其余机型已暂停更新发布（含开发版/体验版内测',\n",
       " '稳定版暂不受影响）',\n",
       " '以确保工程师可以集中全部精力进行系统优化工作',\n",
       " '有人猜测这也是将精力主要用到MIUI 9的研发之中',\n",
       " 'MIUI 8去年5月发布',\n",
       " '距今已有一年有余',\n",
       " '也是时候更新换代了',\n",
       " '当然',\n",
       " '关于MIUI 9的确切信息',\n",
       " '我们还是等待官方消息',\n",
       " '']"
      ]
     },
     "execution_count": 9,
     "metadata": {},
     "output_type": "execute_result"
    }
   ],
   "source": [
    "df.all_sentences[0]"
   ]
  },
  {
   "cell_type": "code",
   "execution_count": 10,
   "metadata": {},
   "outputs": [
    {
     "data": {
      "text/plain": [
       "<matplotlib.axes._subplots.AxesSubplot at 0x11de1cf60>"
      ]
     },
     "execution_count": 10,
     "metadata": {},
     "output_type": "execute_result"
    },
    {
     "data": {
      "image/png": "[encoded data removed]",
      "text/plain": [
       "<Figure size 432x288 with 1 Axes>"
      ]
     },
     "metadata": {
      "needs_background": "light"
     },
     "output_type": "display_data"
    }
   ],
   "source": [
    "df.content_sentence_cnt.hist(bins=100)"
   ]
  },
  {
   "cell_type": "code",
   "execution_count": 11,
   "metadata": {},
   "outputs": [
    {
     "data": {
      "text/plain": [
       "count    87054.000000\n",
       "mean        24.588600\n",
       "std         38.637745\n",
       "min          1.000000\n",
       "1%           1.000000\n",
       "5%           4.000000\n",
       "10%          6.000000\n",
       "50%         10.000000\n",
       "90%         60.000000\n",
       "95%         92.000000\n",
       "99%        176.000000\n",
       "max       1349.000000\n",
       "Name: content_sentence_cnt, dtype: float64"
      ]
     },
     "execution_count": 11,
     "metadata": {},
     "output_type": "execute_result"
    }
   ],
   "source": [
    "df.content_sentence_cnt.describe(percentiles=[0.01,0.05,0.1,0.9,0.95,0.99])"
   ]
  },
  {
   "cell_type": "markdown",
   "metadata": {},
   "source": [
    "有5%的新闻split 之后也只有1-4句话，所以最后输出摘要的时候还要考虑到新闻的长短 <br>\n",
    "可以考虑采用： min(max(1,int(content_sentence_cnt*0.2)),50) 作为最后筛选的句子的数量<br>\n",
    "最少1句，最多总句子数量的 20%，如果总句子数量 *20%超过50句，那么50句封顶。<br>\n",
    "这些参数都可以之后根据效果微调<br>"
   ]
  }
 ],
 "metadata": {
  "kernelspec": {
   "display_name": "Python 3",
   "language": "python",
   "name": "python3"
  },
  "language_info": {
   "codemirror_mode": {
    "name": "ipython",
    "version": 3
   },
   "file_extension": ".py",
   "mimetype": "text/x-python",
   "name": "python",
   "nbconvert_exporter": "python",
   "pygments_lexer": "ipython3",
   "version": "3.6.8"
  }
 },
 "nbformat": 4,
 "nbformat_minor": 2
}
