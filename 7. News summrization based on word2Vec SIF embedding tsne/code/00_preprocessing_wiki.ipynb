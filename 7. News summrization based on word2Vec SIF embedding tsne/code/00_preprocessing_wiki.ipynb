{
 "cells": [
  {
   "cell_type": "code",
   "execution_count": 53,
   "metadata": {},
   "outputs": [],
   "source": [
    "import gensim\n",
    "import pandas as pd\n",
    "import jieba\n",
    "import itertools"
   ]
  },
  {
   "cell_type": "code",
   "execution_count": 2,
   "metadata": {},
   "outputs": [],
   "source": [
    "with open ('/Users/chenyang/Desktop/output.txt/token_1.txt') as f:\n",
    "    data1 = f.read().splitlines()"
   ]
  },
  {
   "cell_type": "code",
   "execution_count": 61,
   "metadata": {},
   "outputs": [],
   "source": [
    "with open ('/Users/chenyang/Desktop/output.txt/token_2.txt') as f:\n",
    "    data2 = f.read().splitlines()"
   ]
  },
  {
   "cell_type": "code",
   "execution_count": 62,
   "metadata": {},
   "outputs": [],
   "source": [
    "with open ('/Users/chenyang/Desktop/output.txt/token_3.txt') as f:\n",
    "    data3 = f.read().splitlines()"
   ]
  },
  {
   "cell_type": "code",
   "execution_count": 67,
   "metadata": {},
   "outputs": [],
   "source": [
    "# Jieba cut\n",
    "def jieba_cut(data):\n",
    "    seg = [jieba.lcut(w) for w in data]\n",
    "    return seg\n",
    "# Wrangling data with very first rules\n",
    "def clean_data(data):\n",
    "    data = [w for w in data if len(w) != 0 and '<doc' not in w]\n",
    "    return data\n",
    "# Extraction\n",
    "def extract_tokens(data):\n",
    "    temp = clean_data(data)\n",
    "    temp = jieba_cut(temp)\n",
    "    tokens = list(itertools.chain(*temp))\n",
    "    return tokens\n",
    "# Split the data to speed up\n",
    "def ext_all(data):\n",
    "    tokens_all = []\n",
    "    i = 0\n",
    "    while i <= 9:\n",
    "        if (i+1)*460000-1 <= len(data):\n",
    "            data_temp = data[i*460000+0:(i+1)*460000-1]\n",
    "        else:\n",
    "            data_temp = data[i*460000+0:len(data)]\n",
    "        tokens = extract_tokens(data_temp)\n",
    "        tokens_all.append(tokens)\n",
    "        i += 1\n",
    "    tokens_all = list(itertools.chain(*tokens_all))\n",
    "    return tokens_all   "
   ]
  },
  {
   "cell_type": "code",
   "execution_count": 68,
   "metadata": {},
   "outputs": [],
   "source": [
    "tokens_1 = ext_all(data1)"
   ]
  },
  {
   "cell_type": "code",
   "execution_count": 70,
   "metadata": {},
   "outputs": [
    {
     "data": {
      "text/plain": [
       "103646855"
      ]
     },
     "execution_count": 70,
     "metadata": {},
     "output_type": "execute_result"
    }
   ],
   "source": [
    "len(tokens_1)"
   ]
  },
  {
   "cell_type": "code",
   "execution_count": 73,
   "metadata": {},
   "outputs": [],
   "source": [
    "f =open(\"tk_1.txt\",\"w\")\n",
    "sep = ','\n",
    "f.write(sep.join(tokens_1))\n",
    "f.close()"
   ]
  },
  {
   "cell_type": "code",
   "execution_count": 72,
   "metadata": {},
   "outputs": [
    {
     "data": {
      "text/plain": [
       "['数学', '数学', '是', '利用', '符号语言', '研究', '数量', '、', '结构', '、']"
      ]
     },
     "execution_count": 72,
     "metadata": {},
     "output_type": "execute_result"
    }
   ],
   "source": [
    "tokens_1[0:10]"
   ]
  },
  {
   "cell_type": "code",
   "execution_count": 75,
   "metadata": {},
   "outputs": [],
   "source": [
    "tokens_2 = ext_all(data2)\n",
    "f =open(\"tk_2.txt\",\"w\")\n",
    "sep = ','\n",
    "f.write(sep.join(tokens_2))\n",
    "f.close()"
   ]
  },
  {
   "cell_type": "code",
   "execution_count": 76,
   "metadata": {},
   "outputs": [],
   "source": [
    "tokens_2 = []"
   ]
  },
  {
   "cell_type": "code",
   "execution_count": 77,
   "metadata": {},
   "outputs": [],
   "source": [
    "tokens_3 = ext_all(data3)\n",
    "f =open(\"tk_3.txt\",\"w\")\n",
    "sep = ','\n",
    "f.write(sep.join(tokens_3))\n",
    "f.close()"
   ]
  },
  {
   "cell_type": "code",
   "execution_count": 79,
   "metadata": {},
   "outputs": [
    {
     "data": {
      "text/plain": [
       "['贵州省', '遵义市', '第四', '中学', '贵州省', '遵义市', '第四', '中学', '，', '创立']"
      ]
     },
     "execution_count": 79,
     "metadata": {},
     "output_type": "execute_result"
    }
   ],
   "source": [
    "tokens_3[0:10]"
   ]
  },
  {
   "cell_type": "code",
   "execution_count": null,
   "metadata": {},
   "outputs": [],
   "source": []
  }
 ],
 "metadata": {
  "kernelspec": {
   "display_name": "Python 3",
   "language": "python",
   "name": "python3"
  },
  "language_info": {
   "codemirror_mode": {
    "name": "ipython",
    "version": 3
   },
   "file_extension": ".py",
   "mimetype": "text/x-python",
   "name": "python",
   "nbconvert_exporter": "python",
   "pygments_lexer": "ipython3",
   "version": "3.6.8"
  }
 },
 "nbformat": 4,
 "nbformat_minor": 2
}
