{
 "cells": [
  {
   "cell_type": "markdown",
   "metadata": {},
   "source": [
    "### Model 1: size=300, window=5, min_count=2"
   ]
  },
  {
   "cell_type": "code",
   "execution_count": 53,
   "metadata": {},
   "outputs": [],
   "source": [
    "?word2vec.PathLineSentences()"
   ]
  },
  {
   "cell_type": "code",
   "execution_count": 20,
   "metadata": {},
   "outputs": [
    {
     "name": "stdout",
     "output_type": "stream",
     "text": [
      "0.46607238\n",
      "0.7714928\n",
      "0.07077112\n",
      "My program took 1586.9379830360413 to run\n"
     ]
    }
   ],
   "source": [
    "## use model = word2vec.Word2Vec.load(\"../models/wiki_news.model\") to load the model if you need to re-train the model\n",
    "# 将Word转换成Vec，然后计算相似度 \n",
    "from gensim.models import word2vec\n",
    "import multiprocessing\n",
    "\n",
    "# 如果目录中有多个文件，可以使用PathLineSentences\n",
    "sentences = word2vec.PathLineSentences('../segment')\n",
    "# 设置模型参数，进行训练\n",
    "import time\n",
    "start_time = time.time()\n",
    "model = word2vec.Word2Vec(sentences, size=300, window=5, min_count=2,workers=multiprocessing.cpu_count())\n",
    "print(model.wv.similarity('研发', '研究'))\n",
    "print(model.wv.similarity('爸爸', '妈妈'))\n",
    "print(model.wv.similarity('研发', '发达'))\n",
    "#save the model\n",
    "model.save('../models/wiki_news.model')\n",
    "print (\"My program took\", time.time() - start_time, \"to run\")"
   ]
  },
  {
   "cell_type": "markdown",
   "metadata": {},
   "source": [
    "### Output word vectors to wiki_news_word_vector.txt for SIF embeddings"
   ]
  },
  {
   "cell_type": "code",
   "execution_count": 9,
   "metadata": {},
   "outputs": [],
   "source": [
    "word_list=list(model.wv.vocab.keys())\n",
    "word_vector_file= open(\"wiki_news_word_vector.txt\",\"a\")\n",
    "for a, i in enumerate(word_list):\n",
    "    #print (i + ' '+' '.join(map(str, model.wv[i[0]]))  )\n",
    "    if a%100000==0:\n",
    "        print (a)\n",
    "    string=(i + ' '+' '.join(map(str, model.wv[i]))+'\\n'  )\n",
    "    word_vector_file.write(string)\n",
    "word_vector_file.close()"
   ]
  },
  {
   "cell_type": "markdown",
   "metadata": {},
   "source": [
    "### Model 1 Statistics"
   ]
  },
  {
   "cell_type": "code",
   "execution_count": 5,
   "metadata": {},
   "outputs": [],
   "source": [
    "from gensim.models import word2vec\n",
    "model = word2vec.Word2Vec.load(\"../models/wiki_news.model\")"
   ]
  },
  {
   "cell_type": "code",
   "execution_count": 6,
   "metadata": {},
   "outputs": [
    {
     "data": {
      "text/plain": [
       "6676737"
      ]
     },
     "execution_count": 6,
     "metadata": {},
     "output_type": "execute_result"
    }
   ],
   "source": [
    "model.corpus_count"
   ]
  },
  {
   "cell_type": "code",
   "execution_count": 7,
   "metadata": {},
   "outputs": [
    {
     "data": {
      "text/plain": [
       "1439547"
      ]
     },
     "execution_count": 7,
     "metadata": {},
     "output_type": "execute_result"
    }
   ],
   "source": [
    "len(model.wv.vocab.items())"
   ]
  },
  {
   "cell_type": "code",
   "execution_count": 8,
   "metadata": {},
   "outputs": [
    {
     "data": {
      "text/plain": [
       "['小米',\n",
       " 'MIUI',\n",
       " '9',\n",
       " '首批',\n",
       " '机型',\n",
       " '曝光',\n",
       " '：',\n",
       " '共计',\n",
       " '15',\n",
       " '款',\n",
       " '此外',\n",
       " '，',\n",
       " '自',\n",
       " '本周',\n",
       " '（',\n",
       " '6',\n",
       " '月',\n",
       " '12',\n",
       " '日',\n",
       " '）']"
      ]
     },
     "execution_count": 8,
     "metadata": {},
     "output_type": "execute_result"
    }
   ],
   "source": [
    "list(model.wv.vocab.keys())[:20]"
   ]
  },
  {
   "cell_type": "markdown",
   "metadata": {},
   "source": [
    "### Test word vectors from model 1:"
   ]
  },
  {
   "cell_type": "code",
   "execution_count": 10,
   "metadata": {},
   "outputs": [
    {
     "data": {
      "text/plain": [
       "[('爸爸', 0.7714928388595581),\n",
       " ('奶奶', 0.7095995545387268),\n",
       " ('外婆', 0.6762410998344421),\n",
       " ('女朋友', 0.6670173406600952),\n",
       " ('男朋友', 0.6608315110206604),\n",
       " ('阿姨', 0.6569209098815918),\n",
       " ('老婆', 0.6551576852798462),\n",
       " ('老爸', 0.6529766321182251),\n",
       " ('爸妈', 0.6499042510986328),\n",
       " ('姨妈', 0.6455265879631042)]"
      ]
     },
     "execution_count": 10,
     "metadata": {},
     "output_type": "execute_result"
    }
   ],
   "source": [
    "import warnings\n",
    "warnings.filterwarnings('ignore')\n",
    "model.wv.most_similar('妈妈')"
   ]
  },
  {
   "cell_type": "code",
   "execution_count": 11,
   "metadata": {},
   "outputs": [
    {
     "data": {
      "text/plain": [
       "[('美人', 0.6009103059768677),\n",
       " ('美少年', 0.6008457541465759),\n",
       " ('美艳', 0.595767617225647),\n",
       " ('帅哥', 0.5919140577316284),\n",
       " ('美貌', 0.5739984512329102),\n",
       " ('美男子', 0.573839008808136),\n",
       " ('谐星', 0.5614113807678223),\n",
       " ('贵妇', 0.5612012147903442),\n",
       " ('千金小姐', 0.5525163412094116),\n",
       " ('女鬼', 0.5499413013458252)]"
      ]
     },
     "execution_count": 11,
     "metadata": {},
     "output_type": "execute_result"
    }
   ],
   "source": [
    "model.wv.most_similar('美女')"
   ]
  },
  {
   "cell_type": "code",
   "execution_count": 12,
   "metadata": {},
   "outputs": [
    {
     "data": {
      "text/plain": [
       "[('中兴通讯', 0.7180880904197693),\n",
       " ('三星电子', 0.6611620783805847),\n",
       " ('OPPO', 0.6423127055168152),\n",
       " ('中国联通', 0.6417484283447266),\n",
       " ('魅族', 0.6330646872520447),\n",
       " ('中国电信', 0.6325844526290894),\n",
       " ('华硕', 0.6323373317718506),\n",
       " ('华为公司', 0.6272257566452026),\n",
       " ('宏碁', 0.6134549975395203),\n",
       " ('摩托罗拉', 0.6034471988677979)]"
      ]
     },
     "execution_count": 12,
     "metadata": {},
     "output_type": "execute_result"
    }
   ],
   "source": [
    "model.wv.most_similar('华为')"
   ]
  },
  {
   "cell_type": "code",
   "execution_count": 14,
   "metadata": {},
   "outputs": [
    {
     "data": {
      "text/plain": [
       "[('processing', 0.8172861337661743),\n",
       " ('control', 0.8158136606216431),\n",
       " ('Integrated', 0.8143075704574585),\n",
       " ('Management', 0.8119733333587646),\n",
       " ('Processing', 0.8069379329681396),\n",
       " ('systems', 0.8064823150634766),\n",
       " ('Operational', 0.8058236837387085),\n",
       " ('software', 0.8056922554969788),\n",
       " ('Process', 0.8031324744224548),\n",
       " ('Instruction', 0.8018696308135986)]"
      ]
     },
     "execution_count": 14,
     "metadata": {},
     "output_type": "execute_result"
    }
   ],
   "source": [
    "model.wv.most_similar('management')"
   ]
  },
  {
   "cell_type": "code",
   "execution_count": 13,
   "metadata": {},
   "outputs": [
    {
     "data": {
      "text/plain": [
       "[('Volumn1', 0.8714377284049988),\n",
       " ('吴家镇', 0.8665515184402466),\n",
       " ('加尔梅克', 0.8641220927238464),\n",
       " ('87.52', 0.8640688061714172),\n",
       " ('Daling', 0.8630167841911316),\n",
       " ('韩秀妍', 0.8626471757888794),\n",
       " ('龚砚庆', 0.8612948656082153),\n",
       " ('普吕努瓦', 0.8612275123596191),\n",
       " ('目矮甲', 0.8612179756164551),\n",
       " ('天降奇缘', 0.8597155809402466)]"
      ]
     },
     "execution_count": 13,
     "metadata": {},
     "output_type": "execute_result"
    }
   ],
   "source": [
    "model.wv.most_similar('30091')"
   ]
  },
  {
   "cell_type": "code",
   "execution_count": 15,
   "metadata": {},
   "outputs": [
    {
     "data": {
      "text/plain": [
       "[('11', 0.9885998368263245),\n",
       " ('9', 0.9861344695091248),\n",
       " ('8', 0.9852745532989502),\n",
       " ('7', 0.9838634729385376),\n",
       " ('6', 0.9750338792800903),\n",
       " ('10', 0.9728521108627319),\n",
       " ('5', 0.9683938026428223),\n",
       " ('4', 0.9557263851165771),\n",
       " ('3', 0.9396927356719971),\n",
       " ('22', 0.9151217937469482)]"
      ]
     },
     "execution_count": 15,
     "metadata": {},
     "output_type": "execute_result"
    }
   ],
   "source": [
    "model.wv.most_similar('12')"
   ]
  },
  {
   "cell_type": "code",
   "execution_count": 16,
   "metadata": {},
   "outputs": [
    {
     "data": {
      "text/plain": [
       "[('watchOS', 0.6904703378677368),\n",
       " ('Nexus', 0.6731964349746704),\n",
       " ('BlackBerry', 0.6686512231826782),\n",
       " ('EMUI', 0.666523277759552),\n",
       " ('Symbian', 0.663722813129425),\n",
       " ('安卓', 0.6545510292053223),\n",
       " ('Note', 0.6446356773376465),\n",
       " ('Android', 0.6433008909225464),\n",
       " ('Nokia', 0.6340469121932983),\n",
       " ('IOS', 0.6333281397819519)]"
      ]
     },
     "execution_count": 16,
     "metadata": {},
     "output_type": "execute_result"
    }
   ],
   "source": [
    "model.wv.most_similar('MIUI')"
   ]
  },
  {
   "cell_type": "code",
   "execution_count": 17,
   "metadata": {},
   "outputs": [
    {
     "data": {
      "text/plain": [
       "[('红米', 0.6888630390167236),\n",
       " ('魅族', 0.6621477603912354),\n",
       " ('OPPO', 0.617629885673523),\n",
       " ('苹果', 0.6170429587364197),\n",
       " ('iPhone', 0.5967674255371094),\n",
       " ('一加', 0.5939584374427795),\n",
       " ('MIUI', 0.5848538875579834),\n",
       " ('黑莓', 0.5801552534103394),\n",
       " ('华硕', 0.5766901969909668),\n",
       " ('Note', 0.570895791053772)]"
      ]
     },
     "execution_count": 17,
     "metadata": {},
     "output_type": "execute_result"
    }
   ],
   "source": [
    "model.wv.most_similar('小米')"
   ]
  },
  {
   "cell_type": "code",
   "execution_count": 20,
   "metadata": {},
   "outputs": [
    {
     "name": "stdout",
     "output_type": "stream",
     "text": [
      "西语\n"
     ]
    }
   ],
   "source": [
    "def analogy(x1, x2, y1):\n",
    "    result = model.most_similar\n",
    "    (positive=[y1,x2], negative=[x1])\n",
    "    return result[0][0]\n",
    "print (analogy('中国','汉语','美国'))"
   ]
  },
  {
   "cell_type": "code",
   "execution_count": 21,
   "metadata": {},
   "outputs": [
    {
     "name": "stdout",
     "output_type": "stream",
     "text": [
      "温家宝\n"
     ]
    }
   ],
   "source": [
    "print (analogy('美国','奥巴马', '中国'))"
   ]
  },
  {
   "cell_type": "code",
   "execution_count": 22,
   "metadata": {},
   "outputs": [
    {
     "name": "stdout",
     "output_type": "stream",
     "text": [
      "狡猾\n"
     ]
    }
   ],
   "source": [
    "print (analogy('美丽','丑陋', '善良'))"
   ]
  },
  {
   "cell_type": "code",
   "execution_count": 24,
   "metadata": {},
   "outputs": [
    {
     "name": "stdout",
     "output_type": "stream",
     "text": [
      "电磁学\n"
     ]
    }
   ],
   "source": [
    "print (analogy('数学','微积分', '物理'))"
   ]
  },
  {
   "cell_type": "code",
   "execution_count": 49,
   "metadata": {},
   "outputs": [
    {
     "data": {
      "image/png": "[encoded data removed]",
      "text/plain": [
       "<Figure size 720x720 with 1 Axes>"
      ]
     },
     "metadata": {
      "needs_background": "light"
     },
     "output_type": "display_data"
    }
   ],
   "source": [
    "from sklearn.manifold import TSNE\n",
    "import random\n",
    "import matplotlib.pyplot as plt\n",
    "%matplotlib inline\n",
    "\n",
    "def tsne_plot(model,n_words_to_plot):\n",
    "    \"\"\"\n",
    "    Get n_words_to_plot random samples of words from the model and\n",
    "    visulize result by t-sne\n",
    "    https://www.kaggle.com/jeffd23/visualizing-word-vectors-with-t-sne\n",
    "    \"\"\"\n",
    "    labels = []\n",
    "    tokens = []\n",
    "    \n",
    "    words_to_plot=random.sample(list(model.wv.vocab),n_words_to_plot)\n",
    "\n",
    "    for word in words_to_plot:\n",
    "        tokens.append(model[word])\n",
    "        labels.append(word)\n",
    "    \n",
    "    tsne_model = TSNE(perplexity=40, n_components=2, init='pca', n_iter=2500, random_state=23)\n",
    "    new_values = tsne_model.fit_transform(tokens)\n",
    "\n",
    "    x = []\n",
    "    y = []\n",
    "    for value in new_values:\n",
    "        x.append(value[0])\n",
    "        y.append(value[1])\n",
    "        \n",
    "    plt.figure(figsize=(10, 10)) \n",
    "    for i in range(len(x)):\n",
    "        plt.scatter(x[i],y[i])\n",
    "        plt.annotate(labels[i],\n",
    "                     xy=(x[i], y[i]),\n",
    "                     xytext=(5, 2),\n",
    "                     textcoords='offset points',\n",
    "                     ha='right',\n",
    "                     va='bottom')\n",
    "    plt.show()\n",
    "tsne_plot(model,100)"
   ]
  },
  {
   "cell_type": "markdown",
   "metadata": {},
   "source": [
    "### Model 2:  size=100, window=5, min_count=10"
   ]
  },
  {
   "cell_type": "code",
   "execution_count": 9,
   "metadata": {},
   "outputs": [
    {
     "name": "stdout",
     "output_type": "stream",
     "text": [
      "0.5295657\n",
      "0.8939376\n",
      "0.10712029\n",
      "My program took 1172.2151808738708 to run\n"
     ]
    }
   ],
   "source": [
    "# 将Word转换成Vec，然后计算相似度 \n",
    "from gensim.models import word2vec\n",
    "import multiprocessing\n",
    "# 如果目录中有多个文件，可以使用PathLineSentences\n",
    "sentences = word2vec.PathLineSentences('../segment')\n",
    "# 设置模型参数，进行训练\n",
    "import time\n",
    "start_time = time.time()\n",
    "model2 = word2vec.Word2Vec(sentences, size=100, window=5, min_count=10,workers=multiprocessing.cpu_count())\n",
    "print(model2.wv.similarity('研发', '研究'))\n",
    "print(model2.wv.similarity('爸爸', '妈妈'))\n",
    "print(model2.wv.similarity('研发', '发达'))\n",
    "#save the model\n",
    "model2.save('../models/wiki_news_model2.model')\n",
    "print (\"My program took\", time.time() - start_time, \"to run\")"
   ]
  },
  {
   "cell_type": "markdown",
   "metadata": {},
   "source": [
    "### Export the word vector from model 2 for SIF sentences embedding"
   ]
  },
  {
   "cell_type": "code",
   "execution_count": 32,
   "metadata": {},
   "outputs": [
    {
     "name": "stdout",
     "output_type": "stream",
     "text": [
      "0\n",
      "100000\n",
      "200000\n",
      "300000\n",
      "400000\n"
     ]
    }
   ],
   "source": [
    "word_list=list(model2.wv.vocab.keys())\n",
    "word_vector_file= open(\"../models/wiki_news_model2_vector.txt\",\"a\")\n",
    "for a, i in enumerate(word_list):\n",
    "    #print (i + ' '+' '.join(map(str, model.wv[i[0]]))  )\n",
    "    if a%100000==0:\n",
    "        print (a)\n",
    "    string=(i + ' '+' '.join(map(str, model2.wv[i]))+'\\n'  )\n",
    "    word_vector_file.write(string)\n",
    "word_vector_file.close()"
   ]
  },
  {
   "cell_type": "markdown",
   "metadata": {},
   "source": [
    "### Model 2 Statistics:"
   ]
  },
  {
   "cell_type": "code",
   "execution_count": 29,
   "metadata": {},
   "outputs": [],
   "source": [
    "model2 = word2vec.Word2Vec.load(\"../models/wiki_news_model2.model\")"
   ]
  },
  {
   "cell_type": "code",
   "execution_count": 30,
   "metadata": {},
   "outputs": [
    {
     "data": {
      "text/plain": [
       "6676737"
      ]
     },
     "execution_count": 30,
     "metadata": {},
     "output_type": "execute_result"
    }
   ],
   "source": [
    "model2.corpus_count"
   ]
  },
  {
   "cell_type": "code",
   "execution_count": 31,
   "metadata": {},
   "outputs": [
    {
     "data": {
      "text/plain": [
       "447053"
      ]
     },
     "execution_count": 31,
     "metadata": {},
     "output_type": "execute_result"
    }
   ],
   "source": [
    "len(model2.wv.vocab.items())"
   ]
  },
  {
   "cell_type": "markdown",
   "metadata": {},
   "source": [
    "### Test word vectors from model 2:"
   ]
  },
  {
   "cell_type": "code",
   "execution_count": 32,
   "metadata": {},
   "outputs": [
    {
     "data": {
      "text/plain": [
       "[('爸爸', 0.8939375281333923),\n",
       " ('爸妈', 0.8064553737640381),\n",
       " ('老公', 0.804161548614502),\n",
       " ('奶奶', 0.800416111946106),\n",
       " ('女孩', 0.7988275289535522),\n",
       " ('女朋友', 0.7986655235290527),\n",
       " ('老婆', 0.7909199595451355),\n",
       " ('小孩', 0.7895360589027405),\n",
       " ('小美', 0.7879323959350586),\n",
       " ('外婆', 0.782328724861145)]"
      ]
     },
     "execution_count": 32,
     "metadata": {},
     "output_type": "execute_result"
    }
   ],
   "source": [
    "model2.wv.most_similar('妈妈')"
   ]
  },
  {
   "cell_type": "code",
   "execution_count": 33,
   "metadata": {},
   "outputs": [
    {
     "data": {
      "text/plain": [
       "[('美人', 0.7188432216644287),\n",
       " ('帅哥', 0.6966958045959473),\n",
       " ('大叔', 0.6888607740402222),\n",
       " ('淑女', 0.685681939125061),\n",
       " ('美艳', 0.6797710657119751),\n",
       " ('美少年', 0.6678491234779358),\n",
       " ('少妇', 0.6646937727928162),\n",
       " ('绝色', 0.6636474132537842),\n",
       " ('妖艳', 0.6564374566078186),\n",
       " ('金发', 0.6481841802597046)]"
      ]
     },
     "execution_count": 33,
     "metadata": {},
     "output_type": "execute_result"
    }
   ],
   "source": [
    "model2.wv.most_similar('美女')"
   ]
  },
  {
   "cell_type": "code",
   "execution_count": 34,
   "metadata": {},
   "outputs": [
    {
     "data": {
      "text/plain": [
       "[('中兴通讯', 0.8015539646148682),\n",
       " ('谷歌', 0.7291452884674072),\n",
       " ('魅族', 0.7277430295944214),\n",
       " ('联想集团', 0.7193110585212708),\n",
       " ('华为公司', 0.717620849609375),\n",
       " ('奇虎', 0.7172646522521973),\n",
       " ('OPPO', 0.7148749828338623),\n",
       " ('华硕', 0.7064027786254883),\n",
       " ('三星电子', 0.7049561142921448),\n",
       " ('微软', 0.6993106603622437)]"
      ]
     },
     "execution_count": 34,
     "metadata": {},
     "output_type": "execute_result"
    }
   ],
   "source": [
    "model2.wv.most_similar('华为')"
   ]
  },
  {
   "cell_type": "code",
   "execution_count": 35,
   "metadata": {},
   "outputs": [
    {
     "data": {
      "text/plain": [
       "[('Resource', 0.9037126898765564),\n",
       " ('services', 0.8867795467376709),\n",
       " ('Process', 0.8721637725830078),\n",
       " ('Processing', 0.8715369701385498),\n",
       " ('Instruction', 0.8686017394065857),\n",
       " ('service', 0.8676193952560425),\n",
       " ('software', 0.8676156997680664),\n",
       " ('technology', 0.8671813607215881),\n",
       " ('Integrated', 0.8658913969993591),\n",
       " ('processing', 0.8654922842979431)]"
      ]
     },
     "execution_count": 35,
     "metadata": {},
     "output_type": "execute_result"
    }
   ],
   "source": [
    "model2.wv.most_similar('management')"
   ]
  },
  {
   "cell_type": "code",
   "execution_count": 36,
   "metadata": {},
   "outputs": [
    {
     "data": {
      "text/plain": [
       "[('11', 0.9945169687271118),\n",
       " ('9', 0.9941761493682861),\n",
       " ('7', 0.9931890964508057),\n",
       " ('8', 0.9928522706031799),\n",
       " ('6', 0.9877157807350159),\n",
       " ('10', 0.9867614507675171),\n",
       " ('5', 0.9840888381004333),\n",
       " ('4', 0.9760638475418091),\n",
       " ('3', 0.9653990268707275),\n",
       " ('1', 0.9433048963546753)]"
      ]
     },
     "execution_count": 36,
     "metadata": {},
     "output_type": "execute_result"
    }
   ],
   "source": [
    "model2.wv.most_similar('12')"
   ]
  },
  {
   "cell_type": "code",
   "execution_count": 37,
   "metadata": {},
   "outputs": [
    {
     "data": {
      "text/plain": [
       "[('IOS', 0.8223806619644165),\n",
       " ('Nexus', 0.8114953637123108),\n",
       " ('BlackBerry', 0.8086761236190796),\n",
       " ('CyanogenMod', 0.7756826877593994),\n",
       " ('Ryzen', 0.7740944623947144),\n",
       " ('Symbian', 0.7684909701347351),\n",
       " ('Oreo', 0.7678535580635071),\n",
       " ('watchOS', 0.765913188457489),\n",
       " ('安卓', 0.7616363763809204),\n",
       " ('Direct3D', 0.7598286867141724)]"
      ]
     },
     "execution_count": 37,
     "metadata": {},
     "output_type": "execute_result"
    }
   ],
   "source": [
    "model2.wv.most_similar('MIUI')"
   ]
  },
  {
   "cell_type": "code",
   "execution_count": 38,
   "metadata": {},
   "outputs": [
    {
     "data": {
      "text/plain": [
       "[('红米', 0.7814642786979675),\n",
       " ('魅族', 0.720660924911499),\n",
       " ('苹果', 0.714350700378418),\n",
       " ('一加', 0.6932433843612671),\n",
       " ('iPhone', 0.6911564469337463),\n",
       " ('MIUI', 0.6835007667541504),\n",
       " ('Mate', 0.6806187629699707),\n",
       " ('Nexus', 0.6622345447540283),\n",
       " ('Note', 0.6597521901130676),\n",
       " ('雷军', 0.6536288261413574)]"
      ]
     },
     "execution_count": 38,
     "metadata": {},
     "output_type": "execute_result"
    }
   ],
   "source": [
    "model2.wv.most_similar('小米')"
   ]
  },
  {
   "cell_type": "code",
   "execution_count": 39,
   "metadata": {},
   "outputs": [
    {
     "name": "stdout",
     "output_type": "stream",
     "text": [
      "法语\n"
     ]
    }
   ],
   "source": [
    "def analogy(x1, x2, y1):\n",
    "    result = model2.most_similar\n",
    "    (positive=[y1,x2], negative=[x1])\n",
    "    return result[0][0]\n",
    "print (analogy('中国','汉语','美国'))"
   ]
  },
  {
   "cell_type": "code",
   "execution_count": 40,
   "metadata": {},
   "outputs": [
    {
     "name": "stdout",
     "output_type": "stream",
     "text": [
      "江泽民\n"
     ]
    }
   ],
   "source": [
    "print (analogy('美国','奥巴马', '中国'))"
   ]
  },
  {
   "cell_type": "code",
   "execution_count": 41,
   "metadata": {},
   "outputs": [
    {
     "name": "stdout",
     "output_type": "stream",
     "text": [
      "狡猾\n"
     ]
    }
   ],
   "source": [
    "print (analogy('美丽','丑陋', '善良'))"
   ]
  },
  {
   "cell_type": "code",
   "execution_count": 42,
   "metadata": {},
   "outputs": [
    {
     "name": "stdout",
     "output_type": "stream",
     "text": [
      "统计力学\n"
     ]
    }
   ],
   "source": [
    "print (analogy('数学','微积分', '物理'))"
   ]
  },
  {
   "cell_type": "markdown",
   "metadata": {},
   "source": [
    "### random sample 50 words from model2 for visulization"
   ]
  },
  {
   "cell_type": "code",
   "execution_count": 47,
   "metadata": {},
   "outputs": [
    {
     "data": {
      "image/png": "[encoded data removed]",
      "text/plain": [
       "<Figure size 720x720 with 1 Axes>"
      ]
     },
     "metadata": {
      "needs_background": "light"
     },
     "output_type": "display_data"
    }
   ],
   "source": [
    "tsne_plot(model2,100)"
   ]
  },
  {
   "cell_type": "markdown",
   "metadata": {},
   "source": [
    "### Model 3 :size=75, window=5, min_count=5"
   ]
  },
  {
   "cell_type": "code",
   "execution_count": 50,
   "metadata": {},
   "outputs": [
    {
     "name": "stdout",
     "output_type": "stream",
     "text": [
      "0.54009235\n",
      "0.91908044\n",
      "0.13948628\n",
      "My program took 1293.7505719661713 to run\n"
     ]
    }
   ],
   "source": [
    "# 将Word转换成Vec，然后计算相似度 \n",
    "from gensim.models import word2vec\n",
    "import multiprocessing\n",
    "# 如果目录中有多个文件，可以使用PathLineSentences\n",
    "sentences = word2vec.PathLineSentences('../segment')\n",
    "# 设置模型参数，进行训练\n",
    "import time\n",
    "start_time = time.time()\n",
    "model3 = word2vec.Word2Vec(sentences, size=75, window=5, min_count=5,workers=multiprocessing.cpu_count())\n",
    "print(model3.wv.similarity('研发', '研究'))\n",
    "print(model3.wv.similarity('爸爸', '妈妈'))\n",
    "print(model3.wv.similarity('研发', '发达'))\n",
    "#save the model\n",
    "model3.save('../models/wiki_news_model3.model')\n",
    "print (\"My program took\", time.time() - start_time, \"to run\")"
   ]
  },
  {
   "cell_type": "code",
   "execution_count": 51,
   "metadata": {},
   "outputs": [
    {
     "data": {
      "text/plain": [
       "700649"
      ]
     },
     "execution_count": 51,
     "metadata": {},
     "output_type": "execute_result"
    }
   ],
   "source": [
    "len(model3.wv.vocab.items())"
   ]
  },
  {
   "cell_type": "code",
   "execution_count": 52,
   "metadata": {},
   "outputs": [
    {
     "name": "stdout",
     "output_type": "stream",
     "text": [
      "0\n",
      "100000\n",
      "200000\n",
      "300000\n",
      "400000\n",
      "500000\n",
      "600000\n",
      "700000\n"
     ]
    }
   ],
   "source": [
    "word_list=list(model3.wv.vocab.keys())\n",
    "word_vector_file= open(\"../models/wiki_news_model3_vector.txt\",\"a\")\n",
    "for a, i in enumerate(word_list):\n",
    "    #print (i + ' '+' '.join(map(str, model.wv[i[0]]))  )\n",
    "    if a%100000==0:\n",
    "        print (a)\n",
    "    string=(i + ' '+' '.join(map(str, model3.wv[i]))+'\\n'  )\n",
    "    word_vector_file.write(string)\n",
    "word_vector_file.close()"
   ]
  },
  {
   "cell_type": "code",
   "execution_count": 58,
   "metadata": {},
   "outputs": [
    {
     "data": {
      "text/plain": [
       "[('大', 0.7463065385818481),\n",
       " ('细小', 0.643763542175293),\n",
       " ('少', 0.6311187744140625),\n",
       " ('多', 0.6283155679702759),\n",
       " ('薄', 0.5852642059326172),\n",
       " ('高', 0.5806493759155273),\n",
       " ('短', 0.5760185718536377),\n",
       " ('窄小', 0.5702759623527527),\n",
       " ('暗', 0.5698781609535217),\n",
       " ('细', 0.5611412525177002)]"
      ]
     },
     "execution_count": 58,
     "metadata": {},
     "output_type": "execute_result"
    }
   ],
   "source": [
    "model2.wv.most_similar('小')"
   ]
  },
  {
   "cell_type": "code",
   "execution_count": 54,
   "metadata": {},
   "outputs": [
    {
     "name": "stdout",
     "output_type": "stream",
     "text": [
      "法语\n"
     ]
    }
   ],
   "source": [
    "def analogy(x1, x2, y1):\n",
    "    result = model3.most_similar(positive=[y1,x2], negative=[x1])\n",
    "    return result[0][0]\n",
    "print (analogy('中国','汉语','美国'))"
   ]
  },
  {
   "cell_type": "code",
   "execution_count": 57,
   "metadata": {},
   "outputs": [
    {
     "name": "stdout",
     "output_type": "stream",
     "text": [
      "江泽民\n"
     ]
    }
   ],
   "source": [
    "print (analogy('美国','奥巴马', '中国'))"
   ]
  },
  {
   "cell_type": "code",
   "execution_count": 55,
   "metadata": {},
   "outputs": [
    {
     "name": "stdout",
     "output_type": "stream",
     "text": [
      "统计力学\n"
     ]
    }
   ],
   "source": [
    "print (analogy('数学','微积分', '物理'))"
   ]
  },
  {
   "cell_type": "code",
   "execution_count": 56,
   "metadata": {},
   "outputs": [
    {
     "name": "stdout",
     "output_type": "stream",
     "text": [
      "懦弱\n"
     ]
    }
   ],
   "source": [
    "print (analogy('美丽','丑陋', '善良'))"
   ]
  },
  {
   "cell_type": "markdown",
   "metadata": {},
   "source": [
    "### Model can be updated by adding new sentences"
   ]
  },
  {
   "cell_type": "code",
   "execution_count": null,
   "metadata": {},
   "outputs": [],
   "source": [
    "model = word2vec.Word2Vec.load(\"../models/word2vec.model\")\n",
    "new_sentences = [[\"6月12日\", \"6月13日\"],[\"7月12日\", \"7月13日\"]]\n",
    "model.build_vocab(new_sentences, update=True)\n",
    "model.train(new_sentences,total_examples=2,epochs=1)\n",
    "#model.save('../models/word2Vec.model')"
   ]
  }
 ],
 "metadata": {
  "kernelspec": {
   "display_name": "Python 3",
   "language": "python",
   "name": "python3"
  },
  "language_info": {
   "codemirror_mode": {
    "name": "ipython",
    "version": 3
   },
   "file_extension": ".py",
   "mimetype": "text/x-python",
   "name": "python",
   "nbconvert_exporter": "python",
   "pygments_lexer": "ipython3",
   "version": "3.6.8"
  }
 },
 "nbformat": 4,
 "nbformat_minor": 2
}
